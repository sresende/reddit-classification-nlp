{
 "cells": [
  {
   "cell_type": "markdown",
   "metadata": {},
   "source": [
    "# Project #3\n",
    "_____"
   ]
  },
  {
   "cell_type": "markdown",
   "metadata": {},
   "source": [
    "# Data Cleaning and Exploratory Analysis\n",
    "> Author: Si|via Resende\n",
    "\n",
    "---"
   ]
  },
  {
   "cell_type": "markdown",
   "metadata": {},
   "source": [
    "Null and invalid values such as 'delete', 'Title' and 'Title.' have been removed from the dataset of the columns used in question. In a later step, it was noticed that links from several sites occurred with a certain frequency and given that we will be using NPL for the analysis of this data, and as these links do not add value or information to the model, we remove them and put them in a new column so that they can be processed in future works.\n",
    "\n",
    "\n",
    "After, it was noticed that links from several sites occurred with a certain frequency and given that we will be using NPL for the analysis of this data, and as these links do not add value or information to the model, we remove them and put them in a new column so that they can be processed in future works. For language processing (NPL) we used several modules from the NLTK library such as word_tokenize, RegexpTokenizer, WordNetLemmatizer, and PorterStemmer. As the last step of data cleaning, we remove outliers and binarize our target."
   ]
  },
  {
   "cell_type": "markdown",
   "metadata": {},
   "source": [
    "#### Importing Libraries"
   ]
  },
  {
   "cell_type": "code",
   "execution_count": 793,
   "metadata": {},
   "outputs": [],
   "source": [
    "# Importing Libraries\n",
    "import pandas as pd \n",
    "import matplotlib.pyplot as plt\n",
    "import numpy as np\n",
    "import seaborn as sns\n",
    "\n",
    "# Libraries for NPL\n",
    "from nltk.tokenize import sent_tokenize, word_tokenize, RegexpTokenizer\n",
    "from nltk.stem import WordNetLemmatizer\n",
    "from nltk.stem.porter import PorterStemmer"
   ]
  },
  {
   "cell_type": "code",
   "execution_count": 794,
   "metadata": {},
   "outputs": [
    {
     "data": {
      "text/plain": [
       "(6137, 73)"
      ]
     },
     "execution_count": 794,
     "metadata": {},
     "output_type": "execute_result"
    }
   ],
   "source": [
    "# Reading and Checking Data \n",
    "subreddits = pd.read_csv('../data/subreddits_.csv')\n",
    "subreddits.drop(columns='Unnamed: 0', inplace=True)\n",
    "subreddits.shape"
   ]
  },
  {
   "cell_type": "code",
   "execution_count": 795,
   "metadata": {},
   "outputs": [
    {
     "data": {
      "text/html": [
       "<div>\n",
       "<style scoped>\n",
       "    .dataframe tbody tr th:only-of-type {\n",
       "        vertical-align: middle;\n",
       "    }\n",
       "\n",
       "    .dataframe tbody tr th {\n",
       "        vertical-align: top;\n",
       "    }\n",
       "\n",
       "    .dataframe thead th {\n",
       "        text-align: right;\n",
       "    }\n",
       "</style>\n",
       "<table border=\"1\" class=\"dataframe\">\n",
       "  <thead>\n",
       "    <tr style=\"text-align: right;\">\n",
       "      <th></th>\n",
       "      <th>all_awardings</th>\n",
       "      <th>allow_live_comments</th>\n",
       "      <th>author</th>\n",
       "      <th>author_flair_css_class</th>\n",
       "      <th>author_flair_richtext</th>\n",
       "      <th>author_flair_text</th>\n",
       "      <th>author_flair_type</th>\n",
       "      <th>author_fullname</th>\n",
       "      <th>author_is_blocked</th>\n",
       "      <th>author_patreon_flair</th>\n",
       "      <th>...</th>\n",
       "      <th>url</th>\n",
       "      <th>whitelist_status</th>\n",
       "      <th>wls</th>\n",
       "      <th>author_cakeday</th>\n",
       "      <th>author_flair_background_color</th>\n",
       "      <th>author_flair_text_color</th>\n",
       "      <th>author_flair_template_id</th>\n",
       "      <th>banned_by</th>\n",
       "      <th>call_to_action</th>\n",
       "      <th>category</th>\n",
       "    </tr>\n",
       "  </thead>\n",
       "  <tbody>\n",
       "    <tr>\n",
       "      <th>0</th>\n",
       "      <td>[]</td>\n",
       "      <td>False</td>\n",
       "      <td>--BlueDiamond--</td>\n",
       "      <td>NaN</td>\n",
       "      <td>[]</td>\n",
       "      <td>NaN</td>\n",
       "      <td>text</td>\n",
       "      <td>t2_e2ej5jrx</td>\n",
       "      <td>False</td>\n",
       "      <td>False</td>\n",
       "      <td>...</td>\n",
       "      <td>https://www.reddit.com/r/OutOfTheLoop/comments...</td>\n",
       "      <td>all_ads</td>\n",
       "      <td>6</td>\n",
       "      <td>NaN</td>\n",
       "      <td>NaN</td>\n",
       "      <td>NaN</td>\n",
       "      <td>NaN</td>\n",
       "      <td>NaN</td>\n",
       "      <td>NaN</td>\n",
       "      <td>NaN</td>\n",
       "    </tr>\n",
       "    <tr>\n",
       "      <th>1</th>\n",
       "      <td>[]</td>\n",
       "      <td>False</td>\n",
       "      <td>-1-1-1-1-1-1</td>\n",
       "      <td>NaN</td>\n",
       "      <td>[]</td>\n",
       "      <td>NaN</td>\n",
       "      <td>text</td>\n",
       "      <td>t2_5n5g2a13</td>\n",
       "      <td>False</td>\n",
       "      <td>False</td>\n",
       "      <td>...</td>\n",
       "      <td>https://www.reddit.com/r/explainlikeimfive/com...</td>\n",
       "      <td>all_ads</td>\n",
       "      <td>6</td>\n",
       "      <td>NaN</td>\n",
       "      <td>NaN</td>\n",
       "      <td>NaN</td>\n",
       "      <td>NaN</td>\n",
       "      <td>NaN</td>\n",
       "      <td>NaN</td>\n",
       "      <td>NaN</td>\n",
       "    </tr>\n",
       "    <tr>\n",
       "      <th>2</th>\n",
       "      <td>[]</td>\n",
       "      <td>False</td>\n",
       "      <td>-Aces_High-</td>\n",
       "      <td>NaN</td>\n",
       "      <td>[]</td>\n",
       "      <td>NaN</td>\n",
       "      <td>text</td>\n",
       "      <td>t2_1g0oz2oy</td>\n",
       "      <td>False</td>\n",
       "      <td>False</td>\n",
       "      <td>...</td>\n",
       "      <td>https://www.reddit.com/r/OutOfTheLoop/comments...</td>\n",
       "      <td>all_ads</td>\n",
       "      <td>6</td>\n",
       "      <td>NaN</td>\n",
       "      <td>NaN</td>\n",
       "      <td>NaN</td>\n",
       "      <td>NaN</td>\n",
       "      <td>NaN</td>\n",
       "      <td>NaN</td>\n",
       "      <td>NaN</td>\n",
       "    </tr>\n",
       "  </tbody>\n",
       "</table>\n",
       "<p>3 rows × 73 columns</p>\n",
       "</div>"
      ],
      "text/plain": [
       "  all_awardings  allow_live_comments           author author_flair_css_class  \\\n",
       "0            []                False  --BlueDiamond--                    NaN   \n",
       "1            []                False     -1-1-1-1-1-1                    NaN   \n",
       "2            []                False      -Aces_High-                    NaN   \n",
       "\n",
       "  author_flair_richtext author_flair_text author_flair_type author_fullname  \\\n",
       "0                    []               NaN              text     t2_e2ej5jrx   \n",
       "1                    []               NaN              text     t2_5n5g2a13   \n",
       "2                    []               NaN              text     t2_1g0oz2oy   \n",
       "\n",
       "   author_is_blocked author_patreon_flair  ...  \\\n",
       "0              False                False  ...   \n",
       "1              False                False  ...   \n",
       "2              False                False  ...   \n",
       "\n",
       "                                                 url whitelist_status  wls  \\\n",
       "0  https://www.reddit.com/r/OutOfTheLoop/comments...          all_ads    6   \n",
       "1  https://www.reddit.com/r/explainlikeimfive/com...          all_ads    6   \n",
       "2  https://www.reddit.com/r/OutOfTheLoop/comments...          all_ads    6   \n",
       "\n",
       "   author_cakeday  author_flair_background_color author_flair_text_color  \\\n",
       "0             NaN                            NaN                     NaN   \n",
       "1             NaN                            NaN                     NaN   \n",
       "2             NaN                            NaN                     NaN   \n",
       "\n",
       "  author_flair_template_id banned_by call_to_action  category  \n",
       "0                      NaN       NaN            NaN       NaN  \n",
       "1                      NaN       NaN            NaN       NaN  \n",
       "2                      NaN       NaN            NaN       NaN  \n",
       "\n",
       "[3 rows x 73 columns]"
      ]
     },
     "execution_count": 795,
     "metadata": {},
     "output_type": "execute_result"
    }
   ],
   "source": [
    "subreddits.head(3)"
   ]
  },
  {
   "cell_type": "code",
   "execution_count": 796,
   "metadata": {},
   "outputs": [
    {
     "data": {
      "text/plain": [
       "0"
      ]
     },
     "execution_count": 796,
     "metadata": {},
     "output_type": "execute_result"
    }
   ],
   "source": [
    "# Checking Duplicates\n",
    "subreddits.duplicated().sum()"
   ]
  },
  {
   "cell_type": "code",
   "execution_count": 797,
   "metadata": {},
   "outputs": [
    {
     "data": {
      "text/plain": [
       "(6137, 2)"
      ]
     },
     "execution_count": 797,
     "metadata": {},
     "output_type": "execute_result"
    }
   ],
   "source": [
    "# Dropping for 'selftext'\n",
    "df = subreddits[['subreddit','selftext']]\n",
    "df.shape"
   ]
  },
  {
   "cell_type": "code",
   "execution_count": 798,
   "metadata": {},
   "outputs": [
    {
     "data": {
      "text/plain": [
       "subreddit       0\n",
       "selftext     1703\n",
       "dtype: int64"
      ]
     },
     "execution_count": 798,
     "metadata": {},
     "output_type": "execute_result"
    }
   ],
   "source": [
    "# Checking in nulls\n",
    "df.isnull().sum()"
   ]
  },
  {
   "cell_type": "code",
   "execution_count": 799,
   "metadata": {},
   "outputs": [
    {
     "name": "stderr",
     "output_type": "stream",
     "text": [
      "/var/folders/l8/cflxs4pj1h362zjpxchj9jd00000gn/T/ipykernel_92448/2053667463.py:1: SettingWithCopyWarning: \n",
      "A value is trying to be set on a copy of a slice from a DataFrame\n",
      "\n",
      "See the caveats in the documentation: https://pandas.pydata.org/pandas-docs/stable/user_guide/indexing.html#returning-a-view-versus-a-copy\n",
      "  df.dropna(inplace=True)\n"
     ]
    },
    {
     "data": {
      "text/plain": [
       "(4434, 2)"
      ]
     },
     "execution_count": 799,
     "metadata": {},
     "output_type": "execute_result"
    }
   ],
   "source": [
    "# Deleting it\n",
    "df.dropna(inplace=True)\n",
    "df.shape"
   ]
  },
  {
   "cell_type": "code",
   "execution_count": 800,
   "metadata": {},
   "outputs": [
    {
     "name": "stderr",
     "output_type": "stream",
     "text": [
      "/var/folders/l8/cflxs4pj1h362zjpxchj9jd00000gn/T/ipykernel_92448/898989616.py:2: SettingWithCopyWarning: \n",
      "A value is trying to be set on a copy of a slice from a DataFrame\n",
      "\n",
      "See the caveats in the documentation: https://pandas.pydata.org/pandas-docs/stable/user_guide/indexing.html#returning-a-view-versus-a-copy\n",
      "  df.drop(df[df['selftext']=='[deleted]'].index, inplace=True)\n",
      "/var/folders/l8/cflxs4pj1h362zjpxchj9jd00000gn/T/ipykernel_92448/898989616.py:3: SettingWithCopyWarning: \n",
      "A value is trying to be set on a copy of a slice from a DataFrame\n",
      "\n",
      "See the caveats in the documentation: https://pandas.pydata.org/pandas-docs/stable/user_guide/indexing.html#returning-a-view-versus-a-copy\n",
      "  df.drop(df[df['selftext']=='Title'].index, inplace=True)\n",
      "/var/folders/l8/cflxs4pj1h362zjpxchj9jd00000gn/T/ipykernel_92448/898989616.py:4: SettingWithCopyWarning: \n",
      "A value is trying to be set on a copy of a slice from a DataFrame\n",
      "\n",
      "See the caveats in the documentation: https://pandas.pydata.org/pandas-docs/stable/user_guide/indexing.html#returning-a-view-versus-a-copy\n",
      "  df.drop(df[df['selftext']=='Title.'].index, inplace=True)\n"
     ]
    }
   ],
   "source": [
    "# Dropping invalid Values\n",
    "df.drop(df[df['selftext']=='[deleted]'].index, inplace=True)\n",
    "df.drop(df[df['selftext']=='Title'].index, inplace=True)\n",
    "df.drop(df[df['selftext']=='Title.'].index, inplace=True)"
   ]
  },
  {
   "cell_type": "code",
   "execution_count": 801,
   "metadata": {},
   "outputs": [],
   "source": [
    "# Reseting Index \n",
    "df.reset_index(drop=True, inplace=True)"
   ]
  },
  {
   "cell_type": "code",
   "execution_count": 802,
   "metadata": {},
   "outputs": [
    {
     "data": {
      "text/plain": [
       "OutOfTheLoop         2478\n",
       "explainlikeimfive    1945\n",
       "Name: subreddit, dtype: int64"
      ]
     },
     "execution_count": 802,
     "metadata": {},
     "output_type": "execute_result"
    }
   ],
   "source": [
    "# Checking for Data Balance\n",
    "df['subreddit'].value_counts()"
   ]
  },
  {
   "cell_type": "code",
   "execution_count": 803,
   "metadata": {},
   "outputs": [
    {
     "data": {
      "text/plain": [
       "OutOfTheLoop         0.560253\n",
       "explainlikeimfive    0.439747\n",
       "Name: subreddit, dtype: float64"
      ]
     },
     "execution_count": 803,
     "metadata": {},
     "output_type": "execute_result"
    }
   ],
   "source": [
    "df['subreddit'].value_counts(normalize=True)"
   ]
  },
  {
   "cell_type": "code",
   "execution_count": 804,
   "metadata": {},
   "outputs": [
    {
     "data": {
      "text/html": [
       "<div>\n",
       "<style scoped>\n",
       "    .dataframe tbody tr th:only-of-type {\n",
       "        vertical-align: middle;\n",
       "    }\n",
       "\n",
       "    .dataframe tbody tr th {\n",
       "        vertical-align: top;\n",
       "    }\n",
       "\n",
       "    .dataframe thead th {\n",
       "        text-align: right;\n",
       "    }\n",
       "</style>\n",
       "<table border=\"1\" class=\"dataframe\">\n",
       "  <thead>\n",
       "    <tr style=\"text-align: right;\">\n",
       "      <th></th>\n",
       "      <th>subreddit</th>\n",
       "      <th>selftext</th>\n",
       "    </tr>\n",
       "  </thead>\n",
       "  <tbody>\n",
       "    <tr>\n",
       "      <th>0</th>\n",
       "      <td>OutOfTheLoop</td>\n",
       "      <td>Last I heard a few years back, she pleaded gui...</td>\n",
       "    </tr>\n",
       "    <tr>\n",
       "      <th>1</th>\n",
       "      <td>explainlikeimfive</td>\n",
       "      <td>So a year ago around I saw a list showing the ...</td>\n",
       "    </tr>\n",
       "    <tr>\n",
       "      <th>2</th>\n",
       "      <td>OutOfTheLoop</td>\n",
       "      <td>I've seen memes of people in Martha's Vineyard...</td>\n",
       "    </tr>\n",
       "    <tr>\n",
       "      <th>3</th>\n",
       "      <td>OutOfTheLoop</td>\n",
       "      <td>https://youtu.be/56JoCyTTVeY\\n\\nThere's a lot ...</td>\n",
       "    </tr>\n",
       "    <tr>\n",
       "      <th>4</th>\n",
       "      <td>OutOfTheLoop</td>\n",
       "      <td>I found out there're 23 banned subreddits name...</td>\n",
       "    </tr>\n",
       "  </tbody>\n",
       "</table>\n",
       "</div>"
      ],
      "text/plain": [
       "           subreddit                                           selftext\n",
       "0       OutOfTheLoop  Last I heard a few years back, she pleaded gui...\n",
       "1  explainlikeimfive  So a year ago around I saw a list showing the ...\n",
       "2       OutOfTheLoop  I've seen memes of people in Martha's Vineyard...\n",
       "3       OutOfTheLoop  https://youtu.be/56JoCyTTVeY\\n\\nThere's a lot ...\n",
       "4       OutOfTheLoop  I found out there're 23 banned subreddits name..."
      ]
     },
     "execution_count": 804,
     "metadata": {},
     "output_type": "execute_result"
    }
   ],
   "source": [
    "df.head()"
   ]
  },
  {
   "cell_type": "markdown",
   "metadata": {},
   "source": [
    "###  Links in 'selftext' content\n",
    "Let's extract General links from selftext and keep the information for future models (maybe they can contain valuable information)"
   ]
  },
  {
   "cell_type": "code",
   "execution_count": 806,
   "metadata": {},
   "outputs": [
    {
     "name": "stderr",
     "output_type": "stream",
     "text": [
      "/var/folders/l8/cflxs4pj1h362zjpxchj9jd00000gn/T/ipykernel_92448/125400404.py:6: SettingWithCopyWarning: \n",
      "A value is trying to be set on a copy of a slice from a DataFrame.\n",
      "Try using .loc[row_indexer,col_indexer] = value instead\n",
      "\n",
      "See the caveats in the documentation: https://pandas.pydata.org/pandas-docs/stable/user_guide/indexing.html#returning-a-view-versus-a-copy\n",
      "  df['links'] = df['selftext'].map( lambda x: tokenizer_links.tokenize(x) )\n"
     ]
    }
   ],
   "source": [
    "### Extracting links from 'selftext'\n",
    "# Defining a tokenizer to get all links\n",
    "tokenizer_links = RegexpTokenizer(r'(http|ftp|https):\\/\\/([\\w_-]+(?:(?:\\.[\\w_-]+)+))([\\w.,@?^=%&:\\/~+#-]*[\\w@?^=%&\\/~+#-])')\n",
    "\n",
    "# Creating a new column to keep these links\n",
    "df['links'] = df['selftext'].map( lambda x: tokenizer_links.tokenize(x) )"
   ]
  },
  {
   "cell_type": "code",
   "execution_count": 807,
   "metadata": {},
   "outputs": [
    {
     "data": {
      "text/html": [
       "<div>\n",
       "<style scoped>\n",
       "    .dataframe tbody tr th:only-of-type {\n",
       "        vertical-align: middle;\n",
       "    }\n",
       "\n",
       "    .dataframe tbody tr th {\n",
       "        vertical-align: top;\n",
       "    }\n",
       "\n",
       "    .dataframe thead th {\n",
       "        text-align: right;\n",
       "    }\n",
       "</style>\n",
       "<table border=\"1\" class=\"dataframe\">\n",
       "  <thead>\n",
       "    <tr style=\"text-align: right;\">\n",
       "      <th></th>\n",
       "      <th>subreddit</th>\n",
       "      <th>selftext</th>\n",
       "      <th>links</th>\n",
       "    </tr>\n",
       "  </thead>\n",
       "  <tbody>\n",
       "    <tr>\n",
       "      <th>0</th>\n",
       "      <td>OutOfTheLoop</td>\n",
       "      <td>Last I heard a few years back, she pleaded gui...</td>\n",
       "      <td>[(https, bleacherreport.com, /articles/2446693...</td>\n",
       "    </tr>\n",
       "    <tr>\n",
       "      <th>1</th>\n",
       "      <td>explainlikeimfive</td>\n",
       "      <td>So a year ago around I saw a list showing the ...</td>\n",
       "      <td>[]</td>\n",
       "    </tr>\n",
       "    <tr>\n",
       "      <th>2</th>\n",
       "      <td>OutOfTheLoop</td>\n",
       "      <td>I've seen memes of people in Martha's Vineyard...</td>\n",
       "      <td>[(https, www.reddit.com, /r/PublicFreakout/com...</td>\n",
       "    </tr>\n",
       "    <tr>\n",
       "      <th>3</th>\n",
       "      <td>OutOfTheLoop</td>\n",
       "      <td>https://youtu.be/56JoCyTTVeY\\n\\nThere's a lot ...</td>\n",
       "      <td>[(https, youtu.be, /56JoCyTTVeY)]</td>\n",
       "    </tr>\n",
       "    <tr>\n",
       "      <th>4</th>\n",
       "      <td>OutOfTheLoop</td>\n",
       "      <td>I found out there're 23 banned subreddits name...</td>\n",
       "      <td>[(https, www.reddit.com, /r/mgtow1/), (https, ...</td>\n",
       "    </tr>\n",
       "  </tbody>\n",
       "</table>\n",
       "</div>"
      ],
      "text/plain": [
       "           subreddit                                           selftext  \\\n",
       "0       OutOfTheLoop  Last I heard a few years back, she pleaded gui...   \n",
       "1  explainlikeimfive  So a year ago around I saw a list showing the ...   \n",
       "2       OutOfTheLoop  I've seen memes of people in Martha's Vineyard...   \n",
       "3       OutOfTheLoop  https://youtu.be/56JoCyTTVeY\\n\\nThere's a lot ...   \n",
       "4       OutOfTheLoop  I found out there're 23 banned subreddits name...   \n",
       "\n",
       "                                               links  \n",
       "0  [(https, bleacherreport.com, /articles/2446693...  \n",
       "1                                                 []  \n",
       "2  [(https, www.reddit.com, /r/PublicFreakout/com...  \n",
       "3                  [(https, youtu.be, /56JoCyTTVeY)]  \n",
       "4  [(https, www.reddit.com, /r/mgtow1/), (https, ...  "
      ]
     },
     "execution_count": 807,
     "metadata": {},
     "output_type": "execute_result"
    }
   ],
   "source": [
    "df.head()"
   ]
  },
  {
   "cell_type": "markdown",
   "metadata": {},
   "source": [
    "### Extracting YouTube links from 'selftext'\n",
    "Youtube has a espefic API to access its data. Let's separate youtube links from others for future works."
   ]
  },
  {
   "cell_type": "code",
   "execution_count": 808,
   "metadata": {},
   "outputs": [
    {
     "name": "stderr",
     "output_type": "stream",
     "text": [
      "/var/folders/l8/cflxs4pj1h362zjpxchj9jd00000gn/T/ipykernel_92448/1914220513.py:5: SettingWithCopyWarning: \n",
      "A value is trying to be set on a copy of a slice from a DataFrame.\n",
      "Try using .loc[row_indexer,col_indexer] = value instead\n",
      "\n",
      "See the caveats in the documentation: https://pandas.pydata.org/pandas-docs/stable/user_guide/indexing.html#returning-a-view-versus-a-copy\n",
      "  df['youtube_links'] = df['selftext'].map( lambda x: tokenizer_ytb.tokenize(x) )\n"
     ]
    }
   ],
   "source": [
    "# Defining a tokenizer to get Youtube links\n",
    "tokenizer_ytb = RegexpTokenizer(r'https://youtu.be/\\w+')\n",
    "\n",
    "# Creating a column to keep these links\n",
    "df['youtube_links'] = df['selftext'].map( lambda x: tokenizer_ytb.tokenize(x))"
   ]
  },
  {
   "cell_type": "code",
   "execution_count": 809,
   "metadata": {},
   "outputs": [
    {
     "data": {
      "text/html": [
       "<div>\n",
       "<style scoped>\n",
       "    .dataframe tbody tr th:only-of-type {\n",
       "        vertical-align: middle;\n",
       "    }\n",
       "\n",
       "    .dataframe tbody tr th {\n",
       "        vertical-align: top;\n",
       "    }\n",
       "\n",
       "    .dataframe thead th {\n",
       "        text-align: right;\n",
       "    }\n",
       "</style>\n",
       "<table border=\"1\" class=\"dataframe\">\n",
       "  <thead>\n",
       "    <tr style=\"text-align: right;\">\n",
       "      <th></th>\n",
       "      <th>subreddit</th>\n",
       "      <th>selftext</th>\n",
       "      <th>links</th>\n",
       "      <th>youtube_links</th>\n",
       "    </tr>\n",
       "  </thead>\n",
       "  <tbody>\n",
       "    <tr>\n",
       "      <th>0</th>\n",
       "      <td>OutOfTheLoop</td>\n",
       "      <td>Last I heard a few years back, she pleaded gui...</td>\n",
       "      <td>[(https, bleacherreport.com, /articles/2446693...</td>\n",
       "      <td>[]</td>\n",
       "    </tr>\n",
       "    <tr>\n",
       "      <th>1</th>\n",
       "      <td>explainlikeimfive</td>\n",
       "      <td>So a year ago around I saw a list showing the ...</td>\n",
       "      <td>[]</td>\n",
       "      <td>[]</td>\n",
       "    </tr>\n",
       "    <tr>\n",
       "      <th>2</th>\n",
       "      <td>OutOfTheLoop</td>\n",
       "      <td>I've seen memes of people in Martha's Vineyard...</td>\n",
       "      <td>[(https, www.reddit.com, /r/PublicFreakout/com...</td>\n",
       "      <td>[]</td>\n",
       "    </tr>\n",
       "    <tr>\n",
       "      <th>3</th>\n",
       "      <td>OutOfTheLoop</td>\n",
       "      <td>https://youtu.be/56JoCyTTVeY\\n\\nThere's a lot ...</td>\n",
       "      <td>[(https, youtu.be, /56JoCyTTVeY)]</td>\n",
       "      <td>[https://youtu.be/56JoCyTTVeY]</td>\n",
       "    </tr>\n",
       "    <tr>\n",
       "      <th>4</th>\n",
       "      <td>OutOfTheLoop</td>\n",
       "      <td>I found out there're 23 banned subreddits name...</td>\n",
       "      <td>[(https, www.reddit.com, /r/mgtow1/), (https, ...</td>\n",
       "      <td>[]</td>\n",
       "    </tr>\n",
       "  </tbody>\n",
       "</table>\n",
       "</div>"
      ],
      "text/plain": [
       "           subreddit                                           selftext  \\\n",
       "0       OutOfTheLoop  Last I heard a few years back, she pleaded gui...   \n",
       "1  explainlikeimfive  So a year ago around I saw a list showing the ...   \n",
       "2       OutOfTheLoop  I've seen memes of people in Martha's Vineyard...   \n",
       "3       OutOfTheLoop  https://youtu.be/56JoCyTTVeY\\n\\nThere's a lot ...   \n",
       "4       OutOfTheLoop  I found out there're 23 banned subreddits name...   \n",
       "\n",
       "                                               links  \\\n",
       "0  [(https, bleacherreport.com, /articles/2446693...   \n",
       "1                                                 []   \n",
       "2  [(https, www.reddit.com, /r/PublicFreakout/com...   \n",
       "3                  [(https, youtu.be, /56JoCyTTVeY)]   \n",
       "4  [(https, www.reddit.com, /r/mgtow1/), (https, ...   \n",
       "\n",
       "                    youtube_links  \n",
       "0                              []  \n",
       "1                              []  \n",
       "2                              []  \n",
       "3  [https://youtu.be/56JoCyTTVeY]  \n",
       "4                              []  "
      ]
     },
     "execution_count": 809,
     "metadata": {},
     "output_type": "execute_result"
    }
   ],
   "source": [
    "df.head()"
   ]
  },
  {
   "cell_type": "markdown",
   "metadata": {},
   "source": [
    "## PreProcessing 'selftext' content\n",
    "___"
   ]
  },
  {
   "cell_type": "code",
   "execution_count": 810,
   "metadata": {},
   "outputs": [
    {
     "name": "stderr",
     "output_type": "stream",
     "text": [
      "/var/folders/l8/cflxs4pj1h362zjpxchj9jd00000gn/T/ipykernel_92448/859744674.py:4: SettingWithCopyWarning: \n",
      "A value is trying to be set on a copy of a slice from a DataFrame.\n",
      "Try using .loc[row_indexer,col_indexer] = value instead\n",
      "\n",
      "See the caveats in the documentation: https://pandas.pydata.org/pandas-docs/stable/user_guide/indexing.html#returning-a-view-versus-a-copy\n",
      "  df['tokens'] = df['selftext'].str.replace(r'(http|ftp|https):\\/\\/([\\w_-]+(?:(?:\\.[\\w_-]+)+))([\\w.,@?^=;%&:\\/~+#-]*[\\w@?^=;%&\\/~+#-])', '', regex=True)\n",
      "/var/folders/l8/cflxs4pj1h362zjpxchj9jd00000gn/T/ipykernel_92448/859744674.py:7: SettingWithCopyWarning: \n",
      "A value is trying to be set on a copy of a slice from a DataFrame.\n",
      "Try using .loc[row_indexer,col_indexer] = value instead\n",
      "\n",
      "See the caveats in the documentation: https://pandas.pydata.org/pandas-docs/stable/user_guide/indexing.html#returning-a-view-versus-a-copy\n",
      "  df['tokens'] = df['tokens'].str.replace(r'\\n', '', regex=True)\n",
      "/var/folders/l8/cflxs4pj1h362zjpxchj9jd00000gn/T/ipykernel_92448/859744674.py:8: SettingWithCopyWarning: \n",
      "A value is trying to be set on a copy of a slice from a DataFrame.\n",
      "Try using .loc[row_indexer,col_indexer] = value instead\n",
      "\n",
      "See the caveats in the documentation: https://pandas.pydata.org/pandas-docs/stable/user_guide/indexing.html#returning-a-view-versus-a-copy\n",
      "  df['tokens'] = df['tokens'].str.replace(r'\\[.*?\\]', '', regex=True)\n",
      "/var/folders/l8/cflxs4pj1h362zjpxchj9jd00000gn/T/ipykernel_92448/859744674.py:9: SettingWithCopyWarning: \n",
      "A value is trying to be set on a copy of a slice from a DataFrame.\n",
      "Try using .loc[row_indexer,col_indexer] = value instead\n",
      "\n",
      "See the caveats in the documentation: https://pandas.pydata.org/pandas-docs/stable/user_guide/indexing.html#returning-a-view-versus-a-copy\n",
      "  df['tokens'] = df['tokens'].str.replace(r'\\(.*?\\)', '', regex=True)\n",
      "/var/folders/l8/cflxs4pj1h362zjpxchj9jd00000gn/T/ipykernel_92448/859744674.py:10: SettingWithCopyWarning: \n",
      "A value is trying to be set on a copy of a slice from a DataFrame.\n",
      "Try using .loc[row_indexer,col_indexer] = value instead\n",
      "\n",
      "See the caveats in the documentation: https://pandas.pydata.org/pandas-docs/stable/user_guide/indexing.html#returning-a-view-versus-a-copy\n",
      "  df['tokens'] = df['tokens'].str.replace(r'\\_', ' ', regex=True)\n",
      "/var/folders/l8/cflxs4pj1h362zjpxchj9jd00000gn/T/ipykernel_92448/859744674.py:11: SettingWithCopyWarning: \n",
      "A value is trying to be set on a copy of a slice from a DataFrame.\n",
      "Try using .loc[row_indexer,col_indexer] = value instead\n",
      "\n",
      "See the caveats in the documentation: https://pandas.pydata.org/pandas-docs/stable/user_guide/indexing.html#returning-a-view-versus-a-copy\n",
      "  df['tokens'] = df['tokens'].str.replace(r'\\/', ' ', regex=True)\n",
      "/var/folders/l8/cflxs4pj1h362zjpxchj9jd00000gn/T/ipykernel_92448/859744674.py:12: SettingWithCopyWarning: \n",
      "A value is trying to be set on a copy of a slice from a DataFrame.\n",
      "Try using .loc[row_indexer,col_indexer] = value instead\n",
      "\n",
      "See the caveats in the documentation: https://pandas.pydata.org/pandas-docs/stable/user_guide/indexing.html#returning-a-view-versus-a-copy\n",
      "  df['tokens'] = df['tokens'].str.replace(r'\\/r/', ' ', regex=True)\n",
      "/var/folders/l8/cflxs4pj1h362zjpxchj9jd00000gn/T/ipykernel_92448/859744674.py:13: SettingWithCopyWarning: \n",
      "A value is trying to be set on a copy of a slice from a DataFrame.\n",
      "Try using .loc[row_indexer,col_indexer] = value instead\n",
      "\n",
      "See the caveats in the documentation: https://pandas.pydata.org/pandas-docs/stable/user_guide/indexing.html#returning-a-view-versus-a-copy\n",
      "  df['tokens'] = df['tokens'].str.replace(r'\\d+', '', regex=True)\n"
     ]
    }
   ],
   "source": [
    "# Creating a new column df['tokens'] for processed document so we keep the original raw document\n",
    "\n",
    "# Removing links in general \n",
    "df['tokens'] = df['selftext'].str.replace(r'(http|ftp|https):\\/\\/([\\w_-]+(?:(?:\\.[\\w_-]+)+))([\\w.,@?^=;%&:\\/~+#-]*[\\w@?^=;%&\\/~+#-])', '', regex=True);\n",
    "\n",
    "# Removing \\n [] () _ / /r/ \\d+\n",
    "df['tokens'] = df['tokens'].str.replace(r'\\n', '', regex=True);\n",
    "df['tokens'] = df['tokens'].str.replace(r'\\[.*?\\]', '', regex=True);\n",
    "df['tokens'] = df['tokens'].str.replace(r'\\(.*?\\)', '', regex=True);\n",
    "df['tokens'] = df['tokens'].str.replace(r'\\_', ' ', regex=True);\n",
    "df['tokens'] = df['tokens'].str.replace(r'\\/', ' ', regex=True);\n",
    "df['tokens'] = df['tokens'].str.replace(r'\\/r/', ' ', regex=True);\n",
    "df['tokens'] = df['tokens'].str.replace(r'\\d+', '', regex=True);"
   ]
  },
  {
   "cell_type": "code",
   "execution_count": 811,
   "metadata": {},
   "outputs": [
    {
     "name": "stderr",
     "output_type": "stream",
     "text": [
      "/var/folders/l8/cflxs4pj1h362zjpxchj9jd00000gn/T/ipykernel_92448/4062840451.py:5: SettingWithCopyWarning: \n",
      "A value is trying to be set on a copy of a slice from a DataFrame.\n",
      "Try using .loc[row_indexer,col_indexer] = value instead\n",
      "\n",
      "See the caveats in the documentation: https://pandas.pydata.org/pandas-docs/stable/user_guide/indexing.html#returning-a-view-versus-a-copy\n",
      "  df['tokens'] = df['tokens'].map( lambda x: tokenizer_w.tokenize(x))\n"
     ]
    }
   ],
   "source": [
    "# getting just words (Removing punctuation, emicomn/emoji, extra spaces\n",
    "#  \\w+ matches one or more word characters (same as [a-zA-Z0-9_]+ )\n",
    "tokenizer_w = RegexpTokenizer(r'\\w+')\n",
    "\n",
    "# Turning selftext content into tokens\n",
    "df['tokens'] = df['tokens'].map( lambda x: tokenizer_w.tokenize(x))\n"
   ]
  },
  {
   "cell_type": "code",
   "execution_count": 812,
   "metadata": {},
   "outputs": [
    {
     "data": {
      "text/html": [
       "<div>\n",
       "<style scoped>\n",
       "    .dataframe tbody tr th:only-of-type {\n",
       "        vertical-align: middle;\n",
       "    }\n",
       "\n",
       "    .dataframe tbody tr th {\n",
       "        vertical-align: top;\n",
       "    }\n",
       "\n",
       "    .dataframe thead th {\n",
       "        text-align: right;\n",
       "    }\n",
       "</style>\n",
       "<table border=\"1\" class=\"dataframe\">\n",
       "  <thead>\n",
       "    <tr style=\"text-align: right;\">\n",
       "      <th></th>\n",
       "      <th>subreddit</th>\n",
       "      <th>selftext</th>\n",
       "      <th>links</th>\n",
       "      <th>youtube_links</th>\n",
       "      <th>tokens</th>\n",
       "    </tr>\n",
       "  </thead>\n",
       "  <tbody>\n",
       "    <tr>\n",
       "      <th>0</th>\n",
       "      <td>OutOfTheLoop</td>\n",
       "      <td>Last I heard a few years back, she pleaded gui...</td>\n",
       "      <td>[(https, bleacherreport.com, /articles/2446693...</td>\n",
       "      <td>[]</td>\n",
       "      <td>[Last, I, heard, a, few, years, back, she, ple...</td>\n",
       "    </tr>\n",
       "    <tr>\n",
       "      <th>1</th>\n",
       "      <td>explainlikeimfive</td>\n",
       "      <td>So a year ago around I saw a list showing the ...</td>\n",
       "      <td>[]</td>\n",
       "      <td>[]</td>\n",
       "      <td>[So, a, year, ago, around, I, saw, a, list, sh...</td>\n",
       "    </tr>\n",
       "    <tr>\n",
       "      <th>2</th>\n",
       "      <td>OutOfTheLoop</td>\n",
       "      <td>I've seen memes of people in Martha's Vineyard...</td>\n",
       "      <td>[(https, www.reddit.com, /r/PublicFreakout/com...</td>\n",
       "      <td>[]</td>\n",
       "      <td>[I, ve, seen, memes, of, people, in, Martha, s...</td>\n",
       "    </tr>\n",
       "    <tr>\n",
       "      <th>3</th>\n",
       "      <td>OutOfTheLoop</td>\n",
       "      <td>https://youtu.be/56JoCyTTVeY\\n\\nThere's a lot ...</td>\n",
       "      <td>[(https, youtu.be, /56JoCyTTVeY)]</td>\n",
       "      <td>[https://youtu.be/56JoCyTTVeY]</td>\n",
       "      <td>[There, s, a, lot, of, memes, online, by, now,...</td>\n",
       "    </tr>\n",
       "    <tr>\n",
       "      <th>4</th>\n",
       "      <td>OutOfTheLoop</td>\n",
       "      <td>I found out there're 23 banned subreddits name...</td>\n",
       "      <td>[(https, www.reddit.com, /r/mgtow1/), (https, ...</td>\n",
       "      <td>[]</td>\n",
       "      <td>[I, found, out, there, re, banned, subreddits,...</td>\n",
       "    </tr>\n",
       "    <tr>\n",
       "      <th>5</th>\n",
       "      <td>OutOfTheLoop</td>\n",
       "      <td>[Tweet from The Act Man](https://twitter.com/T...</td>\n",
       "      <td>[(https, twitter.com, /TheActMan_YT/status/153...</td>\n",
       "      <td>[]</td>\n",
       "      <td>[All, I, can, see, is, stuff, about, Quantum, ...</td>\n",
       "    </tr>\n",
       "    <tr>\n",
       "      <th>6</th>\n",
       "      <td>OutOfTheLoop</td>\n",
       "      <td>I scrolled through a few posts such as these 3...</td>\n",
       "      <td>[(https, www.reddit.com, /r/OutOfTheLoop/comme...</td>\n",
       "      <td>[]</td>\n",
       "      <td>[I, scrolled, through, a, few, posts, such, as...</td>\n",
       "    </tr>\n",
       "    <tr>\n",
       "      <th>7</th>\n",
       "      <td>explainlikeimfive</td>\n",
       "      <td>With all the harmful ways we store garbage on ...</td>\n",
       "      <td>[]</td>\n",
       "      <td>[]</td>\n",
       "      <td>[With, all, the, harmful, ways, we, store, gar...</td>\n",
       "    </tr>\n",
       "    <tr>\n",
       "      <th>8</th>\n",
       "      <td>OutOfTheLoop</td>\n",
       "      <td>I feel like every day I see 1-3 of these in to...</td>\n",
       "      <td>[(https, i.redd.it, /86i5l4h6k7w81.jpg), (http...</td>\n",
       "      <td>[]</td>\n",
       "      <td>[I, feel, like, every, day, I, see, of, these,...</td>\n",
       "    </tr>\n",
       "    <tr>\n",
       "      <th>9</th>\n",
       "      <td>explainlikeimfive</td>\n",
       "      <td>There's been time where I've gotten so hungry ...</td>\n",
       "      <td>[]</td>\n",
       "      <td>[]</td>\n",
       "      <td>[There, s, been, time, where, I, ve, gotten, s...</td>\n",
       "    </tr>\n",
       "  </tbody>\n",
       "</table>\n",
       "</div>"
      ],
      "text/plain": [
       "           subreddit                                           selftext  \\\n",
       "0       OutOfTheLoop  Last I heard a few years back, she pleaded gui...   \n",
       "1  explainlikeimfive  So a year ago around I saw a list showing the ...   \n",
       "2       OutOfTheLoop  I've seen memes of people in Martha's Vineyard...   \n",
       "3       OutOfTheLoop  https://youtu.be/56JoCyTTVeY\\n\\nThere's a lot ...   \n",
       "4       OutOfTheLoop  I found out there're 23 banned subreddits name...   \n",
       "5       OutOfTheLoop  [Tweet from The Act Man](https://twitter.com/T...   \n",
       "6       OutOfTheLoop  I scrolled through a few posts such as these 3...   \n",
       "7  explainlikeimfive  With all the harmful ways we store garbage on ...   \n",
       "8       OutOfTheLoop  I feel like every day I see 1-3 of these in to...   \n",
       "9  explainlikeimfive  There's been time where I've gotten so hungry ...   \n",
       "\n",
       "                                               links  \\\n",
       "0  [(https, bleacherreport.com, /articles/2446693...   \n",
       "1                                                 []   \n",
       "2  [(https, www.reddit.com, /r/PublicFreakout/com...   \n",
       "3                  [(https, youtu.be, /56JoCyTTVeY)]   \n",
       "4  [(https, www.reddit.com, /r/mgtow1/), (https, ...   \n",
       "5  [(https, twitter.com, /TheActMan_YT/status/153...   \n",
       "6  [(https, www.reddit.com, /r/OutOfTheLoop/comme...   \n",
       "7                                                 []   \n",
       "8  [(https, i.redd.it, /86i5l4h6k7w81.jpg), (http...   \n",
       "9                                                 []   \n",
       "\n",
       "                    youtube_links  \\\n",
       "0                              []   \n",
       "1                              []   \n",
       "2                              []   \n",
       "3  [https://youtu.be/56JoCyTTVeY]   \n",
       "4                              []   \n",
       "5                              []   \n",
       "6                              []   \n",
       "7                              []   \n",
       "8                              []   \n",
       "9                              []   \n",
       "\n",
       "                                              tokens  \n",
       "0  [Last, I, heard, a, few, years, back, she, ple...  \n",
       "1  [So, a, year, ago, around, I, saw, a, list, sh...  \n",
       "2  [I, ve, seen, memes, of, people, in, Martha, s...  \n",
       "3  [There, s, a, lot, of, memes, online, by, now,...  \n",
       "4  [I, found, out, there, re, banned, subreddits,...  \n",
       "5  [All, I, can, see, is, stuff, about, Quantum, ...  \n",
       "6  [I, scrolled, through, a, few, posts, such, as...  \n",
       "7  [With, all, the, harmful, ways, we, store, gar...  \n",
       "8  [I, feel, like, every, day, I, see, of, these,...  \n",
       "9  [There, s, been, time, where, I, ve, gotten, s...  "
      ]
     },
     "execution_count": 812,
     "metadata": {},
     "output_type": "execute_result"
    }
   ],
   "source": [
    "df.head(10)"
   ]
  },
  {
   "cell_type": "code",
   "execution_count": 813,
   "metadata": {},
   "outputs": [
    {
     "name": "stdout",
     "output_type": "stream",
     "text": [
      "Index:1, ['So', 'a', 'year', 'ago', 'around', 'I', 'saw', 'a', 'list', 'showing', 'the', 'most', 'watched', 'events', 'on', 'TV', 'but', 'I', 'don', 't', 'understand', 'how', 'could', 'anyone', 'find', 'out', 'how', 'many', 'TV', 's', 'have', 'a', 'certain', 'event', 'on']\n",
      "Index:2, ['I', 've', 'seen', 'memes', 'of', 'people', 'in', 'Martha', 's', 'Vineyard', 'accepting', 'immigrants', 'And', 'I', 'honestly', 'don', 't', 'know', 'what', 's', 'happening', 'but', 'it', 'seems', 'huge']\n",
      "Index:3, ['There', 's', 'a', 'lot', 'of', 'memes', 'online', 'by', 'now', 'and', 'I', 'm', 'clueless']\n",
      "Index:4, ['I', 'found', 'out', 'there', 're', 'banned', 'subreddits', 'named', 'from', 'MGTOW', 'to', 'MGTOW', 'I', 'don', 't', 'know', 'precisely', 'why', 'the', 'original', 'got', 'banned', 'but', 'why', 'the', 'persistence', 'both', 'by', 'the', 'community', 'and', 'reddit', 'administration', 'to', 'keep', 'banning', 'them', 'Note', 'not', 'all', 'subs', 'ban', 'reason', 'is', 'specified', 'as', 'ban', 'evasion']\n",
      "Index:5, ['All', 'I', 'can', 'see', 'is', 'stuff', 'about', 'Quantum', 'who', 'I', 'guess', 'tried', 'to', 'copyright', 'him', 'But', 'I', 'don', 't', 'get', 'how', 'this', 'applies', 'to', 'any', 'of', 'what', 'is', 'happening', 'to', 'him', 'right', 'now']\n",
      "Index:6, ['I', 'scrolled', 'through', 'a', 'few', 'posts', 'such', 'as', 'these', 'and', 'These', 'all', 'appear', 'to', 'be', 'normal', 'genuine', 'questions', 'yet', 'are', 'nevertheless', 'heavily', 'downvoted', 'for', 'no', 'apparent', 'reason', 'Note', 'to', 'anyone', 'who', 'is', 'currently', 'downvoting', 'posts', 'like', 'this', 'you', 'should', 'keep', 'in', 'mind']\n",
      "Index:7, ['With', 'all', 'the', 'harmful', 'ways', 'we', 'store', 'garbage', 'on', 'our', 'planet', 'which', 'has', 'lead', 'to', 'the', 'ocean', 'having', 'massive', 'amounts', 'of', 'plastic', 'and', 'other', 'containments', 'in', 'the', 'water', 'Wouldn', 't', 'shooting', 'everything', 'into', 'a', 'massive', 'incinerator', 'work']\n",
      "Index:8, ['I', 'feel', 'like', 'every', 'day', 'I', 'see', 'of', 'these', 'in', 'top', 'posts']\n",
      "Index:9, ['There', 's', 'been', 'time', 'where', 'I', 've', 'gotten', 'so', 'hungry', 'I', 'threw', 'up', 'and', 'I', 'want', 'to', 'know', 'Sorry', 'if', 'this', 'is', 'basic', 'knowledge', 'im', 'a', 'teen', 'and', 'I', 'm', 'honestly', 'kinda', 'dumb']\n"
     ]
    }
   ],
   "source": [
    "# Looking through cleaned selftext content\n",
    "for i in range(1,10,1):\n",
    "    print(f'Index:{i}, {df[\"tokens\"].iloc[i]}')"
   ]
  },
  {
   "cell_type": "code",
   "execution_count": 814,
   "metadata": {},
   "outputs": [
    {
     "data": {
      "text/plain": [
       "0"
      ]
     },
     "execution_count": 814,
     "metadata": {},
     "output_type": "execute_result"
    }
   ],
   "source": [
    "df['tokens'].isnull().sum()"
   ]
  },
  {
   "cell_type": "code",
   "execution_count": 815,
   "metadata": {},
   "outputs": [
    {
     "name": "stdout",
     "output_type": "stream",
     "text": [
      "<class 'pandas.core.frame.DataFrame'>\n",
      "RangeIndex: 4423 entries, 0 to 4422\n",
      "Data columns (total 5 columns):\n",
      " #   Column         Non-Null Count  Dtype \n",
      "---  ------         --------------  ----- \n",
      " 0   subreddit      4423 non-null   object\n",
      " 1   selftext       4423 non-null   object\n",
      " 2   links          4423 non-null   object\n",
      " 3   youtube_links  4423 non-null   object\n",
      " 4   tokens         4423 non-null   object\n",
      "dtypes: object(5)\n",
      "memory usage: 172.9+ KB\n"
     ]
    }
   ],
   "source": [
    "# Checking data types after tokenizing\n",
    "df.info()"
   ]
  },
  {
   "cell_type": "code",
   "execution_count": 816,
   "metadata": {},
   "outputs": [
    {
     "name": "stderr",
     "output_type": "stream",
     "text": [
      "/var/folders/l8/cflxs4pj1h362zjpxchj9jd00000gn/T/ipykernel_92448/985186839.py:1: SettingWithCopyWarning: \n",
      "A value is trying to be set on a copy of a slice from a DataFrame\n",
      "\n",
      "See the caveats in the documentation: https://pandas.pydata.org/pandas-docs/stable/user_guide/indexing.html#returning-a-view-versus-a-copy\n",
      "  df.drop(df[df['tokens'].astype(str) == '[]' ].index, axis=0, inplace=True)\n"
     ]
    }
   ],
   "source": [
    "# Dropping empty arrays in tokens\n",
    "df.drop(df[df['tokens'].astype(str) == '[]' ].index, axis=0, inplace=True)"
   ]
  },
  {
   "cell_type": "markdown",
   "metadata": {},
   "source": [
    "### Stemming\n",
    "____"
   ]
  },
  {
   "cell_type": "code",
   "execution_count": 818,
   "metadata": {},
   "outputs": [
    {
     "name": "stderr",
     "output_type": "stream",
     "text": [
      "/var/folders/l8/cflxs4pj1h362zjpxchj9jd00000gn/T/ipykernel_92448/993758350.py:5: SettingWithCopyWarning: \n",
      "A value is trying to be set on a copy of a slice from a DataFrame.\n",
      "Try using .loc[row_indexer,col_indexer] = value instead\n",
      "\n",
      "See the caveats in the documentation: https://pandas.pydata.org/pandas-docs/stable/user_guide/indexing.html#returning-a-view-versus-a-copy\n",
      "  df['tokens'] = df['tokens'].map( lambda x: [p_stemmer.stem(i) for i in x])\n"
     ]
    }
   ],
   "source": [
    "# Intantiating Stemming\n",
    "p_stemmer = PorterStemmer()\n",
    "\n",
    "# Stem tokens.\n",
    "df['tokens'] = df['tokens'].map( lambda x: [p_stemmer.stem(i) for i in x])"
   ]
  },
  {
   "cell_type": "code",
   "execution_count": 819,
   "metadata": {},
   "outputs": [
    {
     "name": "stdout",
     "output_type": "stream",
     "text": [
      "Index:1, ['so', 'a', 'year', 'ago', 'around', 'i', 'saw', 'a', 'list', 'show', 'the', 'most', 'watch', 'event', 'on', 'tv', 'but', 'i', 'don', 't', 'understand', 'how', 'could', 'anyon', 'find', 'out', 'how', 'mani', 'tv', 's', 'have', 'a', 'certain', 'event', 'on']\n",
      "Index:2, ['i', 've', 'seen', 'meme', 'of', 'peopl', 'in', 'martha', 's', 'vineyard', 'accept', 'immigr', 'and', 'i', 'honestli', 'don', 't', 'know', 'what', 's', 'happen', 'but', 'it', 'seem', 'huge']\n",
      "Index:3, ['there', 's', 'a', 'lot', 'of', 'meme', 'onlin', 'by', 'now', 'and', 'i', 'm', 'clueless']\n",
      "Index:4, ['i', 'found', 'out', 'there', 're', 'ban', 'subreddit', 'name', 'from', 'mgtow', 'to', 'mgtow', 'i', 'don', 't', 'know', 'precis', 'whi', 'the', 'origin', 'got', 'ban', 'but', 'whi', 'the', 'persist', 'both', 'by', 'the', 'commun', 'and', 'reddit', 'administr', 'to', 'keep', 'ban', 'them', 'note', 'not', 'all', 'sub', 'ban', 'reason', 'is', 'specifi', 'as', 'ban', 'evas']\n",
      "Index:5, ['all', 'i', 'can', 'see', 'is', 'stuff', 'about', 'quantum', 'who', 'i', 'guess', 'tri', 'to', 'copyright', 'him', 'but', 'i', 'don', 't', 'get', 'how', 'thi', 'appli', 'to', 'ani', 'of', 'what', 'is', 'happen', 'to', 'him', 'right', 'now']\n",
      "Index:6, ['i', 'scroll', 'through', 'a', 'few', 'post', 'such', 'as', 'these', 'and', 'these', 'all', 'appear', 'to', 'be', 'normal', 'genuin', 'question', 'yet', 'are', 'nevertheless', 'heavili', 'downvot', 'for', 'no', 'appar', 'reason', 'note', 'to', 'anyon', 'who', 'is', 'current', 'downvot', 'post', 'like', 'thi', 'you', 'should', 'keep', 'in', 'mind']\n",
      "Index:7, ['with', 'all', 'the', 'harm', 'way', 'we', 'store', 'garbag', 'on', 'our', 'planet', 'which', 'ha', 'lead', 'to', 'the', 'ocean', 'have', 'massiv', 'amount', 'of', 'plastic', 'and', 'other', 'contain', 'in', 'the', 'water', 'wouldn', 't', 'shoot', 'everyth', 'into', 'a', 'massiv', 'inciner', 'work']\n",
      "Index:8, ['i', 'feel', 'like', 'everi', 'day', 'i', 'see', 'of', 'these', 'in', 'top', 'post']\n",
      "Index:9, ['there', 's', 'been', 'time', 'where', 'i', 've', 'gotten', 'so', 'hungri', 'i', 'threw', 'up', 'and', 'i', 'want', 'to', 'know', 'sorri', 'if', 'thi', 'is', 'basic', 'knowledg', 'im', 'a', 'teen', 'and', 'i', 'm', 'honestli', 'kinda', 'dumb']\n"
     ]
    }
   ],
   "source": [
    "# Quick Looking through stemmed selftext content\n",
    "for i in range(1,10,1):\n",
    "    print(f'Index:{i}, {df[\"tokens\"].iloc[i]}')"
   ]
  },
  {
   "cell_type": "markdown",
   "metadata": {},
   "source": [
    "## Exploratory Data Analysis \n",
    "\n",
    "Before we even vectorize the text, we might look at the lengths and word counts in each selftext post.\n",
    "\n",
    "#### Create a new column called `status_length` that contains the length of each status:"
   ]
  },
  {
   "cell_type": "code",
   "execution_count": 820,
   "metadata": {},
   "outputs": [
    {
     "name": "stderr",
     "output_type": "stream",
     "text": [
      "/var/folders/l8/cflxs4pj1h362zjpxchj9jd00000gn/T/ipykernel_92448/3616962216.py:1: SettingWithCopyWarning: \n",
      "A value is trying to be set on a copy of a slice from a DataFrame.\n",
      "Try using .loc[row_indexer,col_indexer] = value instead\n",
      "\n",
      "See the caveats in the documentation: https://pandas.pydata.org/pandas-docs/stable/user_guide/indexing.html#returning-a-view-versus-a-copy\n",
      "  df['selftext_length'] = df['selftext'].str.len()\n"
     ]
    },
    {
     "data": {
      "text/html": [
       "<div>\n",
       "<style scoped>\n",
       "    .dataframe tbody tr th:only-of-type {\n",
       "        vertical-align: middle;\n",
       "    }\n",
       "\n",
       "    .dataframe tbody tr th {\n",
       "        vertical-align: top;\n",
       "    }\n",
       "\n",
       "    .dataframe thead th {\n",
       "        text-align: right;\n",
       "    }\n",
       "</style>\n",
       "<table border=\"1\" class=\"dataframe\">\n",
       "  <thead>\n",
       "    <tr style=\"text-align: right;\">\n",
       "      <th></th>\n",
       "      <th>subreddit</th>\n",
       "      <th>selftext</th>\n",
       "      <th>links</th>\n",
       "      <th>youtube_links</th>\n",
       "      <th>tokens</th>\n",
       "      <th>selftext_length</th>\n",
       "    </tr>\n",
       "  </thead>\n",
       "  <tbody>\n",
       "    <tr>\n",
       "      <th>0</th>\n",
       "      <td>OutOfTheLoop</td>\n",
       "      <td>Last I heard a few years back, she pleaded gui...</td>\n",
       "      <td>[(https, bleacherreport.com, /articles/2446693...</td>\n",
       "      <td>[]</td>\n",
       "      <td>[last, i, heard, a, few, year, back, she, plea...</td>\n",
       "      <td>218</td>\n",
       "    </tr>\n",
       "    <tr>\n",
       "      <th>1</th>\n",
       "      <td>explainlikeimfive</td>\n",
       "      <td>So a year ago around I saw a list showing the ...</td>\n",
       "      <td>[]</td>\n",
       "      <td>[]</td>\n",
       "      <td>[so, a, year, ago, around, i, saw, a, list, sh...</td>\n",
       "      <td>161</td>\n",
       "    </tr>\n",
       "    <tr>\n",
       "      <th>2</th>\n",
       "      <td>OutOfTheLoop</td>\n",
       "      <td>I've seen memes of people in Martha's Vineyard...</td>\n",
       "      <td>[(https, www.reddit.com, /r/PublicFreakout/com...</td>\n",
       "      <td>[]</td>\n",
       "      <td>[i, ve, seen, meme, of, peopl, in, martha, s, ...</td>\n",
       "      <td>350</td>\n",
       "    </tr>\n",
       "  </tbody>\n",
       "</table>\n",
       "</div>"
      ],
      "text/plain": [
       "           subreddit                                           selftext  \\\n",
       "0       OutOfTheLoop  Last I heard a few years back, she pleaded gui...   \n",
       "1  explainlikeimfive  So a year ago around I saw a list showing the ...   \n",
       "2       OutOfTheLoop  I've seen memes of people in Martha's Vineyard...   \n",
       "\n",
       "                                               links youtube_links  \\\n",
       "0  [(https, bleacherreport.com, /articles/2446693...            []   \n",
       "1                                                 []            []   \n",
       "2  [(https, www.reddit.com, /r/PublicFreakout/com...            []   \n",
       "\n",
       "                                              tokens  selftext_length  \n",
       "0  [last, i, heard, a, few, year, back, she, plea...              218  \n",
       "1  [so, a, year, ago, around, i, saw, a, list, sh...              161  \n",
       "2  [i, ve, seen, meme, of, peopl, in, martha, s, ...              350  "
      ]
     },
     "execution_count": 820,
     "metadata": {},
     "output_type": "execute_result"
    }
   ],
   "source": [
    "df['selftext_length'] = df['selftext'].str.len()\n",
    "df.head(3)"
   ]
  },
  {
   "cell_type": "markdown",
   "metadata": {},
   "source": [
    "#### Create a new column called `status_word_count` that contains the number of words in each selftext\n"
   ]
  },
  {
   "cell_type": "code",
   "execution_count": 821,
   "metadata": {},
   "outputs": [
    {
     "name": "stderr",
     "output_type": "stream",
     "text": [
      "/var/folders/l8/cflxs4pj1h362zjpxchj9jd00000gn/T/ipykernel_92448/4272011286.py:1: SettingWithCopyWarning: \n",
      "A value is trying to be set on a copy of a slice from a DataFrame.\n",
      "Try using .loc[row_indexer,col_indexer] = value instead\n",
      "\n",
      "See the caveats in the documentation: https://pandas.pydata.org/pandas-docs/stable/user_guide/indexing.html#returning-a-view-versus-a-copy\n",
      "  df['selftext_word_count'] = df['selftext'].str.split(' ').apply(len)\n"
     ]
    },
    {
     "data": {
      "text/html": [
       "<div>\n",
       "<style scoped>\n",
       "    .dataframe tbody tr th:only-of-type {\n",
       "        vertical-align: middle;\n",
       "    }\n",
       "\n",
       "    .dataframe tbody tr th {\n",
       "        vertical-align: top;\n",
       "    }\n",
       "\n",
       "    .dataframe thead th {\n",
       "        text-align: right;\n",
       "    }\n",
       "</style>\n",
       "<table border=\"1\" class=\"dataframe\">\n",
       "  <thead>\n",
       "    <tr style=\"text-align: right;\">\n",
       "      <th></th>\n",
       "      <th>subreddit</th>\n",
       "      <th>selftext</th>\n",
       "      <th>links</th>\n",
       "      <th>youtube_links</th>\n",
       "      <th>tokens</th>\n",
       "      <th>selftext_length</th>\n",
       "      <th>selftext_word_count</th>\n",
       "    </tr>\n",
       "  </thead>\n",
       "  <tbody>\n",
       "    <tr>\n",
       "      <th>0</th>\n",
       "      <td>OutOfTheLoop</td>\n",
       "      <td>Last I heard a few years back, she pleaded gui...</td>\n",
       "      <td>[(https, bleacherreport.com, /articles/2446693...</td>\n",
       "      <td>[]</td>\n",
       "      <td>[last, i, heard, a, few, year, back, she, plea...</td>\n",
       "      <td>218</td>\n",
       "      <td>18</td>\n",
       "    </tr>\n",
       "    <tr>\n",
       "      <th>1</th>\n",
       "      <td>explainlikeimfive</td>\n",
       "      <td>So a year ago around I saw a list showing the ...</td>\n",
       "      <td>[]</td>\n",
       "      <td>[]</td>\n",
       "      <td>[so, a, year, ago, around, i, saw, a, list, sh...</td>\n",
       "      <td>161</td>\n",
       "      <td>33</td>\n",
       "    </tr>\n",
       "    <tr>\n",
       "      <th>2</th>\n",
       "      <td>OutOfTheLoop</td>\n",
       "      <td>I've seen memes of people in Martha's Vineyard...</td>\n",
       "      <td>[(https, www.reddit.com, /r/PublicFreakout/com...</td>\n",
       "      <td>[]</td>\n",
       "      <td>[i, ve, seen, meme, of, peopl, in, martha, s, ...</td>\n",
       "      <td>350</td>\n",
       "      <td>21</td>\n",
       "    </tr>\n",
       "    <tr>\n",
       "      <th>3</th>\n",
       "      <td>OutOfTheLoop</td>\n",
       "      <td>https://youtu.be/56JoCyTTVeY\\n\\nThere's a lot ...</td>\n",
       "      <td>[(https, youtu.be, /56JoCyTTVeY)]</td>\n",
       "      <td>[https://youtu.be/56JoCyTTVeY]</td>\n",
       "      <td>[there, s, a, lot, of, meme, onlin, by, now, a...</td>\n",
       "      <td>84</td>\n",
       "      <td>11</td>\n",
       "    </tr>\n",
       "    <tr>\n",
       "      <th>4</th>\n",
       "      <td>OutOfTheLoop</td>\n",
       "      <td>I found out there're 23 banned subreddits name...</td>\n",
       "      <td>[(https, www.reddit.com, /r/mgtow1/), (https, ...</td>\n",
       "      <td>[]</td>\n",
       "      <td>[i, found, out, there, re, ban, subreddit, nam...</td>\n",
       "      <td>426</td>\n",
       "      <td>46</td>\n",
       "    </tr>\n",
       "  </tbody>\n",
       "</table>\n",
       "</div>"
      ],
      "text/plain": [
       "           subreddit                                           selftext  \\\n",
       "0       OutOfTheLoop  Last I heard a few years back, she pleaded gui...   \n",
       "1  explainlikeimfive  So a year ago around I saw a list showing the ...   \n",
       "2       OutOfTheLoop  I've seen memes of people in Martha's Vineyard...   \n",
       "3       OutOfTheLoop  https://youtu.be/56JoCyTTVeY\\n\\nThere's a lot ...   \n",
       "4       OutOfTheLoop  I found out there're 23 banned subreddits name...   \n",
       "\n",
       "                                               links  \\\n",
       "0  [(https, bleacherreport.com, /articles/2446693...   \n",
       "1                                                 []   \n",
       "2  [(https, www.reddit.com, /r/PublicFreakout/com...   \n",
       "3                  [(https, youtu.be, /56JoCyTTVeY)]   \n",
       "4  [(https, www.reddit.com, /r/mgtow1/), (https, ...   \n",
       "\n",
       "                    youtube_links  \\\n",
       "0                              []   \n",
       "1                              []   \n",
       "2                              []   \n",
       "3  [https://youtu.be/56JoCyTTVeY]   \n",
       "4                              []   \n",
       "\n",
       "                                              tokens  selftext_length  \\\n",
       "0  [last, i, heard, a, few, year, back, she, plea...              218   \n",
       "1  [so, a, year, ago, around, i, saw, a, list, sh...              161   \n",
       "2  [i, ve, seen, meme, of, peopl, in, martha, s, ...              350   \n",
       "3  [there, s, a, lot, of, meme, onlin, by, now, a...               84   \n",
       "4  [i, found, out, there, re, ban, subreddit, nam...              426   \n",
       "\n",
       "   selftext_word_count  \n",
       "0                   18  \n",
       "1                   33  \n",
       "2                   21  \n",
       "3                   11  \n",
       "4                   46  "
      ]
     },
     "execution_count": 821,
     "metadata": {},
     "output_type": "execute_result"
    }
   ],
   "source": [
    "# Creating column Word Count\n",
    "df['selftext_word_count'] = df['selftext'].str.split(' ').apply(len)\n",
    "df.head()"
   ]
  },
  {
   "cell_type": "markdown",
   "metadata": {},
   "source": [
    "### Longest and shortest selftext\n",
    "\n",
    "Looking at individual observations can help us get a sense of what the dataset contains.\n",
    "\n",
    "#### Show the five longest and five shortest selftext based off of `status_word_count`:"
   ]
  },
  {
   "cell_type": "code",
   "execution_count": 822,
   "metadata": {},
   "outputs": [
    {
     "data": {
      "text/html": [
       "<div>\n",
       "<style scoped>\n",
       "    .dataframe tbody tr th:only-of-type {\n",
       "        vertical-align: middle;\n",
       "    }\n",
       "\n",
       "    .dataframe tbody tr th {\n",
       "        vertical-align: top;\n",
       "    }\n",
       "\n",
       "    .dataframe thead th {\n",
       "        text-align: right;\n",
       "    }\n",
       "</style>\n",
       "<table border=\"1\" class=\"dataframe\">\n",
       "  <thead>\n",
       "    <tr style=\"text-align: right;\">\n",
       "      <th></th>\n",
       "      <th>subreddit</th>\n",
       "      <th>selftext</th>\n",
       "      <th>links</th>\n",
       "      <th>youtube_links</th>\n",
       "      <th>tokens</th>\n",
       "      <th>selftext_length</th>\n",
       "      <th>selftext_word_count</th>\n",
       "    </tr>\n",
       "  </thead>\n",
       "  <tbody>\n",
       "    <tr>\n",
       "      <th>530</th>\n",
       "      <td>OutOfTheLoop</td>\n",
       "      <td>Examples:[https://www.tiktok.com/@achric/video...</td>\n",
       "      <td>[(https, www.tiktok.com, /@achric/video/712698...</td>\n",
       "      <td>[]</td>\n",
       "      <td>[exampl]</td>\n",
       "      <td>429</td>\n",
       "      <td>1</td>\n",
       "    </tr>\n",
       "    <tr>\n",
       "      <th>951</th>\n",
       "      <td>OutOfTheLoop</td>\n",
       "      <td>[https://www.reddit.com/r/Cringetopia/comments...</td>\n",
       "      <td>[(https, www.reddit.com, /r/Cringetopia/commen...</td>\n",
       "      <td>[]</td>\n",
       "      <td>[amp, xb]</td>\n",
       "      <td>246</td>\n",
       "      <td>1</td>\n",
       "    </tr>\n",
       "    <tr>\n",
       "      <th>362</th>\n",
       "      <td>OutOfTheLoop</td>\n",
       "      <td>Example: https://www.reddit.com/r/xboxone/comm...</td>\n",
       "      <td>[(https, www.reddit.com, /r/xboxone/comments/u...</td>\n",
       "      <td>[]</td>\n",
       "      <td>[exampl]</td>\n",
       "      <td>143</td>\n",
       "      <td>2</td>\n",
       "    </tr>\n",
       "    <tr>\n",
       "      <th>558</th>\n",
       "      <td>OutOfTheLoop</td>\n",
       "      <td>Example: [https://www.reddit.com/r/place/comme...</td>\n",
       "      <td>[(https, www.reddit.com, /r/place/comments/tw3...</td>\n",
       "      <td>[]</td>\n",
       "      <td>[exampl]</td>\n",
       "      <td>208</td>\n",
       "      <td>2</td>\n",
       "    </tr>\n",
       "    <tr>\n",
       "      <th>884</th>\n",
       "      <td>OutOfTheLoop</td>\n",
       "      <td>Example: https://www.reddit.com/r/Minecraftbui...</td>\n",
       "      <td>[(https, www.reddit.com, /r/Minecraftbuilds/co...</td>\n",
       "      <td>[]</td>\n",
       "      <td>[exampl]</td>\n",
       "      <td>193</td>\n",
       "      <td>2</td>\n",
       "    </tr>\n",
       "    <tr>\n",
       "      <th>1063</th>\n",
       "      <td>OutOfTheLoop</td>\n",
       "      <td>https://www.reddit.com/r/Cringetopia/comments/...</td>\n",
       "      <td>[(https, www.reddit.com, /r/Cringetopia/commen...</td>\n",
       "      <td>[]</td>\n",
       "      <td>[for, refer]</td>\n",
       "      <td>92</td>\n",
       "      <td>2</td>\n",
       "    </tr>\n",
       "    <tr>\n",
       "      <th>2255</th>\n",
       "      <td>OutOfTheLoop</td>\n",
       "      <td>https://www.reddit.com/r/MURICA/comments/vu2lr...</td>\n",
       "      <td>[(https, www.reddit.com, /r/MURICA/comments/vu...</td>\n",
       "      <td>[]</td>\n",
       "      <td>[sourc]</td>\n",
       "      <td>164</td>\n",
       "      <td>2</td>\n",
       "    </tr>\n",
       "    <tr>\n",
       "      <th>2419</th>\n",
       "      <td>OutOfTheLoop</td>\n",
       "      <td>Example: https://images.app.goo.gl/XYMYdAsghHe...</td>\n",
       "      <td>[(https, images.app.goo.gl, /XYMYdAsghHegh7kGA)]</td>\n",
       "      <td>[]</td>\n",
       "      <td>[exampl]</td>\n",
       "      <td>52</td>\n",
       "      <td>2</td>\n",
       "    </tr>\n",
       "    <tr>\n",
       "      <th>3652</th>\n",
       "      <td>OutOfTheLoop</td>\n",
       "      <td>Context: https://www.bbc.com/news/business-613...</td>\n",
       "      <td>[(https, www.bbc.com, /news/business-61332272....</td>\n",
       "      <td>[]</td>\n",
       "      <td>[context]</td>\n",
       "      <td>55</td>\n",
       "      <td>2</td>\n",
       "    </tr>\n",
       "    <tr>\n",
       "      <th>3683</th>\n",
       "      <td>OutOfTheLoop</td>\n",
       "      <td>[https://i.imgur.com/FhKvbT0.png](https://i.im...</td>\n",
       "      <td>[(https, i.imgur.com, /FhKvbT0.png), (https, i...</td>\n",
       "      <td>[]</td>\n",
       "      <td>[thank]</td>\n",
       "      <td>75</td>\n",
       "      <td>2</td>\n",
       "    </tr>\n",
       "  </tbody>\n",
       "</table>\n",
       "</div>"
      ],
      "text/plain": [
       "         subreddit                                           selftext  \\\n",
       "530   OutOfTheLoop  Examples:[https://www.tiktok.com/@achric/video...   \n",
       "951   OutOfTheLoop  [https://www.reddit.com/r/Cringetopia/comments...   \n",
       "362   OutOfTheLoop  Example: https://www.reddit.com/r/xboxone/comm...   \n",
       "558   OutOfTheLoop  Example: [https://www.reddit.com/r/place/comme...   \n",
       "884   OutOfTheLoop  Example: https://www.reddit.com/r/Minecraftbui...   \n",
       "1063  OutOfTheLoop  https://www.reddit.com/r/Cringetopia/comments/...   \n",
       "2255  OutOfTheLoop  https://www.reddit.com/r/MURICA/comments/vu2lr...   \n",
       "2419  OutOfTheLoop  Example: https://images.app.goo.gl/XYMYdAsghHe...   \n",
       "3652  OutOfTheLoop  Context: https://www.bbc.com/news/business-613...   \n",
       "3683  OutOfTheLoop  [https://i.imgur.com/FhKvbT0.png](https://i.im...   \n",
       "\n",
       "                                                  links youtube_links  \\\n",
       "530   [(https, www.tiktok.com, /@achric/video/712698...            []   \n",
       "951   [(https, www.reddit.com, /r/Cringetopia/commen...            []   \n",
       "362   [(https, www.reddit.com, /r/xboxone/comments/u...            []   \n",
       "558   [(https, www.reddit.com, /r/place/comments/tw3...            []   \n",
       "884   [(https, www.reddit.com, /r/Minecraftbuilds/co...            []   \n",
       "1063  [(https, www.reddit.com, /r/Cringetopia/commen...            []   \n",
       "2255  [(https, www.reddit.com, /r/MURICA/comments/vu...            []   \n",
       "2419   [(https, images.app.goo.gl, /XYMYdAsghHegh7kGA)]            []   \n",
       "3652  [(https, www.bbc.com, /news/business-61332272....            []   \n",
       "3683  [(https, i.imgur.com, /FhKvbT0.png), (https, i...            []   \n",
       "\n",
       "            tokens  selftext_length  selftext_word_count  \n",
       "530       [exampl]              429                    1  \n",
       "951      [amp, xb]              246                    1  \n",
       "362       [exampl]              143                    2  \n",
       "558       [exampl]              208                    2  \n",
       "884       [exampl]              193                    2  \n",
       "1063  [for, refer]               92                    2  \n",
       "2255       [sourc]              164                    2  \n",
       "2419      [exampl]               52                    2  \n",
       "3652     [context]               55                    2  \n",
       "3683       [thank]               75                    2  "
      ]
     },
     "execution_count": 822,
     "metadata": {},
     "output_type": "execute_result"
    }
   ],
   "source": [
    "# Shortest statuses\n",
    "df[df['subreddit']=='OutOfTheLoop'].nsmallest(10, ['selftext_word_count'])"
   ]
  },
  {
   "cell_type": "code",
   "execution_count": 823,
   "metadata": {},
   "outputs": [
    {
     "data": {
      "text/html": [
       "<div>\n",
       "<style scoped>\n",
       "    .dataframe tbody tr th:only-of-type {\n",
       "        vertical-align: middle;\n",
       "    }\n",
       "\n",
       "    .dataframe tbody tr th {\n",
       "        vertical-align: top;\n",
       "    }\n",
       "\n",
       "    .dataframe thead th {\n",
       "        text-align: right;\n",
       "    }\n",
       "</style>\n",
       "<table border=\"1\" class=\"dataframe\">\n",
       "  <thead>\n",
       "    <tr style=\"text-align: right;\">\n",
       "      <th></th>\n",
       "      <th>subreddit</th>\n",
       "      <th>selftext</th>\n",
       "      <th>links</th>\n",
       "      <th>youtube_links</th>\n",
       "      <th>tokens</th>\n",
       "      <th>selftext_length</th>\n",
       "      <th>selftext_word_count</th>\n",
       "    </tr>\n",
       "  </thead>\n",
       "  <tbody>\n",
       "    <tr>\n",
       "      <th>716</th>\n",
       "      <td>OutOfTheLoop</td>\n",
       "      <td>I don’t understand streamer/influencer culture...</td>\n",
       "      <td>[(https, m.youtube.com, /watch?v=E_F5GxCwizc),...</td>\n",
       "      <td>[]</td>\n",
       "      <td>[i, don, t, understand, streamer, influenc, cu...</td>\n",
       "      <td>4255</td>\n",
       "      <td>631</td>\n",
       "    </tr>\n",
       "    <tr>\n",
       "      <th>715</th>\n",
       "      <td>OutOfTheLoop</td>\n",
       "      <td>So - full disclosure - as a millennial with a ...</td>\n",
       "      <td>[(https, m.youtube.com, /watch?v=E_F5GxCwizc),...</td>\n",
       "      <td>[]</td>\n",
       "      <td>[so, full, disclosur, as, a, millenni, with, a...</td>\n",
       "      <td>4179</td>\n",
       "      <td>624</td>\n",
       "    </tr>\n",
       "    <tr>\n",
       "      <th>3987</th>\n",
       "      <td>OutOfTheLoop</td>\n",
       "      <td>I’m trying to explain to my mom this stereotyp...</td>\n",
       "      <td>[(https, imgur.com, /a/FcebQhG), (https, imgur...</td>\n",
       "      <td>[]</td>\n",
       "      <td>[i, m, tri, to, explain, to, my, mom, thi, ste...</td>\n",
       "      <td>3333</td>\n",
       "      <td>571</td>\n",
       "    </tr>\n",
       "    <tr>\n",
       "      <th>2083</th>\n",
       "      <td>OutOfTheLoop</td>\n",
       "      <td>This is not meant to be an offensive post. I a...</td>\n",
       "      <td>[(https, www.thegamer.com, /guilty-gear-strive...</td>\n",
       "      <td>[]</td>\n",
       "      <td>[thi, is, not, meant, to, be, an, offens, post...</td>\n",
       "      <td>3140</td>\n",
       "      <td>483</td>\n",
       "    </tr>\n",
       "    <tr>\n",
       "      <th>3623</th>\n",
       "      <td>OutOfTheLoop</td>\n",
       "      <td>A lot of times, I will have trashy tv on as ba...</td>\n",
       "      <td>[(https, en.wikipedia.org, /wiki/Sovereign_cit...</td>\n",
       "      <td>[]</td>\n",
       "      <td>[a, lot, of, time, i, will, have, trashi, tv, ...</td>\n",
       "      <td>2610</td>\n",
       "      <td>451</td>\n",
       "    </tr>\n",
       "    <tr>\n",
       "      <th>935</th>\n",
       "      <td>OutOfTheLoop</td>\n",
       "      <td>Beware: Very NSFW topics ahead (scatology and ...</td>\n",
       "      <td>[(https, en.memesrandom.com, /porta-potty-duba...</td>\n",
       "      <td>[]</td>\n",
       "      <td>[bewar, veri, nsfw, topic, ahead, i, don, t, k...</td>\n",
       "      <td>2348</td>\n",
       "      <td>390</td>\n",
       "    </tr>\n",
       "    <tr>\n",
       "      <th>2745</th>\n",
       "      <td>OutOfTheLoop</td>\n",
       "      <td>For many many reasons, I have an issue with th...</td>\n",
       "      <td>[(https, www.change.org, /saveincandescents)]</td>\n",
       "      <td>[]</td>\n",
       "      <td>[for, mani, mani, reason, i, have, an, issu, w...</td>\n",
       "      <td>2195</td>\n",
       "      <td>384</td>\n",
       "    </tr>\n",
       "    <tr>\n",
       "      <th>1060</th>\n",
       "      <td>OutOfTheLoop</td>\n",
       "      <td>[https://cacm.acm.org/system/assets/0003/5271/...</td>\n",
       "      <td>[(https, cacm.acm.org, /system/assets/0003/527...</td>\n",
       "      <td>[]</td>\n",
       "      <td>[so, i, ve, been, around, for, year, and, thi,...</td>\n",
       "      <td>2248</td>\n",
       "      <td>349</td>\n",
       "    </tr>\n",
       "    <tr>\n",
       "      <th>987</th>\n",
       "      <td>OutOfTheLoop</td>\n",
       "      <td>(Original title: What is the significance of t...</td>\n",
       "      <td>[(https, www.dailymail.co.uk, /news/article-10...</td>\n",
       "      <td>[]</td>\n",
       "      <td>[note, i, don, t, use, the, internet, much, at...</td>\n",
       "      <td>2018</td>\n",
       "      <td>328</td>\n",
       "    </tr>\n",
       "    <tr>\n",
       "      <th>1148</th>\n",
       "      <td>OutOfTheLoop</td>\n",
       "      <td>This morning, in Dobbs vs. Jackson Womens' Hea...</td>\n",
       "      <td>[]</td>\n",
       "      <td>[]</td>\n",
       "      <td>[thi, morn, in, dobb, vs, jackson, women, heal...</td>\n",
       "      <td>2025</td>\n",
       "      <td>323</td>\n",
       "    </tr>\n",
       "  </tbody>\n",
       "</table>\n",
       "</div>"
      ],
      "text/plain": [
       "         subreddit                                           selftext  \\\n",
       "716   OutOfTheLoop  I don’t understand streamer/influencer culture...   \n",
       "715   OutOfTheLoop  So - full disclosure - as a millennial with a ...   \n",
       "3987  OutOfTheLoop  I’m trying to explain to my mom this stereotyp...   \n",
       "2083  OutOfTheLoop  This is not meant to be an offensive post. I a...   \n",
       "3623  OutOfTheLoop  A lot of times, I will have trashy tv on as ba...   \n",
       "935   OutOfTheLoop  Beware: Very NSFW topics ahead (scatology and ...   \n",
       "2745  OutOfTheLoop  For many many reasons, I have an issue with th...   \n",
       "1060  OutOfTheLoop  [https://cacm.acm.org/system/assets/0003/5271/...   \n",
       "987   OutOfTheLoop  (Original title: What is the significance of t...   \n",
       "1148  OutOfTheLoop  This morning, in Dobbs vs. Jackson Womens' Hea...   \n",
       "\n",
       "                                                  links youtube_links  \\\n",
       "716   [(https, m.youtube.com, /watch?v=E_F5GxCwizc),...            []   \n",
       "715   [(https, m.youtube.com, /watch?v=E_F5GxCwizc),...            []   \n",
       "3987  [(https, imgur.com, /a/FcebQhG), (https, imgur...            []   \n",
       "2083  [(https, www.thegamer.com, /guilty-gear-strive...            []   \n",
       "3623  [(https, en.wikipedia.org, /wiki/Sovereign_cit...            []   \n",
       "935   [(https, en.memesrandom.com, /porta-potty-duba...            []   \n",
       "2745      [(https, www.change.org, /saveincandescents)]            []   \n",
       "1060  [(https, cacm.acm.org, /system/assets/0003/527...            []   \n",
       "987   [(https, www.dailymail.co.uk, /news/article-10...            []   \n",
       "1148                                                 []            []   \n",
       "\n",
       "                                                 tokens  selftext_length  \\\n",
       "716   [i, don, t, understand, streamer, influenc, cu...             4255   \n",
       "715   [so, full, disclosur, as, a, millenni, with, a...             4179   \n",
       "3987  [i, m, tri, to, explain, to, my, mom, thi, ste...             3333   \n",
       "2083  [thi, is, not, meant, to, be, an, offens, post...             3140   \n",
       "3623  [a, lot, of, time, i, will, have, trashi, tv, ...             2610   \n",
       "935   [bewar, veri, nsfw, topic, ahead, i, don, t, k...             2348   \n",
       "2745  [for, mani, mani, reason, i, have, an, issu, w...             2195   \n",
       "1060  [so, i, ve, been, around, for, year, and, thi,...             2248   \n",
       "987   [note, i, don, t, use, the, internet, much, at...             2018   \n",
       "1148  [thi, morn, in, dobb, vs, jackson, women, heal...             2025   \n",
       "\n",
       "      selftext_word_count  \n",
       "716                   631  \n",
       "715                   624  \n",
       "3987                  571  \n",
       "2083                  483  \n",
       "3623                  451  \n",
       "935                   390  \n",
       "2745                  384  \n",
       "1060                  349  \n",
       "987                   328  \n",
       "1148                  323  "
      ]
     },
     "execution_count": 823,
     "metadata": {},
     "output_type": "execute_result"
    }
   ],
   "source": [
    "# Longest statuses:\n",
    "df[df['subreddit']=='OutOfTheLoop'].nlargest(10, ['selftext_word_count'])"
   ]
  },
  {
   "cell_type": "code",
   "execution_count": 824,
   "metadata": {},
   "outputs": [
    {
     "data": {
      "text/html": [
       "<div>\n",
       "<style scoped>\n",
       "    .dataframe tbody tr th:only-of-type {\n",
       "        vertical-align: middle;\n",
       "    }\n",
       "\n",
       "    .dataframe tbody tr th {\n",
       "        vertical-align: top;\n",
       "    }\n",
       "\n",
       "    .dataframe thead th {\n",
       "        text-align: right;\n",
       "    }\n",
       "</style>\n",
       "<table border=\"1\" class=\"dataframe\">\n",
       "  <thead>\n",
       "    <tr style=\"text-align: right;\">\n",
       "      <th></th>\n",
       "      <th>subreddit</th>\n",
       "      <th>selftext</th>\n",
       "      <th>links</th>\n",
       "      <th>youtube_links</th>\n",
       "      <th>tokens</th>\n",
       "      <th>selftext_length</th>\n",
       "      <th>selftext_word_count</th>\n",
       "    </tr>\n",
       "  </thead>\n",
       "  <tbody>\n",
       "    <tr>\n",
       "      <th>3989</th>\n",
       "      <td>explainlikeimfive</td>\n",
       "      <td>I</td>\n",
       "      <td>[]</td>\n",
       "      <td>[]</td>\n",
       "      <td>[i]</td>\n",
       "      <td>1</td>\n",
       "      <td>1</td>\n",
       "    </tr>\n",
       "    <tr>\n",
       "      <th>801</th>\n",
       "      <td>explainlikeimfive</td>\n",
       "      <td>Imaginary numbers.</td>\n",
       "      <td>[]</td>\n",
       "      <td>[]</td>\n",
       "      <td>[imaginari, number]</td>\n",
       "      <td>18</td>\n",
       "      <td>2</td>\n",
       "    </tr>\n",
       "    <tr>\n",
       "      <th>1059</th>\n",
       "      <td>explainlikeimfive</td>\n",
       "      <td>Just curious</td>\n",
       "      <td>[]</td>\n",
       "      <td>[]</td>\n",
       "      <td>[just, curiou]</td>\n",
       "      <td>12</td>\n",
       "      <td>2</td>\n",
       "    </tr>\n",
       "    <tr>\n",
       "      <th>2331</th>\n",
       "      <td>explainlikeimfive</td>\n",
       "      <td>I wonder.</td>\n",
       "      <td>[]</td>\n",
       "      <td>[]</td>\n",
       "      <td>[i, wonder]</td>\n",
       "      <td>9</td>\n",
       "      <td>2</td>\n",
       "    </tr>\n",
       "    <tr>\n",
       "      <th>3941</th>\n",
       "      <td>explainlikeimfive</td>\n",
       "      <td>The title</td>\n",
       "      <td>[]</td>\n",
       "      <td>[]</td>\n",
       "      <td>[the, titl]</td>\n",
       "      <td>9</td>\n",
       "      <td>2</td>\n",
       "    </tr>\n",
       "    <tr>\n",
       "      <th>4096</th>\n",
       "      <td>explainlikeimfive</td>\n",
       "      <td>What changed</td>\n",
       "      <td>[]</td>\n",
       "      <td>[]</td>\n",
       "      <td>[what, chang]</td>\n",
       "      <td>12</td>\n",
       "      <td>2</td>\n",
       "    </tr>\n",
       "    <tr>\n",
       "      <th>61</th>\n",
       "      <td>explainlikeimfive</td>\n",
       "      <td>Well I’m clueless</td>\n",
       "      <td>[]</td>\n",
       "      <td>[]</td>\n",
       "      <td>[well, i, m, clueless]</td>\n",
       "      <td>17</td>\n",
       "      <td>3</td>\n",
       "    </tr>\n",
       "    <tr>\n",
       "      <th>445</th>\n",
       "      <td>explainlikeimfive</td>\n",
       "      <td>Part 1:\\nhttps://www.tiktok.com/t/ZTR556D52/\\n...</td>\n",
       "      <td>[(https, www.tiktok.com, /t/ZTR556D52/), (http...</td>\n",
       "      <td>[]</td>\n",
       "      <td>[part, part]</td>\n",
       "      <td>87</td>\n",
       "      <td>3</td>\n",
       "    </tr>\n",
       "    <tr>\n",
       "      <th>849</th>\n",
       "      <td>explainlikeimfive</td>\n",
       "      <td>General mechanics/indications—- thanksss:)</td>\n",
       "      <td>[]</td>\n",
       "      <td>[]</td>\n",
       "      <td>[gener, mechan, indic, thanksss]</td>\n",
       "      <td>42</td>\n",
       "      <td>3</td>\n",
       "    </tr>\n",
       "    <tr>\n",
       "      <th>1819</th>\n",
       "      <td>explainlikeimfive</td>\n",
       "      <td>Also stomach etc…</td>\n",
       "      <td>[]</td>\n",
       "      <td>[]</td>\n",
       "      <td>[also, stomach, etc]</td>\n",
       "      <td>17</td>\n",
       "      <td>3</td>\n",
       "    </tr>\n",
       "  </tbody>\n",
       "</table>\n",
       "</div>"
      ],
      "text/plain": [
       "              subreddit                                           selftext  \\\n",
       "3989  explainlikeimfive                                                  I   \n",
       "801   explainlikeimfive                                 Imaginary numbers.   \n",
       "1059  explainlikeimfive                                       Just curious   \n",
       "2331  explainlikeimfive                                          I wonder.   \n",
       "3941  explainlikeimfive                                          The title   \n",
       "4096  explainlikeimfive                                       What changed   \n",
       "61    explainlikeimfive                                  Well I’m clueless   \n",
       "445   explainlikeimfive  Part 1:\\nhttps://www.tiktok.com/t/ZTR556D52/\\n...   \n",
       "849   explainlikeimfive         General mechanics/indications—- thanksss:)   \n",
       "1819  explainlikeimfive                                  Also stomach etc…   \n",
       "\n",
       "                                                  links youtube_links  \\\n",
       "3989                                                 []            []   \n",
       "801                                                  []            []   \n",
       "1059                                                 []            []   \n",
       "2331                                                 []            []   \n",
       "3941                                                 []            []   \n",
       "4096                                                 []            []   \n",
       "61                                                   []            []   \n",
       "445   [(https, www.tiktok.com, /t/ZTR556D52/), (http...            []   \n",
       "849                                                  []            []   \n",
       "1819                                                 []            []   \n",
       "\n",
       "                                tokens  selftext_length  selftext_word_count  \n",
       "3989                               [i]                1                    1  \n",
       "801                [imaginari, number]               18                    2  \n",
       "1059                    [just, curiou]               12                    2  \n",
       "2331                       [i, wonder]                9                    2  \n",
       "3941                       [the, titl]                9                    2  \n",
       "4096                     [what, chang]               12                    2  \n",
       "61              [well, i, m, clueless]               17                    3  \n",
       "445                       [part, part]               87                    3  \n",
       "849   [gener, mechan, indic, thanksss]               42                    3  \n",
       "1819              [also, stomach, etc]               17                    3  "
      ]
     },
     "execution_count": 824,
     "metadata": {},
     "output_type": "execute_result"
    }
   ],
   "source": [
    "df[df['subreddit']=='explainlikeimfive'].nsmallest(10, ['selftext_word_count'])"
   ]
  },
  {
   "cell_type": "code",
   "execution_count": 825,
   "metadata": {},
   "outputs": [
    {
     "data": {
      "text/html": [
       "<div>\n",
       "<style scoped>\n",
       "    .dataframe tbody tr th:only-of-type {\n",
       "        vertical-align: middle;\n",
       "    }\n",
       "\n",
       "    .dataframe tbody tr th {\n",
       "        vertical-align: top;\n",
       "    }\n",
       "\n",
       "    .dataframe thead th {\n",
       "        text-align: right;\n",
       "    }\n",
       "</style>\n",
       "<table border=\"1\" class=\"dataframe\">\n",
       "  <thead>\n",
       "    <tr style=\"text-align: right;\">\n",
       "      <th></th>\n",
       "      <th>subreddit</th>\n",
       "      <th>selftext</th>\n",
       "      <th>links</th>\n",
       "      <th>youtube_links</th>\n",
       "      <th>tokens</th>\n",
       "      <th>selftext_length</th>\n",
       "      <th>selftext_word_count</th>\n",
       "    </tr>\n",
       "  </thead>\n",
       "  <tbody>\n",
       "    <tr>\n",
       "      <th>891</th>\n",
       "      <td>explainlikeimfive</td>\n",
       "      <td>I will try to explain best as I can, everythin...</td>\n",
       "      <td>[]</td>\n",
       "      <td>[]</td>\n",
       "      <td>[i, will, tri, to, explain, best, as, i, can, ...</td>\n",
       "      <td>10691</td>\n",
       "      <td>2037</td>\n",
       "    </tr>\n",
       "    <tr>\n",
       "      <th>4111</th>\n",
       "      <td>explainlikeimfive</td>\n",
       "      <td>𝐎𝐧𝐞 𝐨𝐟 𝐭𝐡𝐞 𝐛𝐢𝐠𝐠𝐞𝐬𝐭 𝐛𝐨𝐨𝐧𝐬💥 to performance in a ...</td>\n",
       "      <td>[]</td>\n",
       "      <td>[]</td>\n",
       "      <td>[𝐎𝐧𝐞, 𝐨𝐟, 𝐭𝐡𝐞, 𝐛𝐢𝐠𝐠𝐞𝐬𝐭, 𝐛𝐨𝐨𝐧𝐬, to, perform, in...</td>\n",
       "      <td>2504</td>\n",
       "      <td>414</td>\n",
       "    </tr>\n",
       "    <tr>\n",
       "      <th>2672</th>\n",
       "      <td>explainlikeimfive</td>\n",
       "      <td>I have one credit card - a secured credit card...</td>\n",
       "      <td>[]</td>\n",
       "      <td>[]</td>\n",
       "      <td>[i, have, one, credit, card, a, secur, credit,...</td>\n",
       "      <td>2048</td>\n",
       "      <td>375</td>\n",
       "    </tr>\n",
       "    <tr>\n",
       "      <th>3702</th>\n",
       "      <td>explainlikeimfive</td>\n",
       "      <td>I read something about how some reptiles and a...</td>\n",
       "      <td>[]</td>\n",
       "      <td>[]</td>\n",
       "      <td>[i, read, someth, about, how, some, reptil, an...</td>\n",
       "      <td>1659</td>\n",
       "      <td>297</td>\n",
       "    </tr>\n",
       "    <tr>\n",
       "      <th>1604</th>\n",
       "      <td>explainlikeimfive</td>\n",
       "      <td>I was initially reading about AI but went down...</td>\n",
       "      <td>[]</td>\n",
       "      <td>[]</td>\n",
       "      <td>[i, wa, initi, read, about, ai, but, went, dow...</td>\n",
       "      <td>1629</td>\n",
       "      <td>284</td>\n",
       "    </tr>\n",
       "    <tr>\n",
       "      <th>3427</th>\n",
       "      <td>explainlikeimfive</td>\n",
       "      <td>I don't buy the hippy mumbo jumbo B.S. but I i...</td>\n",
       "      <td>[]</td>\n",
       "      <td>[]</td>\n",
       "      <td>[i, don, t, buy, the, hippi, mumbo, jumbo, b, ...</td>\n",
       "      <td>1425</td>\n",
       "      <td>284</td>\n",
       "    </tr>\n",
       "    <tr>\n",
       "      <th>608</th>\n",
       "      <td>explainlikeimfive</td>\n",
       "      <td>So the title doesn't do the best job asking my...</td>\n",
       "      <td>[]</td>\n",
       "      <td>[]</td>\n",
       "      <td>[so, the, titl, doesn, t, do, the, best, job, ...</td>\n",
       "      <td>1610</td>\n",
       "      <td>277</td>\n",
       "    </tr>\n",
       "    <tr>\n",
       "      <th>1656</th>\n",
       "      <td>explainlikeimfive</td>\n",
       "      <td>I just need something explained to me because ...</td>\n",
       "      <td>[]</td>\n",
       "      <td>[]</td>\n",
       "      <td>[i, just, need, someth, explain, to, me, becau...</td>\n",
       "      <td>1436</td>\n",
       "      <td>268</td>\n",
       "    </tr>\n",
       "    <tr>\n",
       "      <th>274</th>\n",
       "      <td>explainlikeimfive</td>\n",
       "      <td>I'm a lighting engineer for events (gigs, club...</td>\n",
       "      <td>[]</td>\n",
       "      <td>[]</td>\n",
       "      <td>[i, m, a, light, engin, for, event, i, do, som...</td>\n",
       "      <td>1406</td>\n",
       "      <td>263</td>\n",
       "    </tr>\n",
       "    <tr>\n",
       "      <th>2250</th>\n",
       "      <td>explainlikeimfive</td>\n",
       "      <td>\\n\\nA year and a half ago, I met this guy who ...</td>\n",
       "      <td>[]</td>\n",
       "      <td>[]</td>\n",
       "      <td>[a, year, and, a, half, ago, i, met, thi, guy,...</td>\n",
       "      <td>1328</td>\n",
       "      <td>263</td>\n",
       "    </tr>\n",
       "  </tbody>\n",
       "</table>\n",
       "</div>"
      ],
      "text/plain": [
       "              subreddit                                           selftext  \\\n",
       "891   explainlikeimfive  I will try to explain best as I can, everythin...   \n",
       "4111  explainlikeimfive  𝐎𝐧𝐞 𝐨𝐟 𝐭𝐡𝐞 𝐛𝐢𝐠𝐠𝐞𝐬𝐭 𝐛𝐨𝐨𝐧𝐬💥 to performance in a ...   \n",
       "2672  explainlikeimfive  I have one credit card - a secured credit card...   \n",
       "3702  explainlikeimfive  I read something about how some reptiles and a...   \n",
       "1604  explainlikeimfive  I was initially reading about AI but went down...   \n",
       "3427  explainlikeimfive  I don't buy the hippy mumbo jumbo B.S. but I i...   \n",
       "608   explainlikeimfive  So the title doesn't do the best job asking my...   \n",
       "1656  explainlikeimfive  I just need something explained to me because ...   \n",
       "274   explainlikeimfive  I'm a lighting engineer for events (gigs, club...   \n",
       "2250  explainlikeimfive  \\n\\nA year and a half ago, I met this guy who ...   \n",
       "\n",
       "     links youtube_links                                             tokens  \\\n",
       "891     []            []  [i, will, tri, to, explain, best, as, i, can, ...   \n",
       "4111    []            []  [𝐎𝐧𝐞, 𝐨𝐟, 𝐭𝐡𝐞, 𝐛𝐢𝐠𝐠𝐞𝐬𝐭, 𝐛𝐨𝐨𝐧𝐬, to, perform, in...   \n",
       "2672    []            []  [i, have, one, credit, card, a, secur, credit,...   \n",
       "3702    []            []  [i, read, someth, about, how, some, reptil, an...   \n",
       "1604    []            []  [i, wa, initi, read, about, ai, but, went, dow...   \n",
       "3427    []            []  [i, don, t, buy, the, hippi, mumbo, jumbo, b, ...   \n",
       "608     []            []  [so, the, titl, doesn, t, do, the, best, job, ...   \n",
       "1656    []            []  [i, just, need, someth, explain, to, me, becau...   \n",
       "274     []            []  [i, m, a, light, engin, for, event, i, do, som...   \n",
       "2250    []            []  [a, year, and, a, half, ago, i, met, thi, guy,...   \n",
       "\n",
       "      selftext_length  selftext_word_count  \n",
       "891             10691                 2037  \n",
       "4111             2504                  414  \n",
       "2672             2048                  375  \n",
       "3702             1659                  297  \n",
       "1604             1629                  284  \n",
       "3427             1425                  284  \n",
       "608              1610                  277  \n",
       "1656             1436                  268  \n",
       "274              1406                  263  \n",
       "2250             1328                  263  "
      ]
     },
     "execution_count": 825,
     "metadata": {},
     "output_type": "execute_result"
    }
   ],
   "source": [
    "df[df['subreddit']=='explainlikeimfive'].nlargest(10, ['selftext_word_count'])"
   ]
  },
  {
   "cell_type": "markdown",
   "metadata": {},
   "source": [
    "## What's the distribution of post lengths?\n",
    "\n",
    "Distributions of post lengths and word counts in corpus. Both of them are skewed to the rigth."
   ]
  },
  {
   "cell_type": "code",
   "execution_count": 826,
   "metadata": {},
   "outputs": [
    {
     "data": {
      "text/plain": [
       "<Figure size 720x360 with 0 Axes>"
      ]
     },
     "metadata": {},
     "output_type": "display_data"
    },
    {
     "data": {
      "image/png": "[encoded data removed]",
      "text/plain": [
       "<Figure size 360x360 with 1 Axes>"
      ]
     },
     "metadata": {
      "needs_background": "light"
     },
     "output_type": "display_data"
    }
   ],
   "source": [
    "# Plotting Distributions\n",
    "plt.figure(figsize = (10, 5))\n",
    "sns.displot(df['selftext_length'], kind = 'hist', bins = 100)\n",
    "plt.title('Distribution of Selftext Length ');"
   ]
  },
  {
   "cell_type": "code",
   "execution_count": 827,
   "metadata": {},
   "outputs": [
    {
     "data": {
      "text/plain": [
       "<Figure size 720x360 with 0 Axes>"
      ]
     },
     "metadata": {},
     "output_type": "display_data"
    },
    {
     "data": {
      "image/png": "[encoded data removed]",
      "text/plain": [
       "<Figure size 360x360 with 1 Axes>"
      ]
     },
     "metadata": {
      "needs_background": "light"
     },
     "output_type": "display_data"
    }
   ],
   "source": [
    "# Plotting\n",
    "plt.figure(figsize = (10, 5))\n",
    "sns.displot(df['selftext_word_count'], kind = 'hist', bins = 100)\n",
    "plt.title('Distribution of Selftext Word Count ');"
   ]
  },
  {
   "cell_type": "markdown",
   "metadata": {},
   "source": [
    "### Removing Outliers\n"
   ]
  },
  {
   "cell_type": "code",
   "execution_count": 828,
   "metadata": {},
   "outputs": [
    {
     "data": {
      "text/plain": [
       "(4248, 7)"
      ]
     },
     "execution_count": 828,
     "metadata": {},
     "output_type": "execute_result"
    },
    {
     "data": {
      "image/png": "[encoded data removed]",
      "text/plain": [
       "<Figure size 720x360 with 1 Axes>"
      ]
     },
     "metadata": {
      "needs_background": "light"
     },
     "output_type": "display_data"
    }
   ],
   "source": [
    "# Checking Outliers\n",
    "plt.figure(figsize = (10, 5))\n",
    "plt.title('Word Length')\n",
    "sns.boxplot(x = df['selftext_length'], color = 'y');\n",
    "df.shape"
   ]
  },
  {
   "cell_type": "code",
   "execution_count": 829,
   "metadata": {},
   "outputs": [
    {
     "data": {
      "text/plain": [
       "(4248, 7)"
      ]
     },
     "execution_count": 829,
     "metadata": {},
     "output_type": "execute_result"
    },
    {
     "data": {
      "image/png": "[encoded data removed]",
      "text/plain": [
       "<Figure size 720x360 with 1 Axes>"
      ]
     },
     "metadata": {
      "needs_background": "light"
     },
     "output_type": "display_data"
    }
   ],
   "source": [
    "plt.figure(figsize = (10, 5))\n",
    "plt.title('Word Count ')\n",
    "sns.boxplot(x = df['selftext_word_count'], color = 'y');\n",
    "df.shape"
   ]
  },
  {
   "cell_type": "code",
   "execution_count": 831,
   "metadata": {},
   "outputs": [
    {
     "name": "stderr",
     "output_type": "stream",
     "text": [
      "/var/folders/l8/cflxs4pj1h362zjpxchj9jd00000gn/T/ipykernel_92448/1827809193.py:4: SettingWithCopyWarning: \n",
      "A value is trying to be set on a copy of a slice from a DataFrame\n",
      "\n",
      "See the caveats in the documentation: https://pandas.pydata.org/pandas-docs/stable/user_guide/indexing.html#returning-a-view-versus-a-copy\n",
      "  df.drop(df[df['selftext_word_count'] < (Q1 - 1.5 * IQR)].index, inplace=True)\n",
      "/var/folders/l8/cflxs4pj1h362zjpxchj9jd00000gn/T/ipykernel_92448/1827809193.py:5: SettingWithCopyWarning: \n",
      "A value is trying to be set on a copy of a slice from a DataFrame\n",
      "\n",
      "See the caveats in the documentation: https://pandas.pydata.org/pandas-docs/stable/user_guide/indexing.html#returning-a-view-versus-a-copy\n",
      "  df.drop(df[df['selftext_word_count'] > (Q3 + 1.5 * IQR)].index, inplace=True)\n"
     ]
    },
    {
     "data": {
      "text/plain": [
       "(3998, 7)"
      ]
     },
     "execution_count": 831,
     "metadata": {},
     "output_type": "execute_result"
    }
   ],
   "source": [
    "# Removing Outliers\n",
    "Q1 =  df['selftext_word_count'].quantile(0.25)\n",
    "Q3 =  df['selftext_word_count'].quantile(0.75)\n",
    "IQR = Q3 - Q1\n",
    "df.drop(df[df['selftext_word_count'] < (Q1 - 1.5 * IQR)].index, inplace=True)   \n",
    "df.drop(df[df['selftext_word_count'] > (Q3 + 1.5 * IQR)].index, inplace=True)\n",
    "df.shape"
   ]
  },
  {
   "cell_type": "markdown",
   "metadata": {},
   "source": [
    "### Distributions After Removing Outliers\n",
    "___"
   ]
  },
  {
   "cell_type": "code",
   "execution_count": 870,
   "metadata": {},
   "outputs": [
    {
     "data": {
      "text/plain": [
       "<Figure size 720x360 with 0 Axes>"
      ]
     },
     "metadata": {},
     "output_type": "display_data"
    },
    {
     "data": {
      "image/png": "[encoded data removed]",
      "text/plain": [
       "<Figure size 360x360 with 1 Axes>"
      ]
     },
     "metadata": {
      "needs_background": "light"
     },
     "output_type": "display_data"
    }
   ],
   "source": [
    "# Checking Plots after removing Outliers\n",
    "sns.displot(\n",
    "    df['selftext_length'], \n",
    "    kind = 'hist', \n",
    "    bins = 100\n",
    "    ).set(title=\"Distribution of Selftext Length\");"
   ]
  },
  {
   "cell_type": "code",
   "execution_count": 833,
   "metadata": {},
   "outputs": [
    {
     "data": {
      "text/plain": [
       "(3998, 7)"
      ]
     },
     "execution_count": 833,
     "metadata": {},
     "output_type": "execute_result"
    },
    {
     "data": {
      "image/png": "[encoded data removed]",
      "text/plain": [
       "<Figure size 720x360 with 1 Axes>"
      ]
     },
     "metadata": {
      "needs_background": "light"
     },
     "output_type": "display_data"
    }
   ],
   "source": [
    "plt.figure(figsize = (10, 5))\n",
    "plt.title('Word Length')\n",
    "sns.boxplot(x = df['selftext_length'], color = 'y');\n",
    "df.shape"
   ]
  },
  {
   "cell_type": "code",
   "execution_count": 834,
   "metadata": {},
   "outputs": [
    {
     "data": {
      "image/png": "[encoded data removed]",
      "text/plain": [
       "<Figure size 720x360 with 1 Axes>"
      ]
     },
     "metadata": {
      "needs_background": "light"
     },
     "output_type": "display_data"
    }
   ],
   "source": [
    "plt.figure(figsize = (10, 5))\n",
    "plt.title('Word Count - explainlikeimfive')\n",
    "sns.boxplot(x = df['selftext_word_count'], color = 'y');"
   ]
  },
  {
   "cell_type": "code",
   "execution_count": 879,
   "metadata": {},
   "outputs": [
    {
     "data": {
      "image/png": "[encoded data removed]",
      "text/plain": [
       "<Figure size 360x360 with 1 Axes>"
      ]
     },
     "metadata": {
      "needs_background": "light"
     },
     "output_type": "display_data"
    }
   ],
   "source": [
    "sns.displot(df['selftext_word_count'], kind = 'hist', bins = 100).set(title=\"Distribution of Selftext Word Count\");"
   ]
  },
  {
   "cell_type": "markdown",
   "metadata": {},
   "source": [
    "### Summarizing Statistics"
   ]
  },
  {
   "cell_type": "code",
   "execution_count": 836,
   "metadata": {},
   "outputs": [
    {
     "data": {
      "text/html": [
       "<div>\n",
       "<style scoped>\n",
       "    .dataframe tbody tr th:only-of-type {\n",
       "        vertical-align: middle;\n",
       "    }\n",
       "\n",
       "    .dataframe tbody tr th {\n",
       "        vertical-align: top;\n",
       "    }\n",
       "\n",
       "    .dataframe thead th {\n",
       "        text-align: right;\n",
       "    }\n",
       "</style>\n",
       "<table border=\"1\" class=\"dataframe\">\n",
       "  <thead>\n",
       "    <tr style=\"text-align: right;\">\n",
       "      <th>subreddit</th>\n",
       "      <th>OutOfTheLoop</th>\n",
       "      <th>explainlikeimfive</th>\n",
       "    </tr>\n",
       "  </thead>\n",
       "  <tbody>\n",
       "    <tr>\n",
       "      <th>count</th>\n",
       "      <td>2155.000000</td>\n",
       "      <td>1843.000000</td>\n",
       "    </tr>\n",
       "    <tr>\n",
       "      <th>mean</th>\n",
       "      <td>45.196288</td>\n",
       "      <td>40.510581</td>\n",
       "    </tr>\n",
       "    <tr>\n",
       "      <th>std</th>\n",
       "      <td>26.784847</td>\n",
       "      <td>26.155039</td>\n",
       "    </tr>\n",
       "    <tr>\n",
       "      <th>min</th>\n",
       "      <td>1.000000</td>\n",
       "      <td>1.000000</td>\n",
       "    </tr>\n",
       "    <tr>\n",
       "      <th>25%</th>\n",
       "      <td>25.000000</td>\n",
       "      <td>20.000000</td>\n",
       "    </tr>\n",
       "    <tr>\n",
       "      <th>50%</th>\n",
       "      <td>40.000000</td>\n",
       "      <td>35.000000</td>\n",
       "    </tr>\n",
       "    <tr>\n",
       "      <th>75%</th>\n",
       "      <td>60.000000</td>\n",
       "      <td>55.000000</td>\n",
       "    </tr>\n",
       "    <tr>\n",
       "      <th>max</th>\n",
       "      <td>123.000000</td>\n",
       "      <td>124.000000</td>\n",
       "    </tr>\n",
       "  </tbody>\n",
       "</table>\n",
       "</div>"
      ],
      "text/plain": [
       "subreddit  OutOfTheLoop  explainlikeimfive\n",
       "count       2155.000000        1843.000000\n",
       "mean          45.196288          40.510581\n",
       "std           26.784847          26.155039\n",
       "min            1.000000           1.000000\n",
       "25%           25.000000          20.000000\n",
       "50%           40.000000          35.000000\n",
       "75%           60.000000          55.000000\n",
       "max          123.000000         124.000000"
      ]
     },
     "execution_count": 836,
     "metadata": {},
     "output_type": "execute_result"
    }
   ],
   "source": [
    "df.groupby(by='subreddit')['selftext_word_count'].describe().T"
   ]
  },
  {
   "cell_type": "code",
   "execution_count": 876,
   "metadata": {},
   "outputs": [
    {
     "data": {
      "text/plain": [
       "count    3998.000000\n",
       "mean       43.036268\n",
       "std        26.595863\n",
       "min         1.000000\n",
       "25%        23.000000\n",
       "50%        38.000000\n",
       "75%        58.000000\n",
       "max       124.000000\n",
       "Name: selftext_word_count, dtype: float64"
      ]
     },
     "execution_count": 876,
     "metadata": {},
     "output_type": "execute_result"
    }
   ],
   "source": [
    "df['selftext_word_count'].describe()"
   ]
  },
  {
   "cell_type": "code",
   "execution_count": 837,
   "metadata": {},
   "outputs": [],
   "source": [
    "# commenting code to not mess with dataset (already saved)\n",
    "# df.to_csv('../data/subreddit_EDA.csv')\n",
    "# df.to_csv('../data/../data/subreddit_cleaned_.csv')"
   ]
  }
 ],
 "metadata": {
  "kernelspec": {
   "display_name": "Python 3.9.12 ('base')",
   "language": "python",
   "name": "python3"
  },
  "language_info": {
   "codemirror_mode": {
    "name": "ipython",
    "version": 3
   },
   "file_extension": ".py",
   "mimetype": "text/x-python",
   "name": "python",
   "nbconvert_exporter": "python",
   "pygments_lexer": "ipython3",
   "version": "3.9.12"
  },
  "orig_nbformat": 4,
  "vscode": {
   "interpreter": {
    "hash": "34f45a2ba0fbc03e28e7f7a41cd378a2ce17a9c291c97b9041ffb2d877b082e9"
   }
  }
 },
 "nbformat": 4,
 "nbformat_minor": 2
}
