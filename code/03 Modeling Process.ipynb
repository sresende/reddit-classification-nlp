{
 "cells": [
  {
   "cell_type": "markdown",
   "metadata": {},
   "source": [
    "# Project #3\n",
    "_____"
   ]
  },
  {
   "cell_type": "markdown",
   "metadata": {},
   "source": [
    "# Modeling Process\n",
    "> Authors: Si|via Resende\n",
    "\n",
    "---"
   ]
  },
  {
   "cell_type": "markdown",
   "metadata": {},
   "source": [
    "## Libraries and Dataset\n",
    "____"
   ]
  },
  {
   "cell_type": "code",
   "execution_count": 1,
   "metadata": {},
   "outputs": [],
   "source": [
    "# Imports\n",
    "import pandas as pd \n",
    "#import matplotlib.pyplot as plt\n",
    "#import seaborn as sns\n",
    "#import os\n",
    "\n",
    "#from nltk.tokenize import sent_tokenize, word_tokenize, RegexpTokenizer\n",
    "#from nltk.stem import WordNetLemmatizer\n",
    "\n",
    "#from sklearn.preprocessing import StandardScaler\n",
    "from sklearn.model_selection import cross_val_score, train_test_split, GridSearchCV\n",
    "from sklearn.pipeline import Pipeline\n",
    "from sklearn.metrics import confusion_matrix\n",
    "from sklearn.metrics import plot_roc_curve\n",
    "\n",
    "from sklearn import metrics\n",
    "from sklearn.metrics import plot_confusion_matrix\n",
    "from sklearn.feature_extraction.text import CountVectorizer, TfidfVectorizer\n",
    "\n",
    "# Import models.\n",
    "from sklearn.linear_model import LogisticRegression\n",
    "from sklearn.neighbors import KNeighborsClassifier\n",
    "from sklearn.naive_bayes import MultinomialNB\n",
    "from sklearn.tree import DecisionTreeClassifier\n",
    "from sklearn.ensemble import BaggingClassifier\n",
    "from sklearn.ensemble import RandomForestClassifier, ExtraTreesClassifier\n",
    "from sklearn.ensemble import  AdaBoostClassifier, GradientBoostingClassifier, VotingClassifier"
   ]
  },
  {
   "cell_type": "code",
   "execution_count": 2,
   "metadata": {},
   "outputs": [
    {
     "data": {
      "text/html": [
       "<div>\n",
       "<style scoped>\n",
       "    .dataframe tbody tr th:only-of-type {\n",
       "        vertical-align: middle;\n",
       "    }\n",
       "\n",
       "    .dataframe tbody tr th {\n",
       "        vertical-align: top;\n",
       "    }\n",
       "\n",
       "    .dataframe thead th {\n",
       "        text-align: right;\n",
       "    }\n",
       "</style>\n",
       "<table border=\"1\" class=\"dataframe\">\n",
       "  <thead>\n",
       "    <tr style=\"text-align: right;\">\n",
       "      <th></th>\n",
       "      <th>subreddit</th>\n",
       "      <th>selftext</th>\n",
       "      <th>links</th>\n",
       "      <th>youtube_links</th>\n",
       "      <th>tokens</th>\n",
       "      <th>selftext_length</th>\n",
       "      <th>selftext_word_count</th>\n",
       "    </tr>\n",
       "  </thead>\n",
       "  <tbody>\n",
       "    <tr>\n",
       "      <th>0</th>\n",
       "      <td>OutOfTheLoop</td>\n",
       "      <td>Last I heard a few years back, she pleaded gui...</td>\n",
       "      <td>[('https', 'bleacherreport.com', '/articles/24...</td>\n",
       "      <td>[]</td>\n",
       "      <td>['last', 'i', 'heard', 'a', 'few', 'year', 'ba...</td>\n",
       "      <td>218</td>\n",
       "      <td>18</td>\n",
       "    </tr>\n",
       "    <tr>\n",
       "      <th>1</th>\n",
       "      <td>explainlikeimfive</td>\n",
       "      <td>So a year ago around I saw a list showing the ...</td>\n",
       "      <td>[]</td>\n",
       "      <td>[]</td>\n",
       "      <td>['so', 'a', 'year', 'ago', 'around', 'i', 'saw...</td>\n",
       "      <td>161</td>\n",
       "      <td>33</td>\n",
       "    </tr>\n",
       "    <tr>\n",
       "      <th>2</th>\n",
       "      <td>OutOfTheLoop</td>\n",
       "      <td>I've seen memes of people in Martha's Vineyard...</td>\n",
       "      <td>[('https', 'www.reddit.com', '/r/PublicFreakou...</td>\n",
       "      <td>[]</td>\n",
       "      <td>['i', 've', 'seen', 'meme', 'of', 'peopl', 'in...</td>\n",
       "      <td>350</td>\n",
       "      <td>21</td>\n",
       "    </tr>\n",
       "  </tbody>\n",
       "</table>\n",
       "</div>"
      ],
      "text/plain": [
       "           subreddit                                           selftext  \\\n",
       "0       OutOfTheLoop  Last I heard a few years back, she pleaded gui...   \n",
       "1  explainlikeimfive  So a year ago around I saw a list showing the ...   \n",
       "2       OutOfTheLoop  I've seen memes of people in Martha's Vineyard...   \n",
       "\n",
       "                                               links youtube_links  \\\n",
       "0  [('https', 'bleacherreport.com', '/articles/24...            []   \n",
       "1                                                 []            []   \n",
       "2  [('https', 'www.reddit.com', '/r/PublicFreakou...            []   \n",
       "\n",
       "                                              tokens  selftext_length  \\\n",
       "0  ['last', 'i', 'heard', 'a', 'few', 'year', 'ba...              218   \n",
       "1  ['so', 'a', 'year', 'ago', 'around', 'i', 'saw...              161   \n",
       "2  ['i', 've', 'seen', 'meme', 'of', 'peopl', 'in...              350   \n",
       "\n",
       "   selftext_word_count  \n",
       "0                   18  \n",
       "1                   33  \n",
       "2                   21  "
      ]
     },
     "execution_count": 2,
     "metadata": {},
     "output_type": "execute_result"
    }
   ],
   "source": [
    "# Loading Dataset\n",
    "subreddit = pd.read_csv('../data/subreddit_cleaned_.csv')\n",
    "subreddit.drop(columns='Unnamed: 0', inplace=True)\n",
    "subreddit.head(3)"
   ]
  },
  {
   "cell_type": "code",
   "execution_count": 3,
   "metadata": {},
   "outputs": [
    {
     "data": {
      "text/plain": [
       "subreddit              0\n",
       "selftext               0\n",
       "links                  0\n",
       "youtube_links          0\n",
       "tokens                 0\n",
       "selftext_length        0\n",
       "selftext_word_count    0\n",
       "dtype: int64"
      ]
     },
     "execution_count": 3,
     "metadata": {},
     "output_type": "execute_result"
    }
   ],
   "source": [
    "# Checking null values\n",
    "subreddit.isnull().sum()"
   ]
  },
  {
   "cell_type": "code",
   "execution_count": 4,
   "metadata": {},
   "outputs": [
    {
     "data": {
      "text/plain": [
       "(3998, 7)"
      ]
     },
     "execution_count": 4,
     "metadata": {},
     "output_type": "execute_result"
    }
   ],
   "source": [
    "# Shape\n",
    "subreddit.shape"
   ]
  },
  {
   "cell_type": "code",
   "execution_count": 5,
   "metadata": {},
   "outputs": [
    {
     "data": {
      "text/plain": [
       "(3998, 7)"
      ]
     },
     "execution_count": 5,
     "metadata": {},
     "output_type": "execute_result"
    }
   ],
   "source": [
    "subreddit.drop(subreddit[subreddit['tokens']=='[]'].index, axis=0, inplace=True)\n",
    "subreddit.shape"
   ]
  },
  {
   "cell_type": "code",
   "execution_count": 6,
   "metadata": {},
   "outputs": [
    {
     "data": {
      "text/plain": [
       "Index(['subreddit', 'tokens', 'selftext_length', 'selftext_word_count'], dtype='object')"
      ]
     },
     "execution_count": 6,
     "metadata": {},
     "output_type": "execute_result"
    }
   ],
   "source": [
    "# Getting a copy of Dataframe to working on it\n",
    "df = subreddit.copy() \n",
    "\n",
    "# Dropping unecessary columns\n",
    "df.drop(columns=['selftext','links','youtube_links'], inplace=True)\n",
    "df.columns"
   ]
  },
  {
   "cell_type": "code",
   "execution_count": 7,
   "metadata": {},
   "outputs": [
    {
     "data": {
      "text/plain": [
       "(3998, 4)"
      ]
     },
     "execution_count": 7,
     "metadata": {},
     "output_type": "execute_result"
    }
   ],
   "source": [
    "df.shape"
   ]
  },
  {
   "cell_type": "code",
   "execution_count": 8,
   "metadata": {},
   "outputs": [
    {
     "name": "stdout",
     "output_type": "stream",
     "text": [
      "<class 'pandas.core.frame.DataFrame'>\n",
      "RangeIndex: 3998 entries, 0 to 3997\n",
      "Data columns (total 4 columns):\n",
      " #   Column               Non-Null Count  Dtype \n",
      "---  ------               --------------  ----- \n",
      " 0   subreddit            3998 non-null   object\n",
      " 1   tokens               3998 non-null   object\n",
      " 2   selftext_length      3998 non-null   int64 \n",
      " 3   selftext_word_count  3998 non-null   int64 \n",
      "dtypes: int64(2), object(2)\n",
      "memory usage: 125.1+ KB\n"
     ]
    }
   ],
   "source": [
    "# Checking types\n",
    "df.info()"
   ]
  },
  {
   "cell_type": "code",
   "execution_count": 9,
   "metadata": {},
   "outputs": [
    {
     "data": {
      "text/html": [
       "<div>\n",
       "<style scoped>\n",
       "    .dataframe tbody tr th:only-of-type {\n",
       "        vertical-align: middle;\n",
       "    }\n",
       "\n",
       "    .dataframe tbody tr th {\n",
       "        vertical-align: top;\n",
       "    }\n",
       "\n",
       "    .dataframe thead th {\n",
       "        text-align: right;\n",
       "    }\n",
       "</style>\n",
       "<table border=\"1\" class=\"dataframe\">\n",
       "  <thead>\n",
       "    <tr style=\"text-align: right;\">\n",
       "      <th></th>\n",
       "      <th>subreddit</th>\n",
       "      <th>tokens</th>\n",
       "      <th>selftext_length</th>\n",
       "      <th>selftext_word_count</th>\n",
       "    </tr>\n",
       "  </thead>\n",
       "  <tbody>\n",
       "    <tr>\n",
       "      <th>476</th>\n",
       "      <td>OutOfTheLoop</td>\n",
       "      <td>['exampl']</td>\n",
       "      <td>429</td>\n",
       "      <td>1</td>\n",
       "    </tr>\n",
       "    <tr>\n",
       "      <th>847</th>\n",
       "      <td>OutOfTheLoop</td>\n",
       "      <td>['amp', 'xb']</td>\n",
       "      <td>246</td>\n",
       "      <td>1</td>\n",
       "    </tr>\n",
       "    <tr>\n",
       "      <th>3599</th>\n",
       "      <td>explainlikeimfive</td>\n",
       "      <td>['i']</td>\n",
       "      <td>1</td>\n",
       "      <td>1</td>\n",
       "    </tr>\n",
       "    <tr>\n",
       "      <th>3573</th>\n",
       "      <td>OutOfTheLoop</td>\n",
       "      <td>['exampl']</td>\n",
       "      <td>163</td>\n",
       "      <td>2</td>\n",
       "    </tr>\n",
       "    <tr>\n",
       "      <th>3321</th>\n",
       "      <td>OutOfTheLoop</td>\n",
       "      <td>['thank']</td>\n",
       "      <td>75</td>\n",
       "      <td>2</td>\n",
       "    </tr>\n",
       "  </tbody>\n",
       "</table>\n",
       "</div>"
      ],
      "text/plain": [
       "              subreddit         tokens  selftext_length  selftext_word_count\n",
       "476        OutOfTheLoop     ['exampl']              429                    1\n",
       "847        OutOfTheLoop  ['amp', 'xb']              246                    1\n",
       "3599  explainlikeimfive          ['i']                1                    1\n",
       "3573       OutOfTheLoop     ['exampl']              163                    2\n",
       "3321       OutOfTheLoop      ['thank']               75                    2"
      ]
     },
     "execution_count": 9,
     "metadata": {},
     "output_type": "execute_result"
    }
   ],
   "source": [
    "df.sort_values(by='selftext_word_count').head()"
   ]
  },
  {
   "cell_type": "code",
   "execution_count": 10,
   "metadata": {},
   "outputs": [],
   "source": [
    "df.to_csv('../data/subreddit_EDA.csv')"
   ]
  },
  {
   "cell_type": "markdown",
   "metadata": {},
   "source": [
    "### Binarizing Targets\n",
    "___"
   ]
  },
  {
   "cell_type": "code",
   "execution_count": 11,
   "metadata": {},
   "outputs": [
    {
     "data": {
      "text/html": [
       "<div>\n",
       "<style scoped>\n",
       "    .dataframe tbody tr th:only-of-type {\n",
       "        vertical-align: middle;\n",
       "    }\n",
       "\n",
       "    .dataframe tbody tr th {\n",
       "        vertical-align: top;\n",
       "    }\n",
       "\n",
       "    .dataframe thead th {\n",
       "        text-align: right;\n",
       "    }\n",
       "</style>\n",
       "<table border=\"1\" class=\"dataframe\">\n",
       "  <thead>\n",
       "    <tr style=\"text-align: right;\">\n",
       "      <th></th>\n",
       "      <th>subreddit</th>\n",
       "      <th>tokens</th>\n",
       "      <th>selftext_length</th>\n",
       "      <th>selftext_word_count</th>\n",
       "    </tr>\n",
       "  </thead>\n",
       "  <tbody>\n",
       "    <tr>\n",
       "      <th>0</th>\n",
       "      <td>1</td>\n",
       "      <td>['last', 'i', 'heard', 'a', 'few', 'year', 'ba...</td>\n",
       "      <td>218</td>\n",
       "      <td>18</td>\n",
       "    </tr>\n",
       "    <tr>\n",
       "      <th>1</th>\n",
       "      <td>0</td>\n",
       "      <td>['so', 'a', 'year', 'ago', 'around', 'i', 'saw...</td>\n",
       "      <td>161</td>\n",
       "      <td>33</td>\n",
       "    </tr>\n",
       "    <tr>\n",
       "      <th>2</th>\n",
       "      <td>1</td>\n",
       "      <td>['i', 've', 'seen', 'meme', 'of', 'peopl', 'in...</td>\n",
       "      <td>350</td>\n",
       "      <td>21</td>\n",
       "    </tr>\n",
       "  </tbody>\n",
       "</table>\n",
       "</div>"
      ],
      "text/plain": [
       "   subreddit                                             tokens  \\\n",
       "0          1  ['last', 'i', 'heard', 'a', 'few', 'year', 'ba...   \n",
       "1          0  ['so', 'a', 'year', 'ago', 'around', 'i', 'saw...   \n",
       "2          1  ['i', 've', 'seen', 'meme', 'of', 'peopl', 'in...   \n",
       "\n",
       "   selftext_length  selftext_word_count  \n",
       "0              218                   18  \n",
       "1              161                   33  \n",
       "2              350                   21  "
      ]
     },
     "execution_count": 11,
     "metadata": {},
     "output_type": "execute_result"
    }
   ],
   "source": [
    "# I know we don't necessary to biniarize, but it feels good! :]\n",
    "df['subreddit'] = df['subreddit'].map({'explainlikeimfive': 0 , 'OutOfTheLoop': 1 })\n",
    "df.head(3)"
   ]
  },
  {
   "cell_type": "markdown",
   "metadata": {},
   "source": [
    "## Create `X` and `y`\n",
    "---\n"
   ]
  },
  {
   "cell_type": "code",
   "execution_count": 12,
   "metadata": {},
   "outputs": [
    {
     "data": {
      "text/plain": [
       "((3998,), (3998,))"
      ]
     },
     "execution_count": 12,
     "metadata": {},
     "output_type": "execute_result"
    }
   ],
   "source": [
    "X = df['tokens']\n",
    "y = df['subreddit']\n",
    "X.shape, y.shape"
   ]
  },
  {
   "cell_type": "code",
   "execution_count": 13,
   "metadata": {},
   "outputs": [
    {
     "data": {
      "text/plain": [
       "0    ['last', 'i', 'heard', 'a', 'few', 'year', 'ba...\n",
       "1    ['so', 'a', 'year', 'ago', 'around', 'i', 'saw...\n",
       "2    ['i', 've', 'seen', 'meme', 'of', 'peopl', 'in...\n",
       "3    ['there', 's', 'a', 'lot', 'of', 'meme', 'onli...\n",
       "4    ['i', 'found', 'out', 'there', 're', 'ban', 's...\n",
       "Name: tokens, dtype: object"
      ]
     },
     "execution_count": 13,
     "metadata": {},
     "output_type": "execute_result"
    }
   ],
   "source": [
    "X.head()"
   ]
  },
  {
   "cell_type": "markdown",
   "metadata": {},
   "source": [
    "### Baseline Accuracy\n",
    "---"
   ]
  },
  {
   "cell_type": "code",
   "execution_count": 14,
   "metadata": {},
   "outputs": [
    {
     "data": {
      "text/plain": [
       "1    0.53902\n",
       "0    0.46098\n",
       "Name: subreddit, dtype: float64"
      ]
     },
     "execution_count": 14,
     "metadata": {},
     "output_type": "execute_result"
    }
   ],
   "source": [
    "# {'explainlikeimfive': 0 , 'OutOfTheLoop': 1 }\n",
    "y.value_counts(normalize = True)"
   ]
  },
  {
   "cell_type": "markdown",
   "metadata": {},
   "source": [
    "## Train/Test Split\n",
    "---"
   ]
  },
  {
   "cell_type": "code",
   "execution_count": 15,
   "metadata": {},
   "outputs": [
    {
     "data": {
      "text/plain": [
       "((2998,), (1000,))"
      ]
     },
     "execution_count": 15,
     "metadata": {},
     "output_type": "execute_result"
    }
   ],
   "source": [
    "X_train, X_test, y_train, y_test = train_test_split(X, y, random_state = 42, stratify = y)\n",
    "X_train.shape, X_test.shape"
   ]
  },
  {
   "cell_type": "code",
   "execution_count": 16,
   "metadata": {},
   "outputs": [
    {
     "name": "stdout",
     "output_type": "stream",
     "text": [
      "1    0.539026\n",
      "0    0.460974\n",
      "Name: subreddit, dtype: float64\n",
      "1    0.539\n",
      "0    0.461\n",
      "Name: subreddit, dtype: float64\n"
     ]
    }
   ],
   "source": [
    "print(y_train.value_counts(normalize = True))\n",
    "print(y_test.value_counts(normalize = True))"
   ]
  },
  {
   "cell_type": "markdown",
   "metadata": {},
   "source": [
    "## #1 LogisticRegression\n",
    "______"
   ]
  },
  {
   "cell_type": "markdown",
   "metadata": {},
   "source": [
    "### Pipeline and GridSearchCV\n",
    "`Pipeline` | `TfidfVectorizer` and `LogisticRegression` "
   ]
  },
  {
   "cell_type": "code",
   "execution_count": 17,
   "metadata": {},
   "outputs": [],
   "source": [
    "pipe = Pipeline([\n",
    "    ('tvec', TfidfVectorizer()),\n",
    "    ('lr', LogisticRegression())\n",
    "])"
   ]
  },
  {
   "cell_type": "code",
   "execution_count": 18,
   "metadata": {},
   "outputs": [
    {
     "name": "stderr",
     "output_type": "stream",
     "text": [
      "/Users/silviaresende/opt/anaconda3/lib/python3.9/site-packages/sklearn/model_selection/_validation.py:378: FitFailedWarning: \n",
      "360 fits failed out of a total of 720.\n",
      "The score on these train-test partitions for these parameters will be set to nan.\n",
      "If these failures are not expected, you can try to debug them by setting error_score='raise'.\n",
      "\n",
      "Below are more details about the failures:\n",
      "--------------------------------------------------------------------------------\n",
      "180 fits failed with the following error:\n",
      "Traceback (most recent call last):\n",
      "  File \"/Users/silviaresende/opt/anaconda3/lib/python3.9/site-packages/sklearn/model_selection/_validation.py\", line 686, in _fit_and_score\n",
      "    estimator.fit(X_train, y_train, **fit_params)\n",
      "  File \"/Users/silviaresende/opt/anaconda3/lib/python3.9/site-packages/sklearn/pipeline.py\", line 382, in fit\n",
      "    self._final_estimator.fit(Xt, y, **fit_params_last_step)\n",
      "  File \"/Users/silviaresende/opt/anaconda3/lib/python3.9/site-packages/sklearn/linear_model/_logistic.py\", line 1091, in fit\n",
      "    solver = _check_solver(self.solver, self.penalty, self.dual)\n",
      "  File \"/Users/silviaresende/opt/anaconda3/lib/python3.9/site-packages/sklearn/linear_model/_logistic.py\", line 61, in _check_solver\n",
      "    raise ValueError(\n",
      "ValueError: Solver lbfgs supports only 'l2' or 'none' penalties, got l1 penalty.\n",
      "\n",
      "--------------------------------------------------------------------------------\n",
      "180 fits failed with the following error:\n",
      "Traceback (most recent call last):\n",
      "  File \"/Users/silviaresende/opt/anaconda3/lib/python3.9/site-packages/sklearn/model_selection/_validation.py\", line 686, in _fit_and_score\n",
      "    estimator.fit(X_train, y_train, **fit_params)\n",
      "  File \"/Users/silviaresende/opt/anaconda3/lib/python3.9/site-packages/sklearn/pipeline.py\", line 382, in fit\n",
      "    self._final_estimator.fit(Xt, y, **fit_params_last_step)\n",
      "  File \"/Users/silviaresende/opt/anaconda3/lib/python3.9/site-packages/sklearn/linear_model/_logistic.py\", line 1091, in fit\n",
      "    solver = _check_solver(self.solver, self.penalty, self.dual)\n",
      "  File \"/Users/silviaresende/opt/anaconda3/lib/python3.9/site-packages/sklearn/linear_model/_logistic.py\", line 61, in _check_solver\n",
      "    raise ValueError(\n",
      "ValueError: Solver lbfgs supports only 'l2' or 'none' penalties, got elasticnet penalty.\n",
      "\n",
      "  warnings.warn(some_fits_failed_message, FitFailedWarning)\n",
      "/Users/silviaresende/opt/anaconda3/lib/python3.9/site-packages/sklearn/model_selection/_search.py:953: UserWarning: One or more of the test scores are non-finite: [       nan        nan        nan        nan        nan        nan\n",
      "        nan        nan        nan        nan        nan        nan\n",
      "        nan        nan        nan        nan        nan        nan\n",
      "        nan        nan        nan        nan        nan        nan\n",
      "        nan        nan        nan        nan        nan        nan\n",
      "        nan        nan        nan        nan        nan        nan\n",
      " 0.88091875 0.87057874 0.88358987 0.87424875 0.88358987 0.87491541\n",
      " 0.88358765 0.87091263 0.88292209 0.87491708 0.88392321 0.87591708\n",
      " 0.88425431 0.87091152 0.88692432 0.87424875 0.8852571  0.87491653\n",
      " 0.88358765 0.87091263 0.8865921  0.87524986 0.88659321 0.87591708\n",
      " 0.88592265 0.87358041 0.88759154 0.8739143  0.88625876 0.87658264\n",
      " 0.88358765 0.87091263 0.88892766 0.87524986 0.88725988 0.87591708\n",
      "        nan        nan        nan        nan        nan        nan\n",
      "        nan        nan        nan        nan        nan        nan\n",
      "        nan        nan        nan        nan        nan        nan\n",
      "        nan        nan        nan        nan        nan        nan\n",
      "        nan        nan        nan        nan        nan        nan\n",
      "        nan        nan        nan        nan        nan        nan\n",
      " 0.86791319 0.82554702 0.87124763 0.81720757 0.86991764 0.8178759\n",
      " 0.86457652 0.82254758 0.86958264 0.81854591 0.86891653 0.81554313\n",
      " 0.87091931 0.8335537  0.88025876 0.83088147 0.88292432 0.83154869\n",
      " 0.86357485 0.82254758 0.87758876 0.83021981 0.88125821 0.82955203\n",
      " 0.8729182  0.83155092 0.87892321 0.84355648 0.88325598 0.84556372\n",
      " 0.86357485 0.82254758 0.88058987 0.83021981 0.88792766 0.82955203]\n",
      "  warnings.warn(\n"
     ]
    },
    {
     "name": "stdout",
     "output_type": "stream",
     "text": [
      "Best Score: 0.8889\n",
      "Best Parameters: {'lr__penalty': 'l2', 'tvec__max_features': 4000, 'tvec__min_df': 4, 'tvec__ngram_range': (1, 2), 'tvec__stop_words': None}\n"
     ]
    }
   ],
   "source": [
    "pipe_params = {\n",
    "    'tvec__max_features': [2000, 3000, 4000],\n",
    "    'tvec__stop_words': [None, 'english'],\n",
    "    'tvec__ngram_range':[(1,1),(1,2),(1,3)],\n",
    "    'tvec__min_df': [2, 4],\n",
    "    #'tvec__max_df': [1.0, .8, .5],\n",
    "    'lr__penalty': ['l1', 'l2', 'elasticnet', 'none']\n",
    "}\n",
    "gs = GridSearchCV(\n",
    "                pipe,\n",
    "                param_grid=pipe_params,\n",
    "                n_jobs = -1\n",
    "                )\n",
    "gs.fit(X_train, y_train);\n",
    "print(f'Best Score: {round(gs.best_score_, 4)}')\n",
    "print(f'Best Parameters: {gs.best_params_}') "
   ]
  },
  {
   "cell_type": "markdown",
   "metadata": {},
   "source": [
    "### Model Evaluation\n",
    "---\n"
   ]
  },
  {
   "cell_type": "code",
   "execution_count": 19,
   "metadata": {},
   "outputs": [],
   "source": [
    "# Def Evaluation\n",
    "def evaluation(model, X_train_set, y_train_set, X_test_set, y_test_set, pred_set):\n",
    "    \n",
    "    # Train and Test Score\n",
    "    print(f'Train Score: {round(model.score(X_train_set, y_train_set), 4)}')\n",
    "    print(f'Test Score: {round(model.score(X_test_set, y_test_set), 4)}')\n",
    "    \n",
    "    # F1 e Accuracy\n",
    "    print(f'F1 Score: {round(metrics.f1_score(y_test_set, pred_set), 4)}')\n",
    "    print(f'Accuracy: {round(metrics.accuracy_score(y_test_set, pred_set), 4)}')\n",
    "    \n",
    "    # misclassification rate\n",
    "    print(f'Misclassif. Train: {round(1 - model.score(X_train_set, y_train_set), 4)}')\n",
    "    print(f'Misclassif. Test: {round(1 - model.score(X_test_set, y_test_set), 4)}')"
   ]
  },
  {
   "cell_type": "code",
   "execution_count": 20,
   "metadata": {},
   "outputs": [
    {
     "name": "stdout",
     "output_type": "stream",
     "text": [
      "Train Score: 0.9496\n",
      "Test Score: 0.9\n",
      "F1 Score: 0.9076\n",
      "Accuracy: 0.9\n",
      "Misclassif. Train: 0.0504\n",
      "Misclassif. Test: 0.1\n"
     ]
    }
   ],
   "source": [
    "# Evaluation\n",
    "evaluation(gs, X_train, y_train, X_test, y_test, gs.predict(X_test))"
   ]
  },
  {
   "cell_type": "code",
   "execution_count": 21,
   "metadata": {},
   "outputs": [],
   "source": [
    "# Def Evaluation  Confusion Matrix\n",
    "def evaluation_confusion_matrix(model, X_test_set, y_test_set, pred_set):\n",
    "\n",
    "    # Save confusion matrix values\n",
    "    tn, fp, fn, tp = confusion_matrix(y_test_set, pred_set).ravel()\n",
    "    confusion_matrix(y_test_set, pred_set).ravel()\n",
    "   \n",
    "    # Plotting Matrix and RocCurve\n",
    "    plot_confusion_matrix(model, X_test_set, y_test_set, display_labels = ['explainlikeimfive', 'OutOfTheLoop'])\n",
    "    plot_roc_curve(model, X_test_set, y_test_set);\n",
    "   \n",
    "    # Calculate the specificity\n",
    "    spec = tn / (tn + fp)\n",
    "    print(f'Specificity: {round(spec, 4) }')\n",
    "    \n",
    "    # Calculate sensitivity.\n",
    "    sens = tp / (tp + fn)\n",
    "    print(f'Sensitivity: {round(sens, 4)}') \n"
   ]
  },
  {
   "cell_type": "code",
   "execution_count": 22,
   "metadata": {},
   "outputs": [
    {
     "name": "stderr",
     "output_type": "stream",
     "text": [
      "/Users/silviaresende/opt/anaconda3/lib/python3.9/site-packages/sklearn/utils/deprecation.py:87: FutureWarning: Function plot_confusion_matrix is deprecated; Function `plot_confusion_matrix` is deprecated in 1.0 and will be removed in 1.2. Use one of the class methods: ConfusionMatrixDisplay.from_predictions or ConfusionMatrixDisplay.from_estimator.\n",
      "  warnings.warn(msg, category=FutureWarning)\n"
     ]
    },
    {
     "name": "stdout",
     "output_type": "stream",
     "text": [
      "Specificity: 0.8872\n",
      "Sensitivity: 0.9109\n"
     ]
    },
    {
     "name": "stderr",
     "output_type": "stream",
     "text": [
      "/Users/silviaresende/opt/anaconda3/lib/python3.9/site-packages/sklearn/utils/deprecation.py:87: FutureWarning: Function plot_roc_curve is deprecated; Function :func:`plot_roc_curve` is deprecated in 1.0 and will be removed in 1.2. Use one of the class methods: :meth:`sklearn.metrics.RocCurveDisplay.from_predictions` or :meth:`sklearn.metrics.RocCurveDisplay.from_estimator`.\n",
      "  warnings.warn(msg, category=FutureWarning)\n"
     ]
    },
    {
     "data": {
      "image/png": "[encoded data removed]",
      "text/plain": [
       "<Figure size 432x288 with 2 Axes>"
      ]
     },
     "metadata": {
      "needs_background": "light"
     },
     "output_type": "display_data"
    },
    {
     "data": {
      "image/png": "[encoded data removed]",
      "text/plain": [
       "<Figure size 432x288 with 1 Axes>"
      ]
     },
     "metadata": {
      "needs_background": "light"
     },
     "output_type": "display_data"
    }
   ],
   "source": [
    "# Evaluation with Matrix\n",
    "evaluation_confusion_matrix(gs, X_test, y_test, gs.predict(X_test))\n"
   ]
  },
  {
   "cell_type": "markdown",
   "metadata": {},
   "source": [
    "## #2  KNNeighbors Classifier\n",
    "____"
   ]
  },
  {
   "cell_type": "markdown",
   "metadata": {},
   "source": [
    "### Pipeline and GridSearchCV"
   ]
  },
  {
   "cell_type": "code",
   "execution_count": 23,
   "metadata": {},
   "outputs": [
    {
     "name": "stdout",
     "output_type": "stream",
     "text": [
      "Best Score: 0.8482\n",
      "Best Parameters: {'knn__n_neighbors': 13, 'tvec__max_df': 0.5, 'tvec__max_features': 3000, 'tvec__min_df': 4, 'tvec__ngram_range': (1, 1), 'tvec__stop_words': None}\n"
     ]
    }
   ],
   "source": [
    "pipe_knn = Pipeline([\n",
    "    ('tvec', TfidfVectorizer()),\n",
    "    ('knn', KNeighborsClassifier())\n",
    "])\n",
    "pipe_params_knn = {\n",
    "    'tvec__stop_words': [None, 'english',],\n",
    "    'tvec__max_features': [3000, 3500, 4200],\n",
    "    'tvec__min_df': [4, 6],\n",
    "    'tvec__max_df': [1.0, .8, .5],\n",
    "    'tvec__ngram_range': [(1, 1), (1, 2), (1,3)],\n",
    "    'knn__n_neighbors':[ 5, 11,13]\n",
    "}\n",
    "\n",
    "gs_knn = GridSearchCV(pipe_knn,\n",
    "                     param_grid=pipe_params_knn,\n",
    "                     n_jobs = -1)\n",
    "\n",
    "gs_knn.fit(X_train, y_train);\n",
    "print(f'Best Score: {round(gs_knn.best_score_, 4)}')\n",
    "print(f'Best Parameters: {gs_knn.best_params_}')   "
   ]
  },
  {
   "cell_type": "code",
   "execution_count": 24,
   "metadata": {},
   "outputs": [
    {
     "name": "stdout",
     "output_type": "stream",
     "text": [
      "Train Score: 0.8819\n",
      "Test Score: 0.86\n",
      "F1 Score: 0.8732\n",
      "Accuracy: 0.86\n",
      "Misclassif. Train: 0.1181\n",
      "Misclassif. Test: 0.14\n"
     ]
    }
   ],
   "source": [
    "evaluation(gs_knn, X_train, y_train, X_test, y_test, gs_knn.predict(X_test))"
   ]
  },
  {
   "cell_type": "code",
   "execution_count": 25,
   "metadata": {},
   "outputs": [
    {
     "name": "stderr",
     "output_type": "stream",
     "text": [
      "/Users/silviaresende/opt/anaconda3/lib/python3.9/site-packages/sklearn/utils/deprecation.py:87: FutureWarning: Function plot_confusion_matrix is deprecated; Function `plot_confusion_matrix` is deprecated in 1.0 and will be removed in 1.2. Use one of the class methods: ConfusionMatrixDisplay.from_predictions or ConfusionMatrixDisplay.from_estimator.\n",
      "  warnings.warn(msg, category=FutureWarning)\n",
      "/Users/silviaresende/opt/anaconda3/lib/python3.9/site-packages/sklearn/utils/deprecation.py:87: FutureWarning: Function plot_roc_curve is deprecated; Function :func:`plot_roc_curve` is deprecated in 1.0 and will be removed in 1.2. Use one of the class methods: :meth:`sklearn.metrics.RocCurveDisplay.from_predictions` or :meth:`sklearn.metrics.RocCurveDisplay.from_estimator`.\n",
      "  warnings.warn(msg, category=FutureWarning)\n"
     ]
    },
    {
     "name": "stdout",
     "output_type": "stream",
     "text": [
      "Specificity: 0.82\n",
      "Sensitivity: 0.8942\n"
     ]
    },
    {
     "data": {
      "image/png": "[encoded data removed]",
      "text/plain": [
       "<Figure size 432x288 with 2 Axes>"
      ]
     },
     "metadata": {
      "needs_background": "light"
     },
     "output_type": "display_data"
    },
    {
     "data": {
      "image/png": "[encoded data removed]",
      "text/plain": [
       "<Figure size 432x288 with 1 Axes>"
      ]
     },
     "metadata": {
      "needs_background": "light"
     },
     "output_type": "display_data"
    }
   ],
   "source": [
    "evaluation_confusion_matrix(gs_knn, X_test, y_test, gs_knn.predict(X_test))"
   ]
  },
  {
   "cell_type": "markdown",
   "metadata": {},
   "source": [
    "## #3  Multinomial Naive Bayes \n",
    "____"
   ]
  },
  {
   "cell_type": "code",
   "execution_count": 26,
   "metadata": {},
   "outputs": [
    {
     "name": "stdout",
     "output_type": "stream",
     "text": [
      "Best Score: 0.8926\n",
      "Best Parameters: {'tvec__max_df': 0.9, 'tvec__max_features': 5000, 'tvec__min_df': 3, 'tvec__ngram_range': (1, 2), 'tvec__stop_words': None}\n"
     ]
    }
   ],
   "source": [
    "pipe_nb = Pipeline([\n",
    "    ('tvec', TfidfVectorizer()),\n",
    "    ('nb', MultinomialNB())\n",
    "])\n",
    "# Search over the following values of hyperparameters:\n",
    "# Maximum number of features fit: 2000, 3000, 4000, 5000\n",
    "# Minimum number of documents needed to include token: 2, 3\n",
    "# Maximum number of documents needed to include token: 90%, 95%\n",
    "# Check (individual tokens) and also check (individual tokens and 2, 3-grams).\n",
    "pipe_params_nb = {\n",
    "    'tvec__stop_words': [None, 'english',],\n",
    "    'tvec__max_features': [2000, 3000, 4000, 5000],\n",
    "    'tvec__min_df': [2, 3],\n",
    "    'tvec__max_df': [0.9, 0.95],\n",
    "    'tvec__ngram_range': [(1, 1), (1, 2), (1,3)]\n",
    "}\n",
    "\n",
    "# Instantiate GridSearchCV.\n",
    "gs_nb = GridSearchCV(pipe_nb, # what object are we optimizing?\n",
    "                  param_grid=pipe_params_nb, # what parameters values are we searching?\n",
    "                  cv = 5) # 5-fold cross-validation.\n",
    "# Fit GridSearch to training data.\n",
    "gs_nb.fit(X_train, y_train);\n",
    "print(f'Best Score: {round(gs_nb.best_score_, 4)}')\n",
    "print(f'Best Parameters: {gs_nb.best_params_}')  \n"
   ]
  },
  {
   "cell_type": "code",
   "execution_count": 27,
   "metadata": {},
   "outputs": [
    {
     "name": "stdout",
     "output_type": "stream",
     "text": [
      "Train Score: 0.946\n",
      "Test Score: 0.902\n",
      "F1 Score: 0.9111\n",
      "Accuracy: 0.902\n",
      "Misclassif. Train: 0.054\n",
      "Misclassif. Test: 0.098\n"
     ]
    }
   ],
   "source": [
    "evaluation(gs_nb, X_train, y_train, X_test, y_test, gs_nb.predict(X_test))"
   ]
  },
  {
   "cell_type": "code",
   "execution_count": 28,
   "metadata": {},
   "outputs": [
    {
     "name": "stdout",
     "output_type": "stream",
     "text": [
      "Specificity: 0.8677\n",
      "Sensitivity: 0.9314\n"
     ]
    },
    {
     "name": "stderr",
     "output_type": "stream",
     "text": [
      "/Users/silviaresende/opt/anaconda3/lib/python3.9/site-packages/sklearn/utils/deprecation.py:87: FutureWarning: Function plot_confusion_matrix is deprecated; Function `plot_confusion_matrix` is deprecated in 1.0 and will be removed in 1.2. Use one of the class methods: ConfusionMatrixDisplay.from_predictions or ConfusionMatrixDisplay.from_estimator.\n",
      "  warnings.warn(msg, category=FutureWarning)\n",
      "/Users/silviaresende/opt/anaconda3/lib/python3.9/site-packages/sklearn/utils/deprecation.py:87: FutureWarning: Function plot_roc_curve is deprecated; Function :func:`plot_roc_curve` is deprecated in 1.0 and will be removed in 1.2. Use one of the class methods: :meth:`sklearn.metrics.RocCurveDisplay.from_predictions` or :meth:`sklearn.metrics.RocCurveDisplay.from_estimator`.\n",
      "  warnings.warn(msg, category=FutureWarning)\n"
     ]
    },
    {
     "data": {
      "image/png": "[encoded data removed]",
      "text/plain": [
       "<Figure size 432x288 with 2 Axes>"
      ]
     },
     "metadata": {
      "needs_background": "light"
     },
     "output_type": "display_data"
    },
    {
     "data": {
      "image/png": "[encoded data removed]",
      "text/plain": [
       "<Figure size 432x288 with 1 Axes>"
      ]
     },
     "metadata": {
      "needs_background": "light"
     },
     "output_type": "display_data"
    }
   ],
   "source": [
    "evaluation_confusion_matrix(gs_nb, X_test, y_test, gs_nb.predict(X_test))"
   ]
  },
  {
   "cell_type": "markdown",
   "metadata": {},
   "source": [
    "## #4  Decision Trees Classifier\n",
    "___"
   ]
  },
  {
   "cell_type": "code",
   "execution_count": 29,
   "metadata": {},
   "outputs": [],
   "source": [
    "tvec = TfidfVectorizer(stop_words='english', ngram_range= (1,2))\n",
    "tvec.fit(X_train)\n",
    "X_train = tvec.transform(X_train)\n",
    "X_test = tvec.transform(X_test)"
   ]
  },
  {
   "cell_type": "code",
   "execution_count": 30,
   "metadata": {},
   "outputs": [
    {
     "data": {
      "text/plain": [
       "Index(['aa', 'aa aaa', 'aa observ', 'aaa', 'aaa size', 'aaden',\n",
       "       'aaden construct', 'aav', 'aav sl', 'abandon',\n",
       "       ...\n",
       "       'zyurang', 'zyurang becaus', 'zyzz', 'zyzz wonder', 'ôn', 'ôn social',\n",
       "       'þat', 'þat instead', '博衣こよりd', '博衣こよりd hashtag'],\n",
       "      dtype='object', length=53396)"
      ]
     },
     "execution_count": 30,
     "metadata": {},
     "output_type": "execute_result"
    }
   ],
   "source": [
    "df_tvec = pd.DataFrame(X_train.todense(), columns = tvec.get_feature_names_out())\n",
    "df_tvec.columns"
   ]
  },
  {
   "cell_type": "code",
   "execution_count": 31,
   "metadata": {},
   "outputs": [
    {
     "data": {
      "text/html": [
       "<style>#sk-container-id-1 {color: black;background-color: white;}#sk-container-id-1 pre{padding: 0;}#sk-container-id-1 div.sk-toggleable {background-color: white;}#sk-container-id-1 label.sk-toggleable__label {cursor: pointer;display: block;width: 100%;margin-bottom: 0;padding: 0.3em;box-sizing: border-box;text-align: center;}#sk-container-id-1 label.sk-toggleable__label-arrow:before {content: \"▸\";float: left;margin-right: 0.25em;color: #696969;}#sk-container-id-1 label.sk-toggleable__label-arrow:hover:before {color: black;}#sk-container-id-1 div.sk-estimator:hover label.sk-toggleable__label-arrow:before {color: black;}#sk-container-id-1 div.sk-toggleable__content {max-height: 0;max-width: 0;overflow: hidden;text-align: left;background-color: #f0f8ff;}#sk-container-id-1 div.sk-toggleable__content pre {margin: 0.2em;color: black;border-radius: 0.25em;background-color: #f0f8ff;}#sk-container-id-1 input.sk-toggleable__control:checked~div.sk-toggleable__content {max-height: 200px;max-width: 100%;overflow: auto;}#sk-container-id-1 input.sk-toggleable__control:checked~label.sk-toggleable__label-arrow:before {content: \"▾\";}#sk-container-id-1 div.sk-estimator input.sk-toggleable__control:checked~label.sk-toggleable__label {background-color: #d4ebff;}#sk-container-id-1 div.sk-label input.sk-toggleable__control:checked~label.sk-toggleable__label {background-color: #d4ebff;}#sk-container-id-1 input.sk-hidden--visually {border: 0;clip: rect(1px 1px 1px 1px);clip: rect(1px, 1px, 1px, 1px);height: 1px;margin: -1px;overflow: hidden;padding: 0;position: absolute;width: 1px;}#sk-container-id-1 div.sk-estimator {font-family: monospace;background-color: #f0f8ff;border: 1px dotted black;border-radius: 0.25em;box-sizing: border-box;margin-bottom: 0.5em;}#sk-container-id-1 div.sk-estimator:hover {background-color: #d4ebff;}#sk-container-id-1 div.sk-parallel-item::after {content: \"\";width: 100%;border-bottom: 1px solid gray;flex-grow: 1;}#sk-container-id-1 div.sk-label:hover label.sk-toggleable__label {background-color: #d4ebff;}#sk-container-id-1 div.sk-serial::before {content: \"\";position: absolute;border-left: 1px solid gray;box-sizing: border-box;top: 0;bottom: 0;left: 50%;z-index: 0;}#sk-container-id-1 div.sk-serial {display: flex;flex-direction: column;align-items: center;background-color: white;padding-right: 0.2em;padding-left: 0.2em;position: relative;}#sk-container-id-1 div.sk-item {position: relative;z-index: 1;}#sk-container-id-1 div.sk-parallel {display: flex;align-items: stretch;justify-content: center;background-color: white;position: relative;}#sk-container-id-1 div.sk-item::before, #sk-container-id-1 div.sk-parallel-item::before {content: \"\";position: absolute;border-left: 1px solid gray;box-sizing: border-box;top: 0;bottom: 0;left: 50%;z-index: -1;}#sk-container-id-1 div.sk-parallel-item {display: flex;flex-direction: column;z-index: 1;position: relative;background-color: white;}#sk-container-id-1 div.sk-parallel-item:first-child::after {align-self: flex-end;width: 50%;}#sk-container-id-1 div.sk-parallel-item:last-child::after {align-self: flex-start;width: 50%;}#sk-container-id-1 div.sk-parallel-item:only-child::after {width: 0;}#sk-container-id-1 div.sk-dashed-wrapped {border: 1px dashed gray;margin: 0 0.4em 0.5em 0.4em;box-sizing: border-box;padding-bottom: 0.4em;background-color: white;}#sk-container-id-1 div.sk-label label {font-family: monospace;font-weight: bold;display: inline-block;line-height: 1.2em;}#sk-container-id-1 div.sk-label-container {text-align: center;}#sk-container-id-1 div.sk-container {/* jupyter's `normalize.less` sets `[hidden] { display: none; }` but bootstrap.min.css set `[hidden] { display: none !important; }` so we also need the `!important` here to be able to override the default hidden behavior on the sphinx rendered scikit-learn.org. See: https://github.com/scikit-learn/scikit-learn/issues/21755 */display: inline-block !important;position: relative;}#sk-container-id-1 div.sk-text-repr-fallback {display: none;}</style><div id=\"sk-container-id-1\" class=\"sk-top-container\"><div class=\"sk-text-repr-fallback\"><pre>DecisionTreeClassifier(random_state=42)</pre><b>In a Jupyter environment, please rerun this cell to show the HTML representation or trust the notebook. <br />On GitHub, the HTML representation is unable to render, please try loading this page with nbviewer.org.</b></div><div class=\"sk-container\" hidden><div class=\"sk-item\"><div class=\"sk-estimator sk-toggleable\"><input class=\"sk-toggleable__control sk-hidden--visually\" id=\"sk-estimator-id-1\" type=\"checkbox\" checked><label for=\"sk-estimator-id-1\" class=\"sk-toggleable__label sk-toggleable__label-arrow\">DecisionTreeClassifier</label><div class=\"sk-toggleable__content\"><pre>DecisionTreeClassifier(random_state=42)</pre></div></div></div></div></div>"
      ],
      "text/plain": [
       "DecisionTreeClassifier(random_state=42)"
      ]
     },
     "execution_count": 31,
     "metadata": {},
     "output_type": "execute_result"
    }
   ],
   "source": [
    "# Instantiate model with random_state = 42.\n",
    "dt = DecisionTreeClassifier(random_state = 42)\n",
    "\n",
    "# Fit model.\n",
    "dt.fit(X_train, y_train)"
   ]
  },
  {
   "cell_type": "code",
   "execution_count": 32,
   "metadata": {},
   "outputs": [
    {
     "name": "stdout",
     "output_type": "stream",
     "text": [
      "Train Score: 0.999\n",
      "Test Score: 0.711\n",
      "F1 Score: 0.7515\n",
      "Accuracy: 0.711\n",
      "Misclassif. Train: 0.001\n",
      "Misclassif. Test: 0.289\n"
     ]
    }
   ],
   "source": [
    "# Evaluate model.\n",
    "evaluation(dt, X_train, y_train, X_test, y_test, dt.predict(X_test))"
   ]
  },
  {
   "cell_type": "code",
   "execution_count": 33,
   "metadata": {},
   "outputs": [
    {
     "name": "stdout",
     "output_type": "stream",
     "text": [
      "Specificity: 0.5944\n",
      "Sensitivity: 0.8108\n"
     ]
    },
    {
     "name": "stderr",
     "output_type": "stream",
     "text": [
      "/Users/silviaresende/opt/anaconda3/lib/python3.9/site-packages/sklearn/utils/deprecation.py:87: FutureWarning: Function plot_confusion_matrix is deprecated; Function `plot_confusion_matrix` is deprecated in 1.0 and will be removed in 1.2. Use one of the class methods: ConfusionMatrixDisplay.from_predictions or ConfusionMatrixDisplay.from_estimator.\n",
      "  warnings.warn(msg, category=FutureWarning)\n",
      "/Users/silviaresende/opt/anaconda3/lib/python3.9/site-packages/sklearn/utils/deprecation.py:87: FutureWarning: Function plot_roc_curve is deprecated; Function :func:`plot_roc_curve` is deprecated in 1.0 and will be removed in 1.2. Use one of the class methods: :meth:`sklearn.metrics.RocCurveDisplay.from_predictions` or :meth:`sklearn.metrics.RocCurveDisplay.from_estimator`.\n",
      "  warnings.warn(msg, category=FutureWarning)\n"
     ]
    },
    {
     "data": {
      "image/png": "[encoded data removed]",
      "text/plain": [
       "<Figure size 432x288 with 2 Axes>"
      ]
     },
     "metadata": {
      "needs_background": "light"
     },
     "output_type": "display_data"
    },
    {
     "data": {
      "image/png": "[encoded data removed]",
      "text/plain": [
       "<Figure size 432x288 with 1 Axes>"
      ]
     },
     "metadata": {
      "needs_background": "light"
     },
     "output_type": "display_data"
    }
   ],
   "source": [
    "evaluation_confusion_matrix(dt, X_test, y_test, dt.predict(X_test))"
   ]
  },
  {
   "cell_type": "markdown",
   "metadata": {},
   "source": [
    "## #5 Decision Trees GridSearch\n",
    "___"
   ]
  },
  {
   "cell_type": "markdown",
   "metadata": {},
   "source": [
    "### Gridsearch "
   ]
  },
  {
   "cell_type": "code",
   "execution_count": 34,
   "metadata": {},
   "outputs": [
    {
     "name": "stdout",
     "output_type": "stream",
     "text": [
      "Fitting 5 folds for each of 480 candidates, totalling 2400 fits\n",
      "Best Estimator: DecisionTreeClassifier(ccp_alpha=0.001, max_depth=7, min_samples_leaf=3,\n",
      "                       min_samples_split=5)\n"
     ]
    }
   ],
   "source": [
    "gs_dt = GridSearchCV(\n",
    "                    estimator = DecisionTreeClassifier(),\n",
    "                    param_grid = {  'max_depth': [2, 3, 5, 7],\n",
    "                                    'min_samples_split': [5, 10, 15, 20],\n",
    "                                    'min_samples_leaf': [2, 3, 4, 5, 6],\n",
    "                                    'ccp_alpha': [0, 0.001, 0.01, 0.1, 1, 10]},\n",
    "                    cv = 5,\n",
    "                    verbose = 1)\n",
    "gs_dt.fit(X_train, y_train)\n",
    "print(f'Best Estimator: {gs_dt.best_estimator_}')"
   ]
  },
  {
   "cell_type": "code",
   "execution_count": 35,
   "metadata": {},
   "outputs": [
    {
     "name": "stdout",
     "output_type": "stream",
     "text": [
      "Train Score: 0.7445\n",
      "Test Score: 0.703\n",
      "F1 Score: 0.7179\n",
      "Accuracy: 0.703\n",
      "Misclassif. Train: 0.2555\n",
      "Misclassif. Test: 0.297\n"
     ]
    }
   ],
   "source": [
    "evaluation(gs_dt, X_train, y_train, X_test, y_test, gs_dt.predict(X_test))"
   ]
  },
  {
   "cell_type": "code",
   "execution_count": 36,
   "metadata": {},
   "outputs": [
    {
     "name": "stdout",
     "output_type": "stream",
     "text": [
      "Specificity: 0.705\n",
      "Sensitivity: 0.7013\n"
     ]
    },
    {
     "name": "stderr",
     "output_type": "stream",
     "text": [
      "/Users/silviaresende/opt/anaconda3/lib/python3.9/site-packages/sklearn/utils/deprecation.py:87: FutureWarning: Function plot_confusion_matrix is deprecated; Function `plot_confusion_matrix` is deprecated in 1.0 and will be removed in 1.2. Use one of the class methods: ConfusionMatrixDisplay.from_predictions or ConfusionMatrixDisplay.from_estimator.\n",
      "  warnings.warn(msg, category=FutureWarning)\n",
      "/Users/silviaresende/opt/anaconda3/lib/python3.9/site-packages/sklearn/utils/deprecation.py:87: FutureWarning: Function plot_roc_curve is deprecated; Function :func:`plot_roc_curve` is deprecated in 1.0 and will be removed in 1.2. Use one of the class methods: :meth:`sklearn.metrics.RocCurveDisplay.from_predictions` or :meth:`sklearn.metrics.RocCurveDisplay.from_estimator`.\n",
      "  warnings.warn(msg, category=FutureWarning)\n"
     ]
    },
    {
     "data": {
      "image/png": "[encoded data removed]",
      "text/plain": [
       "<Figure size 432x288 with 2 Axes>"
      ]
     },
     "metadata": {
      "needs_background": "light"
     },
     "output_type": "display_data"
    },
    {
     "data": {
      "image/png": "[encoded data removed]",
      "text/plain": [
       "<Figure size 432x288 with 1 Axes>"
      ]
     },
     "metadata": {
      "needs_background": "light"
     },
     "output_type": "display_data"
    }
   ],
   "source": [
    "evaluation_confusion_matrix(gs_dt, X_test, y_test, gs_dt.predict(X_test))"
   ]
  },
  {
   "cell_type": "markdown",
   "metadata": {},
   "source": [
    "## #6 Decision Trees Bagging\n",
    "___"
   ]
  },
  {
   "cell_type": "markdown",
   "metadata": {},
   "source": [
    "### Bagging "
   ]
  },
  {
   "cell_type": "code",
   "execution_count": 37,
   "metadata": {},
   "outputs": [
    {
     "data": {
      "text/html": [
       "<style>#sk-container-id-2 {color: black;background-color: white;}#sk-container-id-2 pre{padding: 0;}#sk-container-id-2 div.sk-toggleable {background-color: white;}#sk-container-id-2 label.sk-toggleable__label {cursor: pointer;display: block;width: 100%;margin-bottom: 0;padding: 0.3em;box-sizing: border-box;text-align: center;}#sk-container-id-2 label.sk-toggleable__label-arrow:before {content: \"▸\";float: left;margin-right: 0.25em;color: #696969;}#sk-container-id-2 label.sk-toggleable__label-arrow:hover:before {color: black;}#sk-container-id-2 div.sk-estimator:hover label.sk-toggleable__label-arrow:before {color: black;}#sk-container-id-2 div.sk-toggleable__content {max-height: 0;max-width: 0;overflow: hidden;text-align: left;background-color: #f0f8ff;}#sk-container-id-2 div.sk-toggleable__content pre {margin: 0.2em;color: black;border-radius: 0.25em;background-color: #f0f8ff;}#sk-container-id-2 input.sk-toggleable__control:checked~div.sk-toggleable__content {max-height: 200px;max-width: 100%;overflow: auto;}#sk-container-id-2 input.sk-toggleable__control:checked~label.sk-toggleable__label-arrow:before {content: \"▾\";}#sk-container-id-2 div.sk-estimator input.sk-toggleable__control:checked~label.sk-toggleable__label {background-color: #d4ebff;}#sk-container-id-2 div.sk-label input.sk-toggleable__control:checked~label.sk-toggleable__label {background-color: #d4ebff;}#sk-container-id-2 input.sk-hidden--visually {border: 0;clip: rect(1px 1px 1px 1px);clip: rect(1px, 1px, 1px, 1px);height: 1px;margin: -1px;overflow: hidden;padding: 0;position: absolute;width: 1px;}#sk-container-id-2 div.sk-estimator {font-family: monospace;background-color: #f0f8ff;border: 1px dotted black;border-radius: 0.25em;box-sizing: border-box;margin-bottom: 0.5em;}#sk-container-id-2 div.sk-estimator:hover {background-color: #d4ebff;}#sk-container-id-2 div.sk-parallel-item::after {content: \"\";width: 100%;border-bottom: 1px solid gray;flex-grow: 1;}#sk-container-id-2 div.sk-label:hover label.sk-toggleable__label {background-color: #d4ebff;}#sk-container-id-2 div.sk-serial::before {content: \"\";position: absolute;border-left: 1px solid gray;box-sizing: border-box;top: 0;bottom: 0;left: 50%;z-index: 0;}#sk-container-id-2 div.sk-serial {display: flex;flex-direction: column;align-items: center;background-color: white;padding-right: 0.2em;padding-left: 0.2em;position: relative;}#sk-container-id-2 div.sk-item {position: relative;z-index: 1;}#sk-container-id-2 div.sk-parallel {display: flex;align-items: stretch;justify-content: center;background-color: white;position: relative;}#sk-container-id-2 div.sk-item::before, #sk-container-id-2 div.sk-parallel-item::before {content: \"\";position: absolute;border-left: 1px solid gray;box-sizing: border-box;top: 0;bottom: 0;left: 50%;z-index: -1;}#sk-container-id-2 div.sk-parallel-item {display: flex;flex-direction: column;z-index: 1;position: relative;background-color: white;}#sk-container-id-2 div.sk-parallel-item:first-child::after {align-self: flex-end;width: 50%;}#sk-container-id-2 div.sk-parallel-item:last-child::after {align-self: flex-start;width: 50%;}#sk-container-id-2 div.sk-parallel-item:only-child::after {width: 0;}#sk-container-id-2 div.sk-dashed-wrapped {border: 1px dashed gray;margin: 0 0.4em 0.5em 0.4em;box-sizing: border-box;padding-bottom: 0.4em;background-color: white;}#sk-container-id-2 div.sk-label label {font-family: monospace;font-weight: bold;display: inline-block;line-height: 1.2em;}#sk-container-id-2 div.sk-label-container {text-align: center;}#sk-container-id-2 div.sk-container {/* jupyter's `normalize.less` sets `[hidden] { display: none; }` but bootstrap.min.css set `[hidden] { display: none !important; }` so we also need the `!important` here to be able to override the default hidden behavior on the sphinx rendered scikit-learn.org. See: https://github.com/scikit-learn/scikit-learn/issues/21755 */display: inline-block !important;position: relative;}#sk-container-id-2 div.sk-text-repr-fallback {display: none;}</style><div id=\"sk-container-id-2\" class=\"sk-top-container\"><div class=\"sk-text-repr-fallback\"><pre>BaggingClassifier(random_state=42)</pre><b>In a Jupyter environment, please rerun this cell to show the HTML representation or trust the notebook. <br />On GitHub, the HTML representation is unable to render, please try loading this page with nbviewer.org.</b></div><div class=\"sk-container\" hidden><div class=\"sk-item\"><div class=\"sk-estimator sk-toggleable\"><input class=\"sk-toggleable__control sk-hidden--visually\" id=\"sk-estimator-id-2\" type=\"checkbox\" checked><label for=\"sk-estimator-id-2\" class=\"sk-toggleable__label sk-toggleable__label-arrow\">BaggingClassifier</label><div class=\"sk-toggleable__content\"><pre>BaggingClassifier(random_state=42)</pre></div></div></div></div></div>"
      ],
      "text/plain": [
       "BaggingClassifier(random_state=42)"
      ]
     },
     "execution_count": 37,
     "metadata": {},
     "output_type": "execute_result"
    }
   ],
   "source": [
    "# Instantiate BaggingClassifier.\n",
    "bag = BaggingClassifier(random_state = 42)\n",
    "\n",
    "# Fit BaggingClassifier.\n",
    "bag.fit(X_train, y_train)"
   ]
  },
  {
   "cell_type": "code",
   "execution_count": 38,
   "metadata": {},
   "outputs": [
    {
     "name": "stdout",
     "output_type": "stream",
     "text": [
      "Train Score: 0.9837\n",
      "Test Score: 0.756\n",
      "F1 Score: 0.7897\n",
      "Accuracy: 0.756\n",
      "Misclassif. Train: 0.0163\n",
      "Misclassif. Test: 0.244\n"
     ]
    }
   ],
   "source": [
    "evaluation(bag, X_train, y_train, X_test, y_test, bag.predict(X_test))"
   ]
  },
  {
   "cell_type": "code",
   "execution_count": 39,
   "metadata": {},
   "outputs": [
    {
     "name": "stdout",
     "output_type": "stream",
     "text": [
      "Specificity: 0.6464\n",
      "Sensitivity: 0.8497\n"
     ]
    },
    {
     "name": "stderr",
     "output_type": "stream",
     "text": [
      "/Users/silviaresende/opt/anaconda3/lib/python3.9/site-packages/sklearn/utils/deprecation.py:87: FutureWarning: Function plot_confusion_matrix is deprecated; Function `plot_confusion_matrix` is deprecated in 1.0 and will be removed in 1.2. Use one of the class methods: ConfusionMatrixDisplay.from_predictions or ConfusionMatrixDisplay.from_estimator.\n",
      "  warnings.warn(msg, category=FutureWarning)\n",
      "/Users/silviaresende/opt/anaconda3/lib/python3.9/site-packages/sklearn/utils/deprecation.py:87: FutureWarning: Function plot_roc_curve is deprecated; Function :func:`plot_roc_curve` is deprecated in 1.0 and will be removed in 1.2. Use one of the class methods: :meth:`sklearn.metrics.RocCurveDisplay.from_predictions` or :meth:`sklearn.metrics.RocCurveDisplay.from_estimator`.\n",
      "  warnings.warn(msg, category=FutureWarning)\n"
     ]
    },
    {
     "data": {
      "image/png": "[encoded data removed]",
      "text/plain": [
       "<Figure size 432x288 with 2 Axes>"
      ]
     },
     "metadata": {
      "needs_background": "light"
     },
     "output_type": "display_data"
    },
    {
     "data": {
      "image/png": "[encoded data removed]",
      "text/plain": [
       "<Figure size 432x288 with 1 Axes>"
      ]
     },
     "metadata": {
      "needs_background": "light"
     },
     "output_type": "display_data"
    }
   ],
   "source": [
    "evaluation_confusion_matrix(bag, X_test, y_test, bag.predict(X_test))"
   ]
  },
  {
   "cell_type": "markdown",
   "metadata": {},
   "source": [
    "## #7 Random Forests Classifier\n",
    "___"
   ]
  },
  {
   "cell_type": "code",
   "execution_count": 40,
   "metadata": {},
   "outputs": [],
   "source": [
    "rf = RandomForestClassifier(n_estimators = 100)"
   ]
  },
  {
   "cell_type": "markdown",
   "metadata": {},
   "source": [
    "### GridSearch "
   ]
  },
  {
   "cell_type": "code",
   "execution_count": 41,
   "metadata": {},
   "outputs": [
    {
     "name": "stdout",
     "output_type": "stream",
     "text": [
      "Best Score: 0.8525692821368949\n",
      "Best Parameters: {'max_depth': None, 'n_estimators': 300, 'n_jobs': -1}\n"
     ]
    }
   ],
   "source": [
    "rf_params = {\n",
    "    'n_estimators': [200, 250, 300, 400, 500],\n",
    "    'max_depth' : [None, 1, 2, 3, 4, 5, 6, 7],\n",
    "    'n_jobs': [-1]\n",
    "}\n",
    "\n",
    "gs_rf = GridSearchCV(rf, param_grid=rf_params, cv = 5)\n",
    "\n",
    "gs_rf.fit(X_train, y_train)\n",
    "\n",
    "print(f'Best Score: {gs_rf.best_score_}')\n",
    "print(f'Best Parameters: {gs_rf.best_params_}')"
   ]
  },
  {
   "cell_type": "code",
   "execution_count": 42,
   "metadata": {},
   "outputs": [
    {
     "name": "stdout",
     "output_type": "stream",
     "text": [
      "Train Score: 0.999\n",
      "Test Score: 0.837\n",
      "F1 Score: 0.8608\n",
      "Accuracy: 0.837\n",
      "Misclassif. Train: 0.001\n",
      "Misclassif. Test: 0.163\n"
     ]
    }
   ],
   "source": [
    "evaluation(gs_rf, X_train, y_train, X_test, y_test, gs_rf.predict(X_test))"
   ]
  },
  {
   "cell_type": "code",
   "execution_count": 43,
   "metadata": {},
   "outputs": [
    {
     "name": "stdout",
     "output_type": "stream",
     "text": [
      "Specificity: 0.7223\n",
      "Sensitivity: 0.9351\n"
     ]
    },
    {
     "name": "stderr",
     "output_type": "stream",
     "text": [
      "/Users/silviaresende/opt/anaconda3/lib/python3.9/site-packages/sklearn/utils/deprecation.py:87: FutureWarning: Function plot_confusion_matrix is deprecated; Function `plot_confusion_matrix` is deprecated in 1.0 and will be removed in 1.2. Use one of the class methods: ConfusionMatrixDisplay.from_predictions or ConfusionMatrixDisplay.from_estimator.\n",
      "  warnings.warn(msg, category=FutureWarning)\n",
      "/Users/silviaresende/opt/anaconda3/lib/python3.9/site-packages/sklearn/utils/deprecation.py:87: FutureWarning: Function plot_roc_curve is deprecated; Function :func:`plot_roc_curve` is deprecated in 1.0 and will be removed in 1.2. Use one of the class methods: :meth:`sklearn.metrics.RocCurveDisplay.from_predictions` or :meth:`sklearn.metrics.RocCurveDisplay.from_estimator`.\n",
      "  warnings.warn(msg, category=FutureWarning)\n"
     ]
    },
    {
     "data": {
      "image/png": "[encoded data removed]",
      "text/plain": [
       "<Figure size 432x288 with 2 Axes>"
      ]
     },
     "metadata": {
      "needs_background": "light"
     },
     "output_type": "display_data"
    },
    {
     "data": {
      "image/png": "[encoded data removed]",
      "text/plain": [
       "<Figure size 432x288 with 1 Axes>"
      ]
     },
     "metadata": {
      "needs_background": "light"
     },
     "output_type": "display_data"
    }
   ],
   "source": [
    "evaluation_confusion_matrix(gs_rf, X_test, y_test, gs_rf.predict(X_test))"
   ]
  },
  {
   "cell_type": "markdown",
   "metadata": {},
   "source": [
    "## #8 Extra Trees Classifier\n",
    "___"
   ]
  },
  {
   "cell_type": "code",
   "execution_count": 44,
   "metadata": {},
   "outputs": [],
   "source": [
    "et = ExtraTreesClassifier()"
   ]
  },
  {
   "cell_type": "markdown",
   "metadata": {},
   "source": [
    "### GridSearch "
   ]
  },
  {
   "cell_type": "code",
   "execution_count": 45,
   "metadata": {},
   "outputs": [
    {
     "name": "stdout",
     "output_type": "stream",
     "text": [
      "Best Score: 0.865243183082916\n",
      "Best Parameters:{'max_depth': None, 'n_estimators': 500, 'n_jobs': -1}\n"
     ]
    }
   ],
   "source": [
    "et_params = {\n",
    "    'n_estimators': [100, 200, 250, 300, 400, 500],\n",
    "    'max_depth' : [None, 1, 2, 3, 4, 5, 6, 7],\n",
    "    'n_jobs': [-1]\n",
    "}\n",
    "\n",
    "gs_et = GridSearchCV(et, param_grid=et_params, cv = 5)\n",
    "\n",
    "gs_et.fit(X_train, y_train)\n",
    "\n",
    "print(f'Best Score: {gs_et.best_score_}')\n",
    "print(f'Best Parameters:{gs_et.best_params_}')"
   ]
  },
  {
   "cell_type": "code",
   "execution_count": 46,
   "metadata": {},
   "outputs": [
    {
     "name": "stdout",
     "output_type": "stream",
     "text": [
      "Train Score: 0.999\n",
      "Test Score: 0.86\n",
      "F1 Score: 0.8768\n",
      "Accuracy: 0.86\n",
      "Misclassif. Train: 0.001\n",
      "Misclassif. Test: 0.14\n"
     ]
    }
   ],
   "source": [
    "evaluation(gs_et, X_train, y_train, X_test, y_test, gs_et.predict(X_test))"
   ]
  },
  {
   "cell_type": "code",
   "execution_count": 47,
   "metadata": {},
   "outputs": [
    {
     "name": "stderr",
     "output_type": "stream",
     "text": [
      "/Users/silviaresende/opt/anaconda3/lib/python3.9/site-packages/sklearn/utils/deprecation.py:87: FutureWarning: Function plot_confusion_matrix is deprecated; Function `plot_confusion_matrix` is deprecated in 1.0 and will be removed in 1.2. Use one of the class methods: ConfusionMatrixDisplay.from_predictions or ConfusionMatrixDisplay.from_estimator.\n",
      "  warnings.warn(msg, category=FutureWarning)\n",
      "/Users/silviaresende/opt/anaconda3/lib/python3.9/site-packages/sklearn/utils/deprecation.py:87: FutureWarning: Function plot_roc_curve is deprecated; Function :func:`plot_roc_curve` is deprecated in 1.0 and will be removed in 1.2. Use one of the class methods: :meth:`sklearn.metrics.RocCurveDisplay.from_predictions` or :meth:`sklearn.metrics.RocCurveDisplay.from_estimator`.\n",
      "  warnings.warn(msg, category=FutureWarning)\n"
     ]
    },
    {
     "name": "stdout",
     "output_type": "stream",
     "text": [
      "Specificity: 0.7852\n",
      "Sensitivity: 0.9239\n"
     ]
    },
    {
     "data": {
      "image/png": "[encoded data removed]",
      "text/plain": [
       "<Figure size 432x288 with 2 Axes>"
      ]
     },
     "metadata": {
      "needs_background": "light"
     },
     "output_type": "display_data"
    },
    {
     "data": {
      "image/png": "[encoded data removed]",
      "text/plain": [
       "<Figure size 432x288 with 1 Axes>"
      ]
     },
     "metadata": {
      "needs_background": "light"
     },
     "output_type": "display_data"
    }
   ],
   "source": [
    "evaluation_confusion_matrix(gs_et, X_test, y_test, gs_et.predict(X_test))"
   ]
  },
  {
   "cell_type": "markdown",
   "metadata": {},
   "source": [
    "## #9 AdaBoost for Extra Random Trees\n",
    "___\n"
   ]
  },
  {
   "cell_type": "code",
   "execution_count": 48,
   "metadata": {},
   "outputs": [
    {
     "name": "stdout",
     "output_type": "stream",
     "text": [
      "Best Prameters: {'base_estimator__max_depth': 1, 'learning_rate': 1.01, 'n_estimators': 100}\n",
      "Best Score: 0.8655752419085753\n"
     ]
    }
   ],
   "source": [
    "ada = AdaBoostClassifier(base_estimator = ExtraTreesClassifier())\n",
    "\n",
    "ada_params = {\n",
    "    'n_estimators': [50, 100],\n",
    "    'base_estimator__max_depth': [1, 2],\n",
    "    'learning_rate': [0.9, 1.01],\n",
    "}\n",
    "\n",
    "gs_ada = GridSearchCV(ada, param_grid = ada_params, cv = 3)\n",
    "gs_ada.fit(X_train, y_train)\n",
    "\n",
    "print(f'Best Prameters: {gs_ada.best_params_}')\n",
    "print(f'Best Score: {gs_ada.best_score_}')\n"
   ]
  },
  {
   "cell_type": "code",
   "execution_count": 49,
   "metadata": {},
   "outputs": [
    {
     "name": "stdout",
     "output_type": "stream",
     "text": [
      "Train Score: 0.9266\n",
      "Test Score: 0.862\n",
      "F1 Score: 0.8748\n",
      "Accuracy: 0.862\n",
      "Misclassif. Train: 0.0734\n",
      "Misclassif. Test: 0.138\n"
     ]
    }
   ],
   "source": [
    "evaluation(gs_ada, X_train, y_train, X_test, y_test, gs_ada.predict(X_test))"
   ]
  },
  {
   "cell_type": "code",
   "execution_count": 50,
   "metadata": {},
   "outputs": [
    {
     "name": "stderr",
     "output_type": "stream",
     "text": [
      "/Users/silviaresende/opt/anaconda3/lib/python3.9/site-packages/sklearn/utils/deprecation.py:87: FutureWarning: Function plot_confusion_matrix is deprecated; Function `plot_confusion_matrix` is deprecated in 1.0 and will be removed in 1.2. Use one of the class methods: ConfusionMatrixDisplay.from_predictions or ConfusionMatrixDisplay.from_estimator.\n",
      "  warnings.warn(msg, category=FutureWarning)\n",
      "/Users/silviaresende/opt/anaconda3/lib/python3.9/site-packages/sklearn/utils/deprecation.py:87: FutureWarning: Function plot_roc_curve is deprecated; Function :func:`plot_roc_curve` is deprecated in 1.0 and will be removed in 1.2. Use one of the class methods: :meth:`sklearn.metrics.RocCurveDisplay.from_predictions` or :meth:`sklearn.metrics.RocCurveDisplay.from_estimator`.\n",
      "  warnings.warn(msg, category=FutureWarning)\n"
     ]
    },
    {
     "name": "stdout",
     "output_type": "stream",
     "text": [
      "Specificity: 0.8243\n",
      "Sensitivity: 0.8942\n"
     ]
    },
    {
     "data": {
      "image/png": "[encoded data removed]",
      "text/plain": [
       "<Figure size 432x288 with 2 Axes>"
      ]
     },
     "metadata": {
      "needs_background": "light"
     },
     "output_type": "display_data"
    },
    {
     "data": {
      "image/png": "[encoded data removed]",
      "text/plain": [
       "<Figure size 432x288 with 1 Axes>"
      ]
     },
     "metadata": {
      "needs_background": "light"
     },
     "output_type": "display_data"
    }
   ],
   "source": [
    "evaluation_confusion_matrix(gs_ada, X_test, y_test, gs_ada.predict(X_test))"
   ]
  },
  {
   "cell_type": "markdown",
   "metadata": {},
   "source": [
    "## #10 AdaBoost for Logistic Regression\n",
    "___"
   ]
  },
  {
   "cell_type": "code",
   "execution_count": 51,
   "metadata": {},
   "outputs": [
    {
     "name": "stdout",
     "output_type": "stream",
     "text": [
      "Best Score: 0.5410273606940273\n",
      "Best Parameters: {'base_estimator__C': 1.0, 'learning_rate': 1.0, 'n_estimators': 100}\n"
     ]
    }
   ],
   "source": [
    "ada_lr = AdaBoostClassifier(base_estimator = LogisticRegression())\n",
    "\n",
    "ada_lr_params = {\n",
    "    'n_estimators': [50, 100],\n",
    "    'base_estimator__C': [0.01, 0.1, 1.0],\n",
    "    'learning_rate': [0.9, 1.0]\n",
    "}\n",
    "gs_ada_lr = GridSearchCV(ada_lr, param_grid=ada_lr_params,\n",
    "                        cv = 3)\n",
    "\n",
    "gs_ada_lr.fit(X_train, y_train)\n",
    "print(f'Best Score: {gs_ada_lr.best_score_}')\n",
    "print(f'Best Parameters: {gs_ada_lr.best_params_}')"
   ]
  },
  {
   "cell_type": "code",
   "execution_count": 52,
   "metadata": {},
   "outputs": [
    {
     "name": "stdout",
     "output_type": "stream",
     "text": [
      "Train Score: 0.9266\n",
      "Test Score: 0.862\n",
      "F1 Score: 0.7033\n",
      "Accuracy: 0.546\n",
      "Misclassif. Train: 0.0734\n",
      "Misclassif. Test: 0.138\n"
     ]
    }
   ],
   "source": [
    "evaluation(gs_ada, X_train, y_train, X_test, y_test, gs_ada_lr.predict(X_test))"
   ]
  },
  {
   "cell_type": "code",
   "execution_count": 53,
   "metadata": {},
   "outputs": [
    {
     "name": "stderr",
     "output_type": "stream",
     "text": [
      "/Users/silviaresende/opt/anaconda3/lib/python3.9/site-packages/sklearn/utils/deprecation.py:87: FutureWarning: Function plot_confusion_matrix is deprecated; Function `plot_confusion_matrix` is deprecated in 1.0 and will be removed in 1.2. Use one of the class methods: ConfusionMatrixDisplay.from_predictions or ConfusionMatrixDisplay.from_estimator.\n",
      "  warnings.warn(msg, category=FutureWarning)\n",
      "/Users/silviaresende/opt/anaconda3/lib/python3.9/site-packages/sklearn/utils/deprecation.py:87: FutureWarning: Function plot_roc_curve is deprecated; Function :func:`plot_roc_curve` is deprecated in 1.0 and will be removed in 1.2. Use one of the class methods: :meth:`sklearn.metrics.RocCurveDisplay.from_predictions` or :meth:`sklearn.metrics.RocCurveDisplay.from_estimator`.\n",
      "  warnings.warn(msg, category=FutureWarning)\n"
     ]
    },
    {
     "name": "stdout",
     "output_type": "stream",
     "text": [
      "Specificity: 0.8243\n",
      "Sensitivity: 0.8942\n"
     ]
    },
    {
     "data": {
      "image/png": "[encoded data removed]",
      "text/plain": [
       "<Figure size 432x288 with 2 Axes>"
      ]
     },
     "metadata": {
      "needs_background": "light"
     },
     "output_type": "display_data"
    },
    {
     "data": {
      "image/png": "[encoded data removed]",
      "text/plain": [
       "<Figure size 432x288 with 1 Axes>"
      ]
     },
     "metadata": {
      "needs_background": "light"
     },
     "output_type": "display_data"
    }
   ],
   "source": [
    "evaluation_confusion_matrix(gs_ada,X_test, y_test, gs_ada.predict(X_test))"
   ]
  },
  {
   "cell_type": "markdown",
   "metadata": {},
   "source": [
    "## #11 AdaBoost for Multinomial Naive Bayes\n",
    "___"
   ]
  },
  {
   "cell_type": "code",
   "execution_count": 54,
   "metadata": {},
   "outputs": [
    {
     "name": "stdout",
     "output_type": "stream",
     "text": [
      "Best Parameters: {'base_estimator__alpha': 0.1, 'learning_rate': 1.0, 'n_estimators': 200}\n",
      "Best Score: 0.871911911911912\n"
     ]
    }
   ],
   "source": [
    "ada_nb = AdaBoostClassifier(base_estimator = MultinomialNB())\n",
    "\n",
    "ada_nb_params = {\n",
    "    'base_estimator__alpha': [0.1, 0.2, 0.3, 0.4, 0.5, 0.6, 0.7, 0.8, 0.9, 1.0],\n",
    "    'n_estimators': [50, 100, 200],\n",
    "    'learning_rate': [0.9, 1.0]\n",
    "}\n",
    "gs_ada_nb = GridSearchCV(\n",
    "                        ada_nb, \n",
    "                        param_grid=ada_nb_params,\n",
    "                        cv = 3\n",
    ")\n",
    "gs_ada_nb.fit(X_train, y_train)\n",
    "\n",
    "print(f'Best Parameters: {gs_ada_nb.best_params_}')\n",
    "print(f'Best Score: {gs_ada_nb.best_score_}')"
   ]
  },
  {
   "cell_type": "code",
   "execution_count": 55,
   "metadata": {},
   "outputs": [
    {
     "name": "stdout",
     "output_type": "stream",
     "text": [
      "Train Score: 0.9807\n",
      "Test Score: 0.88\n",
      "F1 Score: 0.8934\n",
      "Accuracy: 0.88\n",
      "Misclassif. Train: 0.0193\n",
      "Misclassif. Test: 0.12\n"
     ]
    }
   ],
   "source": [
    "evaluation(gs_ada_nb, X_train, y_train, X_test, y_test, gs_ada_nb.predict(X_test))"
   ]
  },
  {
   "cell_type": "code",
   "execution_count": 56,
   "metadata": {},
   "outputs": [
    {
     "name": "stderr",
     "output_type": "stream",
     "text": [
      "/Users/silviaresende/opt/anaconda3/lib/python3.9/site-packages/sklearn/utils/deprecation.py:87: FutureWarning: Function plot_confusion_matrix is deprecated; Function `plot_confusion_matrix` is deprecated in 1.0 and will be removed in 1.2. Use one of the class methods: ConfusionMatrixDisplay.from_predictions or ConfusionMatrixDisplay.from_estimator.\n",
      "  warnings.warn(msg, category=FutureWarning)\n",
      "/Users/silviaresende/opt/anaconda3/lib/python3.9/site-packages/sklearn/utils/deprecation.py:87: FutureWarning: Function plot_roc_curve is deprecated; Function :func:`plot_roc_curve` is deprecated in 1.0 and will be removed in 1.2. Use one of the class methods: :meth:`sklearn.metrics.RocCurveDisplay.from_predictions` or :meth:`sklearn.metrics.RocCurveDisplay.from_estimator`.\n",
      "  warnings.warn(msg, category=FutureWarning)\n"
     ]
    },
    {
     "name": "stdout",
     "output_type": "stream",
     "text": [
      "Specificity: 0.8178\n",
      "Sensitivity: 0.9332\n"
     ]
    },
    {
     "data": {
      "image/png": "[encoded data removed]",
      "text/plain": [
       "<Figure size 432x288 with 2 Axes>"
      ]
     },
     "metadata": {
      "needs_background": "light"
     },
     "output_type": "display_data"
    },
    {
     "data": {
      "image/png": "[encoded data removed]",
      "text/plain": [
       "<Figure size 432x288 with 1 Axes>"
      ]
     },
     "metadata": {
      "needs_background": "light"
     },
     "output_type": "display_data"
    }
   ],
   "source": [
    "evaluation_confusion_matrix(gs_ada_nb, X_test, y_test, gs_ada_nb.predict(X_test))"
   ]
  },
  {
   "cell_type": "markdown",
   "metadata": {},
   "source": [
    "## #12 Gradient Boosting Classifier \n",
    "___"
   ]
  },
  {
   "cell_type": "code",
   "execution_count": 57,
   "metadata": {},
   "outputs": [
    {
     "name": "stdout",
     "output_type": "stream",
     "text": [
      "Best Score: 0.8212098765432098\n",
      "Best Parameters: {'learning_rate': 0.8, 'max_depth': 6, 'n_estimators': 125}\n"
     ]
    }
   ],
   "source": [
    "gboost = GradientBoostingClassifier()\n",
    "\n",
    "gboost_params = {\n",
    "    'max_depth': [2, 3, 4, 5, 6],\n",
    "    'n_estimators': [100, 125, 150],\n",
    "    'learning_rate': [0.8, 1.0, 0.1]\n",
    "}\n",
    "\n",
    "gb_gs = GridSearchCV(gboost, param_grid=gboost_params, cv = 3)\n",
    "gb_gs.fit(X_train, y_train)\n",
    "\n",
    "print(f'Best Score: {gb_gs.best_score_}')\n",
    "print(f'Best Parameters: {gb_gs.best_params_}')\n"
   ]
  },
  {
   "cell_type": "code",
   "execution_count": 58,
   "metadata": {},
   "outputs": [
    {
     "name": "stdout",
     "output_type": "stream",
     "text": [
      "Train Score: 0.9987\n",
      "Test Score: 0.82\n",
      "F1 Score: 0.8415\n",
      "Accuracy: 0.82\n",
      "Misclassif. Train: 0.0013\n",
      "Misclassif. Test: 0.18\n"
     ]
    }
   ],
   "source": [
    "evaluation(gb_gs, X_train, y_train, X_test, y_test, gb_gs.predict(X_test))"
   ]
  },
  {
   "cell_type": "code",
   "execution_count": 59,
   "metadata": {},
   "outputs": [
    {
     "name": "stdout",
     "output_type": "stream",
     "text": [
      "Specificity: 0.7419\n",
      "Sensitivity: 0.8868\n"
     ]
    },
    {
     "name": "stderr",
     "output_type": "stream",
     "text": [
      "/Users/silviaresende/opt/anaconda3/lib/python3.9/site-packages/sklearn/utils/deprecation.py:87: FutureWarning: Function plot_confusion_matrix is deprecated; Function `plot_confusion_matrix` is deprecated in 1.0 and will be removed in 1.2. Use one of the class methods: ConfusionMatrixDisplay.from_predictions or ConfusionMatrixDisplay.from_estimator.\n",
      "  warnings.warn(msg, category=FutureWarning)\n",
      "/Users/silviaresende/opt/anaconda3/lib/python3.9/site-packages/sklearn/utils/deprecation.py:87: FutureWarning: Function plot_roc_curve is deprecated; Function :func:`plot_roc_curve` is deprecated in 1.0 and will be removed in 1.2. Use one of the class methods: :meth:`sklearn.metrics.RocCurveDisplay.from_predictions` or :meth:`sklearn.metrics.RocCurveDisplay.from_estimator`.\n",
      "  warnings.warn(msg, category=FutureWarning)\n"
     ]
    },
    {
     "data": {
      "image/png": "[encoded data removed]",
      "text/plain": [
       "<Figure size 432x288 with 2 Axes>"
      ]
     },
     "metadata": {
      "needs_background": "light"
     },
     "output_type": "display_data"
    },
    {
     "data": {
      "image/png": "[encoded data removed]",
      "text/plain": [
       "<Figure size 432x288 with 1 Axes>"
      ]
     },
     "metadata": {
      "needs_background": "light"
     },
     "output_type": "display_data"
    }
   ],
   "source": [
    "evaluation_confusion_matrix(gb_gs, X_test, y_test, gb_gs.predict(X_test))"
   ]
  },
  {
   "cell_type": "markdown",
   "metadata": {},
   "source": [
    "## #13 Voting Classifier\n",
    "___\n"
   ]
  },
  {
   "cell_type": "code",
   "execution_count": 60,
   "metadata": {},
   "outputs": [
    {
     "name": "stdout",
     "output_type": "stream",
     "text": [
      "Best Score: 0.8215468802135469\n",
      "Best Parameters: {'ada__n_estimators': 100, 'gb__n_estimators': 200, 'tree__max_depth': None}\n"
     ]
    }
   ],
   "source": [
    "vote = VotingClassifier([\n",
    "    ('tree', DecisionTreeClassifier()),\n",
    "    ('ada', AdaBoostClassifier()),\n",
    "    ('gb', GradientBoostingClassifier())\n",
    "])\n",
    "vote_params = {\n",
    "    'ada__n_estimators': [50, 75, 100],\n",
    "    'gb__n_estimators': [100, 125, 200],\n",
    "    'tree__max_depth':[None, 5]\n",
    "}\n",
    "gs_vt = GridSearchCV(vote, param_grid=vote_params, cv = 3)\n",
    "\n",
    "gs_vt.fit(X_train, y_train)\n",
    "\n",
    "print(f'Best Score: {gs_vt.best_score_}')\n",
    "print(f'Best Parameters: {gs_vt.best_params_}')"
   ]
  },
  {
   "cell_type": "code",
   "execution_count": 61,
   "metadata": {},
   "outputs": [
    {
     "name": "stdout",
     "output_type": "stream",
     "text": [
      "Train Score: 0.9496\n",
      "Test Score: 0.831\n",
      "F1 Score: 0.8476\n",
      "Accuracy: 0.831\n",
      "Misclassif. Train: 0.0504\n",
      "Misclassif. Test: 0.169\n"
     ]
    }
   ],
   "source": [
    "evaluation(gs_vt, X_train, y_train, X_test, y_test, gs_vt.predict(X_test))"
   ]
  },
  {
   "cell_type": "code",
   "execution_count": 62,
   "metadata": {},
   "outputs": [
    {
     "name": "stdout",
     "output_type": "stream",
     "text": [
      "Specificity: 0.7831\n",
      "Sensitivity: 0.872\n"
     ]
    },
    {
     "name": "stderr",
     "output_type": "stream",
     "text": [
      "/Users/silviaresende/opt/anaconda3/lib/python3.9/site-packages/sklearn/utils/deprecation.py:87: FutureWarning: Function plot_confusion_matrix is deprecated; Function `plot_confusion_matrix` is deprecated in 1.0 and will be removed in 1.2. Use one of the class methods: ConfusionMatrixDisplay.from_predictions or ConfusionMatrixDisplay.from_estimator.\n",
      "  warnings.warn(msg, category=FutureWarning)\n"
     ]
    },
    {
     "data": {
      "image/png": "[encoded data removed]",
      "text/plain": [
       "<Figure size 432x288 with 2 Axes>"
      ]
     },
     "metadata": {
      "needs_background": "light"
     },
     "output_type": "display_data"
    }
   ],
   "source": [
    "tn, fp, fn, tp = confusion_matrix(y_test, gs_vt.predict(X_test)).ravel()\n",
    "confusion_matrix(y_test, gs_vt.predict(X_test)).ravel()\n",
    "   \n",
    "# Plotting Matrix and RocCurve\n",
    "plot_confusion_matrix(gs_vt, X_test, y_test, display_labels = ['explainlikeimfive', 'OutOfTheLoop'])\n",
    "\n",
    "   \n",
    "# Calculate the specificity\n",
    "spec = tn / (tn + fp)\n",
    "print(f'Specificity: {round(spec, 4) }')\n",
    "    \n",
    "# Calculate sensitivity.\n",
    "sens = tp / (tp + fn)\n",
    "print(f'Sensitivity: {round(sens, 4)}') "
   ]
  },
  {
   "cell_type": "markdown",
   "metadata": {},
   "source": [
    "## #14 Voting Classifier with Pipeline \n",
    "___"
   ]
  },
  {
   "cell_type": "code",
   "execution_count": 65,
   "metadata": {},
   "outputs": [
    {
     "name": "stderr",
     "output_type": "stream",
     "text": [
      "/Users/silviaresende/opt/anaconda3/lib/python3.9/site-packages/sklearn/model_selection/_validation.py:378: FitFailedWarning: \n",
      "100 fits failed out of a total of 300.\n",
      "The score on these train-test partitions for these parameters will be set to nan.\n",
      "If these failures are not expected, you can try to debug them by setting error_score='raise'.\n",
      "\n",
      "Below are more details about the failures:\n",
      "--------------------------------------------------------------------------------\n",
      "100 fits failed with the following error:\n",
      "Traceback (most recent call last):\n",
      "  File \"/Users/silviaresende/opt/anaconda3/lib/python3.9/site-packages/sklearn/model_selection/_validation.py\", line 686, in _fit_and_score\n",
      "    estimator.fit(X_train, y_train, **fit_params)\n",
      "  File \"/Users/silviaresende/opt/anaconda3/lib/python3.9/site-packages/sklearn/ensemble/_voting.py\", line 351, in fit\n",
      "    return super().fit(X, transformed_y, sample_weight)\n",
      "  File \"/Users/silviaresende/opt/anaconda3/lib/python3.9/site-packages/sklearn/ensemble/_voting.py\", line 83, in fit\n",
      "    self.estimators_ = Parallel(n_jobs=self.n_jobs)(\n",
      "  File \"/Users/silviaresende/opt/anaconda3/lib/python3.9/site-packages/joblib/parallel.py\", line 1046, in __call__\n",
      "    while self.dispatch_one_batch(iterator):\n",
      "  File \"/Users/silviaresende/opt/anaconda3/lib/python3.9/site-packages/joblib/parallel.py\", line 861, in dispatch_one_batch\n",
      "    self._dispatch(tasks)\n",
      "  File \"/Users/silviaresende/opt/anaconda3/lib/python3.9/site-packages/joblib/parallel.py\", line 779, in _dispatch\n",
      "    job = self._backend.apply_async(batch, callback=cb)\n",
      "  File \"/Users/silviaresende/opt/anaconda3/lib/python3.9/site-packages/joblib/_parallel_backends.py\", line 208, in apply_async\n",
      "    result = ImmediateResult(func)\n",
      "  File \"/Users/silviaresende/opt/anaconda3/lib/python3.9/site-packages/joblib/_parallel_backends.py\", line 572, in __init__\n",
      "    self.results = batch()\n",
      "  File \"/Users/silviaresende/opt/anaconda3/lib/python3.9/site-packages/joblib/parallel.py\", line 262, in __call__\n",
      "    return [func(*args, **kwargs)\n",
      "  File \"/Users/silviaresende/opt/anaconda3/lib/python3.9/site-packages/joblib/parallel.py\", line 262, in <listcomp>\n",
      "    return [func(*args, **kwargs)\n",
      "  File \"/Users/silviaresende/opt/anaconda3/lib/python3.9/site-packages/sklearn/utils/fixes.py\", line 117, in __call__\n",
      "    return self.function(*args, **kwargs)\n",
      "  File \"/Users/silviaresende/opt/anaconda3/lib/python3.9/site-packages/sklearn/ensemble/_base.py\", line 47, in _fit_single_estimator\n",
      "    estimator.fit(X, y)\n",
      "  File \"/Users/silviaresende/opt/anaconda3/lib/python3.9/site-packages/sklearn/pipeline.py\", line 382, in fit\n",
      "    self._final_estimator.fit(Xt, y, **fit_params_last_step)\n",
      "  File \"/Users/silviaresende/opt/anaconda3/lib/python3.9/site-packages/sklearn/linear_model/_logistic.py\", line 1091, in fit\n",
      "    solver = _check_solver(self.solver, self.penalty, self.dual)\n",
      "  File \"/Users/silviaresende/opt/anaconda3/lib/python3.9/site-packages/sklearn/linear_model/_logistic.py\", line 61, in _check_solver\n",
      "    raise ValueError(\n",
      "ValueError: Solver lbfgs supports only 'l2' or 'none' penalties, got l1 penalty.\n",
      "\n",
      "  warnings.warn(some_fits_failed_message, FitFailedWarning)\n",
      "/Users/silviaresende/opt/anaconda3/lib/python3.9/site-packages/sklearn/model_selection/_search.py:953: UserWarning: One or more of the test scores are non-finite: [       nan        nan        nan        nan        nan        nan\n",
      "        nan        nan        nan        nan 0.84956817 0.84789928\n",
      " 0.84623205 0.84789983 0.84556594 0.84590095 0.8445665  0.84489983\n",
      " 0.84423038 0.84456205 0.84823038 0.84956539 0.84656316 0.84656205\n",
      " 0.84622871 0.84389371 0.84289316 0.84422816 0.84389371 0.84355871\n",
      "        nan        nan        nan        nan        nan        nan\n",
      "        nan        nan        nan        nan 0.85156873 0.84956873\n",
      " 0.84923539 0.84956928 0.84656817 0.84623261 0.84723317 0.84723261\n",
      " 0.84556372 0.84656427 0.85023205 0.85023205 0.84823261 0.84789538\n",
      " 0.84589705 0.84522816 0.84589594 0.84422927 0.8442276  0.84289316]\n",
      "  warnings.warn(\n"
     ]
    },
    {
     "name": "stdout",
     "output_type": "stream",
     "text": [
      "Best Score:0.8515687256538677\n",
      "Best Parameters:{'ada__n_estimators': 75, 'gb__n_estimators': 100, 'lr_pipe__lr__penalty': 'l2', 'nb_pipe__nb__alpha': 0.1}\n"
     ]
    }
   ],
   "source": [
    "lr_pipe = Pipeline([\n",
    "    ('lr', LogisticRegression())\n",
    "])\n",
    "\n",
    "nb_pipe = Pipeline([\n",
    "    ('nb', MultinomialNB())\n",
    "])\n",
    "\n",
    "vote = VotingClassifier([\n",
    "    ('ada', AdaBoostClassifier()),\n",
    "    ('gb', GradientBoostingClassifier()),\n",
    "    ('nb_pipe', nb_pipe),\n",
    "    ('lr_pipe', lr_pipe)\n",
    "])\n",
    "\n",
    "vote_params = {\n",
    "    'ada__n_estimators':[50, 75],\n",
    "    'gb__n_estimators':[100],\n",
    "    'lr_pipe__lr__penalty': ['l1', 'l2', 'none'],\n",
    "    'nb_pipe__nb__alpha': [0.1, 0.2, 0.3, 0.4, 0.5, 0.6, 0.7, 0.8, 0.9, 1.0]\n",
    "}\n",
    "\n",
    "gs_vt2 = GridSearchCV(vote, param_grid=vote_params)\n",
    "gs_vt2.fit(X_train, y_train)\n",
    "\n",
    "print(f'Best Score:{gs_vt2.best_score_}')\n",
    "print(f'Best Parameters:{gs_vt2.best_params_}')\n"
   ]
  },
  {
   "cell_type": "code",
   "execution_count": 66,
   "metadata": {},
   "outputs": [
    {
     "name": "stdout",
     "output_type": "stream",
     "text": [
      "Train Score: 0.9326\n",
      "Test Score: 0.857\n",
      "F1 Score: 0.8662\n",
      "Accuracy: 0.857\n",
      "Misclassif. Train: 0.0674\n",
      "Misclassif. Test: 0.143\n"
     ]
    }
   ],
   "source": [
    "evaluation(gs_vt2, X_train, y_train, X_test, y_test, gs_vt2.predict(X_test))"
   ]
  },
  {
   "cell_type": "code",
   "execution_count": 67,
   "metadata": {},
   "outputs": [
    {
     "name": "stdout",
     "output_type": "stream",
     "text": [
      "0.8662301216089805\n",
      "Confusion Matrix: \n",
      " [[394  67]\n",
      " [ 76 463]]\n",
      "\n",
      "Sensitivity: 0.859\n",
      "Specificity: 0.8547\n"
     ]
    },
    {
     "name": "stderr",
     "output_type": "stream",
     "text": [
      "/Users/silviaresende/opt/anaconda3/lib/python3.9/site-packages/sklearn/utils/deprecation.py:87: FutureWarning: Function plot_confusion_matrix is deprecated; Function `plot_confusion_matrix` is deprecated in 1.0 and will be removed in 1.2. Use one of the class methods: ConfusionMatrixDisplay.from_predictions or ConfusionMatrixDisplay.from_estimator.\n",
      "  warnings.warn(msg, category=FutureWarning)\n"
     ]
    },
    {
     "data": {
      "image/png": "[encoded data removed]",
      "text/plain": [
       "<Figure size 432x288 with 2 Axes>"
      ]
     },
     "metadata": {
      "needs_background": "light"
     },
     "output_type": "display_data"
    }
   ],
   "source": [
    "# Generate predictions on test set.\n",
    "preds_vt_pipe = gs_vt2.predict(X_test)\n",
    "\n",
    "print(metrics.f1_score(y_test, preds_vt_pipe))\n",
    "\n",
    "# Generate confusion matrix.\n",
    "tn, fp, fn, tp = confusion_matrix(y_test,\n",
    "                                  preds_vt_pipe).ravel()\n",
    "\n",
    "print(f'Confusion Matrix: \\n {confusion_matrix(y_test, preds_vt_pipe)}\\n')\n",
    "plot_confusion_matrix(gs_vt2, X_test, y_test, display_labels = ['explainlikeimfive', 'OutOfTheLoop'])\n",
    "\n",
    "# Calculate sensitivity.\n",
    "sens = tp / (tp + fn)\n",
    "print(f'Sensitivity: {round(sens, 4)}')\n",
    "\n",
    "# Calculate specificity.\n",
    "spec = tn / (tn + fp)\n",
    "print(f'Specificity: {round(spec, 4)}')"
   ]
  },
  {
   "cell_type": "markdown",
   "metadata": {},
   "source": [
    "## Evaluation Models \n",
    "_____\n"
   ]
  },
  {
   "cell_type": "markdown",
   "metadata": {},
   "source": [
    "As mentioned earlier, the metric chosen to evaluate the models was the F1 score. F1 Score is the weighted average of Precision and Recall. Therefore, this score takes both false positives and false negatives into account. Intuitively it is not as easy to understand as accuracy, but F1 is usually more useful than accuracy, especially if you have an uneven class distribution. Accuracy works best if false positives and false negatives have similar cost. If the cost of false positives and false negatives are very different, it’s better to look at both Precision and Recall.[3]\n",
    "\n",
    "F1 Score = 2 * (Recall * Precision) / (Recall + Precision)\n",
    "\n",
    "\n",
    "![](../images/TableMetrics.png) "
   ]
  },
  {
   "cell_type": "markdown",
   "metadata": {},
   "source": [
    "#### MULTINOMIAL NAÏVE BAEYS\n",
    "----"
   ]
  },
  {
   "cell_type": "markdown",
   "metadata": {},
   "source": [
    "Best Parameters: \n",
    "{  \\\n",
    "'tvec__max_df': 0.9,    # Maximum number of documents needed to include token (90%) \\\n",
    "‘tvec__max_features': 5000, # Maximum number of features fit.       \\\n",
    "'tvec__min_df': 3, # Minimum number of documents needed to include token (3). \\\n",
    "'tvec__ngram_range': (1, 2), # Check (individual tokens) and also check 2-grams. \\\n",
    "'tvec__stop_words': None  # Remove stop words (None) \\\n",
    "} \n",
    "\n",
    "Train Score: 0.946 \\\n",
    "Test Score: 0.902 \\\n",
    "F1 Score: 0.9111 \\ \n",
    "Accuracy: 0.902 \\ "
   ]
  },
  {
   "cell_type": "markdown",
   "metadata": {},
   "source": [
    "#### LOGISTIC REGRESSION\n",
    "----"
   ]
  },
  {
   "cell_type": "markdown",
   "metadata": {},
   "source": [
    "\n",
    "Best Parameters: \\\n",
    "{   \\\n",
    "'lr__penalty': 'l2', \\\n",
    "'tvec__max_features': 4000, \\\n",
    "'tvec__min_df': 4, \\\n",
    "'tvec__ngram_range': (1, 2), \\\n",
    "'tvec__stop_words': None \\\n",
    "} \n",
    "\n",
    "Train Score: 0.9496 \\\n",
    "Test Score: 0.9 \\\n",
    "F1 Score: 0.9076 \\\n",
    "Accuracy: 0.9 "
   ]
  },
  {
   "cell_type": "markdown",
   "metadata": {},
   "source": [
    "## Conclusion and Recommendations \n",
    "\n",
    "----"
   ]
  },
  {
   "cell_type": "markdown",
   "metadata": {},
   "source": [
    "Looking at the metrics in the training and test sets, we can verify that both models are not overfitting or have high bias and based on the F1 score metric (and also accuracy), we can say that both models perform very well in the forecast from these two subreddits. Another conclusion is that there doesn't seem to be much overlap in terms, otherwise it wouldn't perform as well."
   ]
  },
  {
   "cell_type": "markdown",
   "metadata": {},
   "source": [
    "## Future Works \n",
    "----"
   ]
  },
  {
   "cell_type": "markdown",
   "metadata": {},
   "source": [
    "\n",
    "\n",
    "• Perform a Test Validation: Get more data from each subreddit and placement a test in unseen data; \\\n",
    "• Add Information to Documents: Adding information to the model from links extracted from the documents (YouTube links); \\\n",
    "• Others Subreddits: Applying to others subreddits to check if the model performs well; \\\n",
    "• Frame a Different Statement: Evaluate using different metrics to check the model performance (Sensitivity/Recall). Maybe we can think about a scenario where it makes sense to rank one class more than the other. For example, consider that the ELI5 profile is a person who is learning the English language and needs explanations about a certain subject in a simple and lay language."
   ]
  },
  {
   "cell_type": "markdown",
   "metadata": {},
   "source": [
    "## References\n",
    "----"
   ]
  },
  {
   "cell_type": "markdown",
   "metadata": {},
   "source": [
    "[1][*Explain Like I'm Five*](https://www.reddit.com/r/explainlikeimfive/)  \\\n",
    "[2][*Subreddit Out of the Loop*](https://www.reddit.com/r/OutOfTheLoop/)  \\\n",
    "[3][*F1 Score*](https://blog.exsilio.com/all/accuracy-precision-recall-f1-score-interpretation-of-performance-measures/) "
   ]
  }
 ],
 "metadata": {
  "kernelspec": {
   "display_name": "Python 3.9.12 ('base')",
   "language": "python",
   "name": "python3"
  },
  "language_info": {
   "codemirror_mode": {
    "name": "ipython",
    "version": 3
   },
   "file_extension": ".py",
   "mimetype": "text/x-python",
   "name": "python",
   "nbconvert_exporter": "python",
   "pygments_lexer": "ipython3",
   "version": "3.9.12"
  },
  "orig_nbformat": 4,
  "vscode": {
   "interpreter": {
    "hash": "34f45a2ba0fbc03e28e7f7a41cd378a2ce17a9c291c97b9041ffb2d877b082e9"
   }
  }
 },
 "nbformat": 4,
 "nbformat_minor": 2
}
