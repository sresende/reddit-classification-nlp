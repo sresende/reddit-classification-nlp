{
 "cells": [
  {
   "cell_type": "markdown",
   "metadata": {},
   "source": [
    "# Project #3\n",
    "_____"
   ]
  },
  {
   "cell_type": "markdown",
   "metadata": {},
   "source": [
    "# Webscrapping\n",
    "> Authors: Si|via Resende\n",
    "\n",
    "---"
   ]
  },
  {
   "cell_type": "markdown",
   "metadata": {},
   "source": [
    "## About Data \n",
    "----\n",
    "\n"
   ]
  },
  {
   "cell_type": "markdown",
   "metadata": {},
   "source": [
    "The data used for the modeling and analysis of the project were obtained directly from the page of each of the respective subreddits. To achieve this data retention, we use the webscraping technique in combination with the reddit-specific API called Pushshift. In this process, 6,137 more records were obtained with 73 characteristics each, thus obtaining a final dataset of size (6,137, 73), that is, more than 6,000 posts were used to serve as a learning base for our model. This entire data collection process is documented in the Jupyter Notebook '00 Getting Data.ipynb' located in the code folder of this repository as well as the dataset itself in the data folder ('../data/subreddits_.csv')."
   ]
  },
  {
   "cell_type": "markdown",
   "metadata": {},
   "source": [
    "### Subreddit: Out of the loop -  Getting Data\n",
    "____"
   ]
  },
  {
   "cell_type": "code",
   "execution_count": 2,
   "metadata": {},
   "outputs": [],
   "source": [
    "# importing Libraries\n",
    "import pandas as pd\n",
    "import requests \n",
    "from bs4 import BeautifulSoup"
   ]
  },
  {
   "cell_type": "code",
   "execution_count": 3,
   "metadata": {},
   "outputs": [],
   "source": [
    "# Getting firsts 250 posts\n",
    "url = 'https://api.pushshift.io/reddit/search/submission'\n",
    "\n",
    "params = {\n",
    "    'subreddit': 'OutOfTheLoop',\n",
    "    'size': 250\n",
    "}\n",
    "res = requests.get(url, params)\n",
    "res.status_code\n",
    "data = res.json()\n",
    "posts = data['data']\n",
    "len(posts)\n",
    "df = pd.DataFrame(posts)"
   ]
  },
  {
   "cell_type": "code",
   "execution_count": 4,
   "metadata": {},
   "outputs": [
    {
     "data": {
      "text/html": [
       "<div>\n",
       "<style scoped>\n",
       "    .dataframe tbody tr th:only-of-type {\n",
       "        vertical-align: middle;\n",
       "    }\n",
       "\n",
       "    .dataframe tbody tr th {\n",
       "        vertical-align: top;\n",
       "    }\n",
       "\n",
       "    .dataframe thead th {\n",
       "        text-align: right;\n",
       "    }\n",
       "</style>\n",
       "<table border=\"1\" class=\"dataframe\">\n",
       "  <thead>\n",
       "    <tr style=\"text-align: right;\">\n",
       "      <th></th>\n",
       "      <th>selftext</th>\n",
       "      <th>created_utc</th>\n",
       "    </tr>\n",
       "  </thead>\n",
       "  <tbody>\n",
       "    <tr>\n",
       "      <th>244</th>\n",
       "      <td>[removed]</td>\n",
       "      <td>1664393224</td>\n",
       "    </tr>\n",
       "    <tr>\n",
       "      <th>245</th>\n",
       "      <td>[removed]</td>\n",
       "      <td>1664391296</td>\n",
       "    </tr>\n",
       "    <tr>\n",
       "      <th>246</th>\n",
       "      <td>It’s been [trending on Tumblr](https://at.tumb...</td>\n",
       "      <td>1664389343</td>\n",
       "    </tr>\n",
       "    <tr>\n",
       "      <th>247</th>\n",
       "      <td>even on other social media platforms, i’ve bee...</td>\n",
       "      <td>1664388043</td>\n",
       "    </tr>\n",
       "    <tr>\n",
       "      <th>248</th>\n",
       "      <td>[removed]</td>\n",
       "      <td>1664387801</td>\n",
       "    </tr>\n",
       "  </tbody>\n",
       "</table>\n",
       "</div>"
      ],
      "text/plain": [
       "                                              selftext  created_utc\n",
       "244                                          [removed]   1664393224\n",
       "245                                          [removed]   1664391296\n",
       "246  It’s been [trending on Tumblr](https://at.tumb...   1664389343\n",
       "247  even on other social media platforms, i’ve bee...   1664388043\n",
       "248                                          [removed]   1664387801"
      ]
     },
     "execution_count": 4,
     "metadata": {},
     "output_type": "execute_result"
    }
   ],
   "source": [
    "df[['selftext','created_utc']].tail()"
   ]
  },
  {
   "cell_type": "code",
   "execution_count": 5,
   "metadata": {},
   "outputs": [
    {
     "data": {
      "text/plain": [
       "1664387801"
      ]
     },
     "execution_count": 5,
     "metadata": {},
     "output_type": "execute_result"
    }
   ],
   "source": [
    "last_post = df.shape[0]-1\n",
    "df.iloc[last_post]['created_utc']"
   ]
  },
  {
   "cell_type": "code",
   "execution_count": 6,
   "metadata": {},
   "outputs": [],
   "source": [
    "def getPostsSubreddit(subreddit, utc):\n",
    "    params2 = {\n",
    "            'subreddit': subreddit,\n",
    "            'size': 250,\n",
    "            'before': utc\n",
    "            }\n",
    "    res2 = requests.get(url, params2)\n",
    "    res2.status_code\n",
    "    data2 = res2.json()\n",
    "    posts2 = data2['data']\n",
    "    len(posts2)\n",
    "    return pd.DataFrame(posts2)"
   ]
  },
  {
   "cell_type": "code",
   "execution_count": 7,
   "metadata": {},
   "outputs": [
    {
     "data": {
      "text/plain": [
       "(11965, 73)"
      ]
     },
     "execution_count": 7,
     "metadata": {},
     "output_type": "execute_result"
    }
   ],
   "source": [
    "# Pulling data from reddit\n",
    "while (df[df['selftext']!='[removed]'].shape[0]) <= 2500:\n",
    "    utc = df.iloc[df.shape[0]-1]['created_utc']\n",
    "    subreddit = 'OutOfTheLoop'\n",
    "    df = pd.concat([df, getPostsSubreddit(subreddit, utc)], axis=0)\n",
    "   \n",
    "df.shape\n"
   ]
  },
  {
   "cell_type": "code",
   "execution_count": 8,
   "metadata": {},
   "outputs": [],
   "source": [
    "ooftl = df[df['selftext']!='[removed]']\n",
    "#ooftl.to_csv('../data/ooftl_.csv')\n"
   ]
  },
  {
   "cell_type": "code",
   "execution_count": 16,
   "metadata": {},
   "outputs": [
    {
     "data": {
      "text/plain": [
       "(2534, 73)"
      ]
     },
     "execution_count": 16,
     "metadata": {},
     "output_type": "execute_result"
    }
   ],
   "source": [
    "ooftl.shape"
   ]
  },
  {
   "cell_type": "markdown",
   "metadata": {},
   "source": [
    "\n",
    "### Subreddit: Explaim me like I'm Five -  Getting Data\n",
    "____"
   ]
  },
  {
   "cell_type": "code",
   "execution_count": 9,
   "metadata": {},
   "outputs": [],
   "source": [
    "# Getting first 250 posts\n",
    "url3 = 'https://api.pushshift.io/reddit/search/submission'\n",
    "\n",
    "params3 = {\n",
    "    'subreddit': 'explainlikeimfive',\n",
    "    'size': 250\n",
    "}\n",
    "res3 = requests.get(url3, params3)\n",
    "res3.status_code\n",
    "data3 = res3.json()\n",
    "posts3 = data3['data']\n",
    "len(posts3)\n",
    "df3 = pd.DataFrame(posts3)"
   ]
  },
  {
   "cell_type": "code",
   "execution_count": 10,
   "metadata": {},
   "outputs": [
    {
     "name": "stdout",
     "output_type": "stream",
     "text": [
      "1664668664\n",
      "1664586372\n",
      "1664492529\n",
      "1664407844\n",
      "1664319358\n",
      "1664227634\n",
      "1664146622\n",
      "1664050656\n",
      "1663953044\n",
      "1663869622\n",
      "1663786889\n",
      "1663703534\n",
      "1663615820\n",
      "1663534940\n",
      "1663450773\n",
      "1663361266\n",
      "1663264297\n",
      "1663180721\n",
      "1663096372\n",
      "1662992203\n",
      "1662899930\n",
      "1662815421\n"
     ]
    },
    {
     "data": {
      "text/plain": [
       "(5744, 70)"
      ]
     },
     "execution_count": 10,
     "metadata": {},
     "output_type": "execute_result"
    }
   ],
   "source": [
    "# Pulling data from reddit\n",
    "while (df3[df3['selftext']!='[removed]'].shape[0]) <= 3500:\n",
    "    utc3 = df3.iloc[df3.shape[0]-1]['created_utc']\n",
    "    subreddit3 = 'explainlikeimfive'\n",
    "\n",
    "    df3 = pd.concat([df3, getPostsSubreddit(subreddit3, utc3)], axis=0)\n",
    "   \n",
    "df3.shape"
   ]
  },
  {
   "cell_type": "code",
   "execution_count": 13,
   "metadata": {},
   "outputs": [],
   "source": [
    "elif5 = df3[df3['selftext']!='[removed]']\n",
    "#elif5.to_csv('../data/elif5_.csv')"
   ]
  },
  {
   "cell_type": "code",
   "execution_count": 17,
   "metadata": {},
   "outputs": [
    {
     "data": {
      "text/plain": [
       "(3603, 70)"
      ]
     },
     "execution_count": 17,
     "metadata": {},
     "output_type": "execute_result"
    }
   ],
   "source": [
    "elif5.shape"
   ]
  },
  {
   "cell_type": "markdown",
   "metadata": {},
   "source": [
    "### Merging data\n",
    "___________"
   ]
  },
  {
   "cell_type": "code",
   "execution_count": 14,
   "metadata": {},
   "outputs": [],
   "source": [
    "dataset = pd.concat([ooftl,elif5], axis=0)\n",
    "#dataset.sort_values(by='author', ascending=True).to_csv('../data/subreddits_.csv')"
   ]
  },
  {
   "cell_type": "code",
   "execution_count": 15,
   "metadata": {},
   "outputs": [
    {
     "data": {
      "text/plain": [
       "(6137, 73)"
      ]
     },
     "execution_count": 15,
     "metadata": {},
     "output_type": "execute_result"
    }
   ],
   "source": [
    "dataset.shape"
   ]
  }
 ],
 "metadata": {
  "kernelspec": {
   "display_name": "Python 3.9.12 ('base')",
   "language": "python",
   "name": "python3"
  },
  "language_info": {
   "codemirror_mode": {
    "name": "ipython",
    "version": 3
   },
   "file_extension": ".py",
   "mimetype": "text/x-python",
   "name": "python",
   "nbconvert_exporter": "python",
   "pygments_lexer": "ipython3",
   "version": "3.9.12"
  },
  "orig_nbformat": 4,
  "vscode": {
   "interpreter": {
    "hash": "34f45a2ba0fbc03e28e7f7a41cd378a2ce17a9c291c97b9041ffb2d877b082e9"
   }
  }
 },
 "nbformat": 4,
 "nbformat_minor": 2
}
