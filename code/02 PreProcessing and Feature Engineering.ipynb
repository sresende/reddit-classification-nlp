{
 "cells": [
  {
   "cell_type": "markdown",
   "metadata": {},
   "source": [
    "# Project #3\n",
    "_____"
   ]
  },
  {
   "cell_type": "markdown",
   "metadata": {},
   "source": [
    "# Pre-Processing and Feature Engineering \n",
    "> Author: Si|via Resende\n",
    "\n",
    "---"
   ]
  },
  {
   "cell_type": "markdown",
   "metadata": {},
   "source": [
    "Continuing the processing, we vectorize all documents ('selftext' content posts) from dataset using TdifVectorizer(). This algorithm works in a different way than CountVectorizer(), putting different weights for the occurrence of each token considering overall document. It weights the word counts by a measure of how often they appear in the documents. To set this vectorizer, we set two main parameters as stop_words = ‘english’ and ngram_range = (1,3) . The first one, remove words without ‘meaning’ from our document and the second one look at the occurrence of one, two or three sequential words in the documents."
   ]
  },
  {
   "cell_type": "code",
   "execution_count": 54,
   "metadata": {},
   "outputs": [],
   "source": [
    "# Importing Librearies\n",
    "import pandas as pd \n",
    "import matplotlib.pyplot as plt\n",
    "import numpy as np\n",
    "import seaborn as sns\n",
    "\n",
    "from sklearn.model_selection import cross_val_score, train_test_split, GridSearchCV\n",
    "from sklearn.feature_extraction.text import CountVectorizer, TfidfVectorizer\n",
    "import plotly.express as px"
   ]
  },
  {
   "cell_type": "code",
   "execution_count": 55,
   "metadata": {},
   "outputs": [
    {
     "data": {
      "text/html": [
       "<div>\n",
       "<style scoped>\n",
       "    .dataframe tbody tr th:only-of-type {\n",
       "        vertical-align: middle;\n",
       "    }\n",
       "\n",
       "    .dataframe tbody tr th {\n",
       "        vertical-align: top;\n",
       "    }\n",
       "\n",
       "    .dataframe thead th {\n",
       "        text-align: right;\n",
       "    }\n",
       "</style>\n",
       "<table border=\"1\" class=\"dataframe\">\n",
       "  <thead>\n",
       "    <tr style=\"text-align: right;\">\n",
       "      <th></th>\n",
       "      <th>subreddit</th>\n",
       "      <th>tokens</th>\n",
       "      <th>selftext_length</th>\n",
       "      <th>selftext_word_count</th>\n",
       "    </tr>\n",
       "  </thead>\n",
       "  <tbody>\n",
       "    <tr>\n",
       "      <th>0</th>\n",
       "      <td>OutOfTheLoop</td>\n",
       "      <td>['last', 'i', 'heard', 'a', 'few', 'year', 'ba...</td>\n",
       "      <td>218</td>\n",
       "      <td>18</td>\n",
       "    </tr>\n",
       "    <tr>\n",
       "      <th>1</th>\n",
       "      <td>explainlikeimfive</td>\n",
       "      <td>['so', 'a', 'year', 'ago', 'around', 'i', 'saw...</td>\n",
       "      <td>161</td>\n",
       "      <td>33</td>\n",
       "    </tr>\n",
       "    <tr>\n",
       "      <th>2</th>\n",
       "      <td>OutOfTheLoop</td>\n",
       "      <td>['i', 've', 'seen', 'meme', 'of', 'peopl', 'in...</td>\n",
       "      <td>350</td>\n",
       "      <td>21</td>\n",
       "    </tr>\n",
       "    <tr>\n",
       "      <th>3</th>\n",
       "      <td>OutOfTheLoop</td>\n",
       "      <td>['there', 's', 'a', 'lot', 'of', 'meme', 'onli...</td>\n",
       "      <td>84</td>\n",
       "      <td>11</td>\n",
       "    </tr>\n",
       "    <tr>\n",
       "      <th>4</th>\n",
       "      <td>OutOfTheLoop</td>\n",
       "      <td>['i', 'found', 'out', 'there', 're', 'ban', 's...</td>\n",
       "      <td>426</td>\n",
       "      <td>46</td>\n",
       "    </tr>\n",
       "  </tbody>\n",
       "</table>\n",
       "</div>"
      ],
      "text/plain": [
       "           subreddit                                             tokens  \\\n",
       "0       OutOfTheLoop  ['last', 'i', 'heard', 'a', 'few', 'year', 'ba...   \n",
       "1  explainlikeimfive  ['so', 'a', 'year', 'ago', 'around', 'i', 'saw...   \n",
       "2       OutOfTheLoop  ['i', 've', 'seen', 'meme', 'of', 'peopl', 'in...   \n",
       "3       OutOfTheLoop  ['there', 's', 'a', 'lot', 'of', 'meme', 'onli...   \n",
       "4       OutOfTheLoop  ['i', 'found', 'out', 'there', 're', 'ban', 's...   \n",
       "\n",
       "   selftext_length  selftext_word_count  \n",
       "0              218                   18  \n",
       "1              161                   33  \n",
       "2              350                   21  \n",
       "3               84                   11  \n",
       "4              426                   46  "
      ]
     },
     "execution_count": 55,
     "metadata": {},
     "output_type": "execute_result"
    }
   ],
   "source": [
    "subreddit = pd.read_csv('../data/subreddit_EDA.csv')\n",
    "subreddit.drop(columns='Unnamed: 0', inplace=True)\n",
    "df = subreddit.copy()\n",
    "df.head()\n",
    "#explain Like Im 5 = 0"
   ]
  },
  {
   "cell_type": "code",
   "execution_count": 56,
   "metadata": {},
   "outputs": [
    {
     "data": {
      "text/plain": [
       "(3998, 4)"
      ]
     },
     "execution_count": 56,
     "metadata": {},
     "output_type": "execute_result"
    }
   ],
   "source": [
    "df.shape"
   ]
  },
  {
   "cell_type": "code",
   "execution_count": 57,
   "metadata": {},
   "outputs": [
    {
     "data": {
      "text/html": [
       "<div>\n",
       "<style scoped>\n",
       "    .dataframe tbody tr th:only-of-type {\n",
       "        vertical-align: middle;\n",
       "    }\n",
       "\n",
       "    .dataframe tbody tr th {\n",
       "        vertical-align: top;\n",
       "    }\n",
       "\n",
       "    .dataframe thead th {\n",
       "        text-align: right;\n",
       "    }\n",
       "</style>\n",
       "<table border=\"1\" class=\"dataframe\">\n",
       "  <thead>\n",
       "    <tr style=\"text-align: right;\">\n",
       "      <th></th>\n",
       "      <th>subreddit</th>\n",
       "      <th>tokens</th>\n",
       "      <th>selftext_length</th>\n",
       "      <th>selftext_word_count</th>\n",
       "    </tr>\n",
       "  </thead>\n",
       "  <tbody>\n",
       "    <tr>\n",
       "      <th>0</th>\n",
       "      <td>1</td>\n",
       "      <td>['last', 'i', 'heard', 'a', 'few', 'year', 'ba...</td>\n",
       "      <td>218</td>\n",
       "      <td>18</td>\n",
       "    </tr>\n",
       "    <tr>\n",
       "      <th>1</th>\n",
       "      <td>0</td>\n",
       "      <td>['so', 'a', 'year', 'ago', 'around', 'i', 'saw...</td>\n",
       "      <td>161</td>\n",
       "      <td>33</td>\n",
       "    </tr>\n",
       "    <tr>\n",
       "      <th>2</th>\n",
       "      <td>1</td>\n",
       "      <td>['i', 've', 'seen', 'meme', 'of', 'peopl', 'in...</td>\n",
       "      <td>350</td>\n",
       "      <td>21</td>\n",
       "    </tr>\n",
       "  </tbody>\n",
       "</table>\n",
       "</div>"
      ],
      "text/plain": [
       "   subreddit                                             tokens  \\\n",
       "0          1  ['last', 'i', 'heard', 'a', 'few', 'year', 'ba...   \n",
       "1          0  ['so', 'a', 'year', 'ago', 'around', 'i', 'saw...   \n",
       "2          1  ['i', 've', 'seen', 'meme', 'of', 'peopl', 'in...   \n",
       "\n",
       "   selftext_length  selftext_word_count  \n",
       "0              218                   18  \n",
       "1              161                   33  \n",
       "2              350                   21  "
      ]
     },
     "execution_count": 57,
     "metadata": {},
     "output_type": "execute_result"
    }
   ],
   "source": [
    "# binarizing\n",
    "df['subreddit'] = df['subreddit'].map({'explainlikeimfive': 0 , 'OutOfTheLoop': 1 })\n",
    "df.head(3)"
   ]
  },
  {
   "cell_type": "code",
   "execution_count": 58,
   "metadata": {},
   "outputs": [
    {
     "data": {
      "text/plain": [
       "((3998,), (3998,))"
      ]
     },
     "execution_count": 58,
     "metadata": {},
     "output_type": "execute_result"
    }
   ],
   "source": [
    "X = df['tokens']\n",
    "y = df['subreddit']\n",
    "X.shape, y.shape"
   ]
  },
  {
   "cell_type": "code",
   "execution_count": 59,
   "metadata": {},
   "outputs": [
    {
     "data": {
      "text/plain": [
       "((2998,), (1000,))"
      ]
     },
     "execution_count": 59,
     "metadata": {},
     "output_type": "execute_result"
    }
   ],
   "source": [
    "X_train, X_test, y_train, y_test = train_test_split(X, y, random_state = 42, stratify = y)\n",
    "X_train.shape, X_test.shape"
   ]
  },
  {
   "cell_type": "code",
   "execution_count": 60,
   "metadata": {},
   "outputs": [
    {
     "data": {
      "text/plain": [
       "1    1616\n",
       "0    1382\n",
       "Name: subreddit, dtype: int64"
      ]
     },
     "execution_count": 60,
     "metadata": {},
     "output_type": "execute_result"
    }
   ],
   "source": [
    "y_train.value_counts()"
   ]
  },
  {
   "cell_type": "code",
   "execution_count": 61,
   "metadata": {},
   "outputs": [
    {
     "data": {
      "image/png": "[encoded data removed]",
      "text/plain": [
       "<Figure size 432x288 with 1 Axes>"
      ]
     },
     "metadata": {
      "needs_background": "light"
     },
     "output_type": "display_data"
    }
   ],
   "source": [
    "# Instantiate the transformer.\n",
    "tvec = TfidfVectorizer( ngram_range=(1, 1), stop_words='english')\n",
    "\n",
    "# Convert training data to dataframe\n",
    "X_train_df_1gram = pd.DataFrame(\n",
    "                                tvec.fit_transform(X_train).todense(), \n",
    "                                columns = tvec.get_feature_names_out()\n",
    "                                )\n",
    "\n",
    "# Plotting top importants words\n",
    "X_train_df_1gram.sum().sort_values( ascending=False ).head(10).plot(kind='barh').set_title('10 Most Important Words');"
   ]
  },
  {
   "cell_type": "code",
   "execution_count": 62,
   "metadata": {},
   "outputs": [
    {
     "data": {
      "image/png": "[encoded data removed]",
      "text/plain": [
       "<Figure size 432x288 with 1 Axes>"
      ]
     },
     "metadata": {
      "needs_background": "light"
     },
     "output_type": "display_data"
    }
   ],
   "source": [
    "# Instantiate the transformer.\n",
    "tvec = TfidfVectorizer( ngram_range=(2, 2),stop_words = 'english')\n",
    "\n",
    "# Convert training data to dataframe\n",
    "X_train_df_2gram = pd.DataFrame(\n",
    "                                tvec.fit_transform(X_train).todense(), \n",
    "                                columns=tvec.get_feature_names_out()\n",
    "                                )\n",
    "# Plotting top importants words\n",
    "X_train_df_2gram.sum().sort_values(ascending=False).head(10).plot(kind='barh').set_title('10 Most Important Bigrams');"
   ]
  },
  {
   "cell_type": "code",
   "execution_count": 63,
   "metadata": {},
   "outputs": [
    {
     "data": {
      "image/png": "[encoded data removed]",
      "text/plain": [
       "<Figure size 432x288 with 1 Axes>"
      ]
     },
     "metadata": {
      "needs_background": "light"
     },
     "output_type": "display_data"
    }
   ],
   "source": [
    "# Instantiate the transformer.\n",
    "tvec = TfidfVectorizer( ngram_range=(3, 3),stop_words = 'english')\n",
    "\n",
    "# Convert training data to dataframe\n",
    "X_train_df_3gram = pd.DataFrame(\n",
    "                            tvec.fit_transform(X_train).todense(), \n",
    "                            columns=tvec.get_feature_names_out()\n",
    "                            )\n",
    "# Plotting top importants words\n",
    "X_train_df_3gram.sum().sort_values(ascending=False).head(10).plot(kind='barh').set_title('10 Most Important Trigrams');\n"
   ]
  },
  {
   "cell_type": "code",
   "execution_count": 64,
   "metadata": {},
   "outputs": [],
   "source": [
    "X_train_df_1gram['subreddit'] = y_train.values\n",
    "X_train_df_2gram['subreddit'] = y_train.values \n",
    "X_train_df_3gram['subreddit'] = y_train.values"
   ]
  },
  {
   "cell_type": "code",
   "execution_count": 65,
   "metadata": {},
   "outputs": [
    {
     "data": {
      "text/plain": [
       "['doe anyon know',\n",
       " 'don understand whi',\n",
       " 'saw thi post',\n",
       " 'doe thi mean',\n",
       " 've seen lot',\n",
       " 'like titl say',\n",
       " 'don know whi',\n",
       " 'just don understand',\n",
       " 've seen post',\n",
       " 'someon pleas explain',\n",
       " 'just seen thi',\n",
       " 'just saw thi',\n",
       " 'post like thi',\n",
       " 'thing like thi',\n",
       " 'doe thi work',\n",
       " 'thi big deal',\n",
       " 'whi mani peopl',\n",
       " 've seen mani',\n",
       " 'whi doe thi',\n",
       " 'whi thi happen',\n",
       " 'did someth happen',\n",
       " 've seen bunch',\n",
       " 'anyon know happen',\n",
       " 'know ha someth']"
      ]
     },
     "execution_count": 65,
     "metadata": {},
     "output_type": "execute_result"
    }
   ],
   "source": [
    "serie_3gram = X_train_df_3gram.sum().sort_values(ascending=False).head(25)\n",
    "list_3gram = list(serie_3gram.index)\n",
    "list_3gram.remove('subreddit')\n",
    "list_3gram"
   ]
  },
  {
   "cell_type": "code",
   "execution_count": 66,
   "metadata": {},
   "outputs": [
    {
     "data": {
      "text/html": [
       "<div>\n",
       "<style scoped>\n",
       "    .dataframe tbody tr th:only-of-type {\n",
       "        vertical-align: middle;\n",
       "    }\n",
       "\n",
       "    .dataframe tbody tr th {\n",
       "        vertical-align: top;\n",
       "    }\n",
       "\n",
       "    .dataframe thead th {\n",
       "        text-align: right;\n",
       "    }\n",
       "</style>\n",
       "<table border=\"1\" class=\"dataframe\">\n",
       "  <thead>\n",
       "    <tr style=\"text-align: right;\">\n",
       "      <th></th>\n",
       "      <th>aa aaa size</th>\n",
       "      <th>aa observ remaind</th>\n",
       "      <th>aaa size batteri</th>\n",
       "      <th>aaden construct wall</th>\n",
       "      <th>aav sl uk</th>\n",
       "      <th>abandon basement pretti</th>\n",
       "      <th>abandon content alon</th>\n",
       "      <th>abandon eyebal ad</th>\n",
       "      <th>abandon recent wa</th>\n",
       "      <th>abbott littl piss</th>\n",
       "      <th>...</th>\n",
       "      <th>zoolog student gen</th>\n",
       "      <th>zoom notic thi</th>\n",
       "      <th>zoophil servic societi</th>\n",
       "      <th>zuckerberg action hi</th>\n",
       "      <th>zuckerberg ha caus</th>\n",
       "      <th>zyurang becaus train</th>\n",
       "      <th>zyzz wonder wa</th>\n",
       "      <th>ôn social web</th>\n",
       "      <th>þat instead advoc</th>\n",
       "      <th>博衣こよりd hashtag trend</th>\n",
       "    </tr>\n",
       "    <tr>\n",
       "      <th>subreddit</th>\n",
       "      <th></th>\n",
       "      <th></th>\n",
       "      <th></th>\n",
       "      <th></th>\n",
       "      <th></th>\n",
       "      <th></th>\n",
       "      <th></th>\n",
       "      <th></th>\n",
       "      <th></th>\n",
       "      <th></th>\n",
       "      <th></th>\n",
       "      <th></th>\n",
       "      <th></th>\n",
       "      <th></th>\n",
       "      <th></th>\n",
       "      <th></th>\n",
       "      <th></th>\n",
       "      <th></th>\n",
       "      <th></th>\n",
       "      <th></th>\n",
       "      <th></th>\n",
       "    </tr>\n",
       "  </thead>\n",
       "  <tbody>\n",
       "    <tr>\n",
       "      <th>0</th>\n",
       "      <td>0.219308</td>\n",
       "      <td>0.196116</td>\n",
       "      <td>0.219308</td>\n",
       "      <td>0.149337</td>\n",
       "      <td>0.0</td>\n",
       "      <td>0.188982</td>\n",
       "      <td>0.000000</td>\n",
       "      <td>0.000000</td>\n",
       "      <td>0.188982</td>\n",
       "      <td>0.000000</td>\n",
       "      <td>...</td>\n",
       "      <td>0.183211</td>\n",
       "      <td>0.288675</td>\n",
       "      <td>0.000000</td>\n",
       "      <td>0.000000</td>\n",
       "      <td>0.000000</td>\n",
       "      <td>0.000000</td>\n",
       "      <td>0.00</td>\n",
       "      <td>0.000000</td>\n",
       "      <td>0.000000</td>\n",
       "      <td>0.000000</td>\n",
       "    </tr>\n",
       "    <tr>\n",
       "      <th>1</th>\n",
       "      <td>0.000000</td>\n",
       "      <td>0.000000</td>\n",
       "      <td>0.000000</td>\n",
       "      <td>0.000000</td>\n",
       "      <td>0.5</td>\n",
       "      <td>0.000000</td>\n",
       "      <td>0.224141</td>\n",
       "      <td>0.156355</td>\n",
       "      <td>0.000000</td>\n",
       "      <td>0.213201</td>\n",
       "      <td>...</td>\n",
       "      <td>0.000000</td>\n",
       "      <td>0.000000</td>\n",
       "      <td>0.288675</td>\n",
       "      <td>0.154303</td>\n",
       "      <td>0.154303</td>\n",
       "      <td>0.185695</td>\n",
       "      <td>0.25</td>\n",
       "      <td>0.180718</td>\n",
       "      <td>0.170516</td>\n",
       "      <td>0.186308</td>\n",
       "    </tr>\n",
       "  </tbody>\n",
       "</table>\n",
       "<p>2 rows × 52433 columns</p>\n",
       "</div>"
      ],
      "text/plain": [
       "           aa aaa size  aa observ remaind  aaa size batteri  \\\n",
       "subreddit                                                     \n",
       "0             0.219308           0.196116          0.219308   \n",
       "1             0.000000           0.000000          0.000000   \n",
       "\n",
       "           aaden construct wall  aav sl uk  abandon basement pretti  \\\n",
       "subreddit                                                             \n",
       "0                      0.149337        0.0                 0.188982   \n",
       "1                      0.000000        0.5                 0.000000   \n",
       "\n",
       "           abandon content alon  abandon eyebal ad  abandon recent wa  \\\n",
       "subreddit                                                               \n",
       "0                      0.000000           0.000000           0.188982   \n",
       "1                      0.224141           0.156355           0.000000   \n",
       "\n",
       "           abbott littl piss  ...  zoolog student gen  zoom notic thi  \\\n",
       "subreddit                     ...                                       \n",
       "0                   0.000000  ...            0.183211        0.288675   \n",
       "1                   0.213201  ...            0.000000        0.000000   \n",
       "\n",
       "           zoophil servic societi  zuckerberg action hi  zuckerberg ha caus  \\\n",
       "subreddit                                                                     \n",
       "0                        0.000000              0.000000            0.000000   \n",
       "1                        0.288675              0.154303            0.154303   \n",
       "\n",
       "           zyurang becaus train  zyzz wonder wa  ôn social web  \\\n",
       "subreddit                                                        \n",
       "0                      0.000000            0.00       0.000000   \n",
       "1                      0.185695            0.25       0.180718   \n",
       "\n",
       "           þat instead advoc  博衣こよりd hashtag trend  \n",
       "subreddit                                           \n",
       "0                   0.000000              0.000000  \n",
       "1                   0.170516              0.186308  \n",
       "\n",
       "[2 rows x 52433 columns]"
      ]
     },
     "execution_count": 66,
     "metadata": {},
     "output_type": "execute_result"
    }
   ],
   "source": [
    "df_3gram = X_train_df_3gram.groupby(by='subreddit').sum()\n",
    "df_3gram"
   ]
  },
  {
   "cell_type": "code",
   "execution_count": 67,
   "metadata": {},
   "outputs": [
    {
     "data": {
      "text/plain": [
       "(15, 3)"
      ]
     },
     "execution_count": 67,
     "metadata": {},
     "output_type": "execute_result"
    }
   ],
   "source": [
    "ngrams = [] \n",
    "for i in list_3gram:\n",
    "    if (df_3gram.loc[0,i]!=0) and (df_3gram.loc[1,i]!=0):\n",
    "        ngram = {}\n",
    "        ngram['word']= i\n",
    "        ngram['value_0'] = df_3gram.loc[0,i]\n",
    "        ngram['value_1'] = df_3gram.loc[1,i]\n",
    "        ngrams.append(ngram)\n",
    "df_ngrams = pd.DataFrame(ngrams)\n",
    "df_ngrams.shape"
   ]
  },
  {
   "cell_type": "code",
   "execution_count": 68,
   "metadata": {},
   "outputs": [
    {
     "data": {
      "text/html": [
       "<div>\n",
       "<style scoped>\n",
       "    .dataframe tbody tr th:only-of-type {\n",
       "        vertical-align: middle;\n",
       "    }\n",
       "\n",
       "    .dataframe tbody tr th {\n",
       "        vertical-align: top;\n",
       "    }\n",
       "\n",
       "    .dataframe thead th {\n",
       "        text-align: right;\n",
       "    }\n",
       "</style>\n",
       "<table border=\"1\" class=\"dataframe\">\n",
       "  <thead>\n",
       "    <tr style=\"text-align: right;\">\n",
       "      <th></th>\n",
       "      <th>value_0</th>\n",
       "      <th>value_1</th>\n",
       "    </tr>\n",
       "    <tr>\n",
       "      <th>word</th>\n",
       "      <th></th>\n",
       "      <th></th>\n",
       "    </tr>\n",
       "  </thead>\n",
       "  <tbody>\n",
       "    <tr>\n",
       "      <th>doe anyon know</th>\n",
       "      <td>0.492017</td>\n",
       "      <td>4.092640</td>\n",
       "    </tr>\n",
       "    <tr>\n",
       "      <th>saw thi post</th>\n",
       "      <td>0.167028</td>\n",
       "      <td>2.847290</td>\n",
       "    </tr>\n",
       "    <tr>\n",
       "      <th>ve seen lot</th>\n",
       "      <td>0.119176</td>\n",
       "      <td>2.719830</td>\n",
       "    </tr>\n",
       "    <tr>\n",
       "      <th>doe thi mean</th>\n",
       "      <td>0.817023</td>\n",
       "      <td>2.083983</td>\n",
       "    </tr>\n",
       "    <tr>\n",
       "      <th>don know whi</th>\n",
       "      <td>0.785268</td>\n",
       "      <td>1.929924</td>\n",
       "    </tr>\n",
       "    <tr>\n",
       "      <th>don understand whi</th>\n",
       "      <td>1.300672</td>\n",
       "      <td>1.805475</td>\n",
       "    </tr>\n",
       "    <tr>\n",
       "      <th>thing like thi</th>\n",
       "      <td>0.253142</td>\n",
       "      <td>1.541798</td>\n",
       "    </tr>\n",
       "    <tr>\n",
       "      <th>someon pleas explain</th>\n",
       "      <td>1.086246</td>\n",
       "      <td>1.327627</td>\n",
       "    </tr>\n",
       "    <tr>\n",
       "      <th>whi thi happen</th>\n",
       "      <td>0.172385</td>\n",
       "      <td>1.308449</td>\n",
       "    </tr>\n",
       "    <tr>\n",
       "      <th>whi mani peopl</th>\n",
       "      <td>0.362465</td>\n",
       "      <td>1.176176</td>\n",
       "    </tr>\n",
       "    <tr>\n",
       "      <th>ve seen mani</th>\n",
       "      <td>0.743313</td>\n",
       "      <td>0.783056</td>\n",
       "    </tr>\n",
       "    <tr>\n",
       "      <th>know ha someth</th>\n",
       "      <td>0.833166</td>\n",
       "      <td>0.611792</td>\n",
       "    </tr>\n",
       "    <tr>\n",
       "      <th>like titl say</th>\n",
       "      <td>2.162923</td>\n",
       "      <td>0.597566</td>\n",
       "    </tr>\n",
       "    <tr>\n",
       "      <th>just don understand</th>\n",
       "      <td>2.184125</td>\n",
       "      <td>0.520383</td>\n",
       "    </tr>\n",
       "    <tr>\n",
       "      <th>whi doe thi</th>\n",
       "      <td>1.205727</td>\n",
       "      <td>0.318414</td>\n",
       "    </tr>\n",
       "  </tbody>\n",
       "</table>\n",
       "</div>"
      ],
      "text/plain": [
       "                       value_0   value_1\n",
       "word                                    \n",
       "doe anyon know        0.492017  4.092640\n",
       "saw thi post          0.167028  2.847290\n",
       "ve seen lot           0.119176  2.719830\n",
       "doe thi mean          0.817023  2.083983\n",
       "don know whi          0.785268  1.929924\n",
       "don understand whi    1.300672  1.805475\n",
       "thing like thi        0.253142  1.541798\n",
       "someon pleas explain  1.086246  1.327627\n",
       "whi thi happen        0.172385  1.308449\n",
       "whi mani peopl        0.362465  1.176176\n",
       "ve seen mani          0.743313  0.783056\n",
       "know ha someth        0.833166  0.611792\n",
       "like titl say         2.162923  0.597566\n",
       "just don understand   2.184125  0.520383\n",
       "whi doe thi           1.205727  0.318414"
      ]
     },
     "execution_count": 68,
     "metadata": {},
     "output_type": "execute_result"
    }
   ],
   "source": [
    "df_barchart = df_ngrams.copy()\n",
    "df_barchart.set_index('word').sort_values(by='value_1', ascending=False)"
   ]
  },
  {
   "cell_type": "code",
   "execution_count": 69,
   "metadata": {},
   "outputs": [
    {
     "data": {
      "image/png": "[encoded data removed]",
      "text/plain": [
       "<Figure size 864x576 with 1 Axes>"
      ]
     },
     "metadata": {
      "needs_background": "light"
     },
     "output_type": "display_data"
    }
   ],
   "source": [
    "# Plotting \n",
    "labels = [row for row in df_ngrams['word']]\n",
    "x = np.arange(len(labels))  # the label locations\n",
    "width = 0.35  # the width of the bars\n",
    "\n",
    "fig, ax = plt.subplots()\n",
    "fig.set_size_inches(12,8)\n",
    "rects1 = ax.barh(x - width/2, round(df_barchart['value_0'],2), width, label='ExplainLikeImFive', color='Purple', alpha = 0.5)\n",
    "rects2 = ax.barh(x + width/2, round(df_barchart['value_1'],2), width, label='OutOfTheLoop', color='Grey', alpha = 0.5)\n",
    "\n",
    "# Add some text for labels, title and custom x-axis tick labels, etc.\n",
    "ax.set_xlabel('Scores')\n",
    "ax.set_title('Trigrams weigths by Subreddits')\n",
    "ax.set_yticks(x, labels)\n",
    "ax.legend()\n",
    "\n",
    "ax.bar_label(rects1, padding=3)\n",
    "ax.bar_label(rects2, padding=3)\n",
    "\n",
    "fig.tight_layout()\n",
    "\n",
    "plt.xticks(rotation = 0)\n",
    "plt.show()"
   ]
  },
  {
   "cell_type": "code",
   "execution_count": 70,
   "metadata": {},
   "outputs": [
    {
     "data": {
      "application/vnd.plotly.v1+json": {
       "config": {
        "plotlyServerURL": "https://plot.ly"
       },
       "data": [
        {
         "hovertemplate": "<b>%{hovertext}</b><br><br>word=%{text}<br>value_0=%{marker.size}<extra></extra>",
         "hovertext": [
          "doe anyon know",
          "don understand whi",
          "saw thi post",
          "doe thi mean",
          "ve seen lot",
          "like titl say",
          "don know whi",
          "just don understand",
          "someon pleas explain",
          "thing like thi",
          "whi mani peopl",
          "ve seen mani",
          "whi doe thi",
          "whi thi happen",
          "know ha someth"
         ],
         "legendgroup": "",
         "marker": {
          "color": "purple",
          "line": {
           "color": "Gray",
           "width": 1
          },
          "opacity": 0.5,
          "size": [
           0.4920172864859951,
           1.300672196140081,
           0.16702846184161524,
           0.8170227596608468,
           0.11917557240207359,
           2.1629225516271458,
           0.785267978386619,
           2.184125451259363,
           1.0862462190262707,
           0.2531416785377547,
           0.36246508037204683,
           0.7433128189606477,
           1.2057273343864667,
           0.17238469908428203,
           0.8331656212534508
          ],
          "sizemode": "area",
          "sizeref": 0.0010785804697577102,
          "symbol": "circle"
         },
         "mode": "markers+text",
         "name": "",
         "orientation": "v",
         "showlegend": false,
         "text": [
          "doe anyon know",
          "don understand whi",
          "saw thi post",
          "doe thi mean",
          "ve seen lot",
          "like titl say",
          "don know whi",
          "just don understand",
          "someon pleas explain",
          "thing like thi",
          "whi mani peopl",
          "ve seen mani",
          "whi doe thi",
          "whi thi happen",
          "know ha someth"
         ],
         "type": "scatter",
         "x": [
          "doe anyon know",
          "don understand whi",
          "saw thi post",
          "doe thi mean",
          "ve seen lot",
          "like titl say",
          "don know whi",
          "just don understand",
          "someon pleas explain",
          "thing like thi",
          "whi mani peopl",
          "ve seen mani",
          "whi doe thi",
          "whi thi happen",
          "know ha someth"
         ],
         "xaxis": "x",
         "y": [
          0.4920172864859951,
          1.300672196140081,
          0.16702846184161524,
          0.8170227596608468,
          0.11917557240207359,
          2.1629225516271458,
          0.785267978386619,
          2.184125451259363,
          1.0862462190262707,
          0.2531416785377547,
          0.36246508037204683,
          0.7433128189606477,
          1.2057273343864667,
          0.17238469908428203,
          0.8331656212534508
         ],
         "yaxis": "y"
        }
       ],
       "layout": {
        "legend": {
         "itemsizing": "constant",
         "tracegroupgap": 0
        },
        "template": {
         "data": {
          "bar": [
           {
            "error_x": {
             "color": "#2a3f5f"
            },
            "error_y": {
             "color": "#2a3f5f"
            },
            "marker": {
             "line": {
              "color": "white",
              "width": 0.5
             },
             "pattern": {
              "fillmode": "overlay",
              "size": 10,
              "solidity": 0.2
             }
            },
            "type": "bar"
           }
          ],
          "barpolar": [
           {
            "marker": {
             "line": {
              "color": "white",
              "width": 0.5
             },
             "pattern": {
              "fillmode": "overlay",
              "size": 10,
              "solidity": 0.2
             }
            },
            "type": "barpolar"
           }
          ],
          "carpet": [
           {
            "aaxis": {
             "endlinecolor": "#2a3f5f",
             "gridcolor": "#C8D4E3",
             "linecolor": "#C8D4E3",
             "minorgridcolor": "#C8D4E3",
             "startlinecolor": "#2a3f5f"
            },
            "baxis": {
             "endlinecolor": "#2a3f5f",
             "gridcolor": "#C8D4E3",
             "linecolor": "#C8D4E3",
             "minorgridcolor": "#C8D4E3",
             "startlinecolor": "#2a3f5f"
            },
            "type": "carpet"
           }
          ],
          "choropleth": [
           {
            "colorbar": {
             "outlinewidth": 0,
             "ticks": ""
            },
            "type": "choropleth"
           }
          ],
          "contour": [
           {
            "colorbar": {
             "outlinewidth": 0,
             "ticks": ""
            },
            "colorscale": [
             [
              0,
              "#0d0887"
             ],
             [
              0.1111111111111111,
              "#46039f"
             ],
             [
              0.2222222222222222,
              "#7201a8"
             ],
             [
              0.3333333333333333,
              "#9c179e"
             ],
             [
              0.4444444444444444,
              "#bd3786"
             ],
             [
              0.5555555555555556,
              "#d8576b"
             ],
             [
              0.6666666666666666,
              "#ed7953"
             ],
             [
              0.7777777777777778,
              "#fb9f3a"
             ],
             [
              0.8888888888888888,
              "#fdca26"
             ],
             [
              1,
              "#f0f921"
             ]
            ],
            "type": "contour"
           }
          ],
          "contourcarpet": [
           {
            "colorbar": {
             "outlinewidth": 0,
             "ticks": ""
            },
            "type": "contourcarpet"
           }
          ],
          "heatmap": [
           {
            "colorbar": {
             "outlinewidth": 0,
             "ticks": ""
            },
            "colorscale": [
             [
              0,
              "#0d0887"
             ],
             [
              0.1111111111111111,
              "#46039f"
             ],
             [
              0.2222222222222222,
              "#7201a8"
             ],
             [
              0.3333333333333333,
              "#9c179e"
             ],
             [
              0.4444444444444444,
              "#bd3786"
             ],
             [
              0.5555555555555556,
              "#d8576b"
             ],
             [
              0.6666666666666666,
              "#ed7953"
             ],
             [
              0.7777777777777778,
              "#fb9f3a"
             ],
             [
              0.8888888888888888,
              "#fdca26"
             ],
             [
              1,
              "#f0f921"
             ]
            ],
            "type": "heatmap"
           }
          ],
          "heatmapgl": [
           {
            "colorbar": {
             "outlinewidth": 0,
             "ticks": ""
            },
            "colorscale": [
             [
              0,
              "#0d0887"
             ],
             [
              0.1111111111111111,
              "#46039f"
             ],
             [
              0.2222222222222222,
              "#7201a8"
             ],
             [
              0.3333333333333333,
              "#9c179e"
             ],
             [
              0.4444444444444444,
              "#bd3786"
             ],
             [
              0.5555555555555556,
              "#d8576b"
             ],
             [
              0.6666666666666666,
              "#ed7953"
             ],
             [
              0.7777777777777778,
              "#fb9f3a"
             ],
             [
              0.8888888888888888,
              "#fdca26"
             ],
             [
              1,
              "#f0f921"
             ]
            ],
            "type": "heatmapgl"
           }
          ],
          "histogram": [
           {
            "marker": {
             "pattern": {
              "fillmode": "overlay",
              "size": 10,
              "solidity": 0.2
             }
            },
            "type": "histogram"
           }
          ],
          "histogram2d": [
           {
            "colorbar": {
             "outlinewidth": 0,
             "ticks": ""
            },
            "colorscale": [
             [
              0,
              "#0d0887"
             ],
             [
              0.1111111111111111,
              "#46039f"
             ],
             [
              0.2222222222222222,
              "#7201a8"
             ],
             [
              0.3333333333333333,
              "#9c179e"
             ],
             [
              0.4444444444444444,
              "#bd3786"
             ],
             [
              0.5555555555555556,
              "#d8576b"
             ],
             [
              0.6666666666666666,
              "#ed7953"
             ],
             [
              0.7777777777777778,
              "#fb9f3a"
             ],
             [
              0.8888888888888888,
              "#fdca26"
             ],
             [
              1,
              "#f0f921"
             ]
            ],
            "type": "histogram2d"
           }
          ],
          "histogram2dcontour": [
           {
            "colorbar": {
             "outlinewidth": 0,
             "ticks": ""
            },
            "colorscale": [
             [
              0,
              "#0d0887"
             ],
             [
              0.1111111111111111,
              "#46039f"
             ],
             [
              0.2222222222222222,
              "#7201a8"
             ],
             [
              0.3333333333333333,
              "#9c179e"
             ],
             [
              0.4444444444444444,
              "#bd3786"
             ],
             [
              0.5555555555555556,
              "#d8576b"
             ],
             [
              0.6666666666666666,
              "#ed7953"
             ],
             [
              0.7777777777777778,
              "#fb9f3a"
             ],
             [
              0.8888888888888888,
              "#fdca26"
             ],
             [
              1,
              "#f0f921"
             ]
            ],
            "type": "histogram2dcontour"
           }
          ],
          "mesh3d": [
           {
            "colorbar": {
             "outlinewidth": 0,
             "ticks": ""
            },
            "type": "mesh3d"
           }
          ],
          "parcoords": [
           {
            "line": {
             "colorbar": {
              "outlinewidth": 0,
              "ticks": ""
             }
            },
            "type": "parcoords"
           }
          ],
          "pie": [
           {
            "automargin": true,
            "type": "pie"
           }
          ],
          "scatter": [
           {
            "marker": {
             "colorbar": {
              "outlinewidth": 0,
              "ticks": ""
             }
            },
            "type": "scatter"
           }
          ],
          "scatter3d": [
           {
            "line": {
             "colorbar": {
              "outlinewidth": 0,
              "ticks": ""
             }
            },
            "marker": {
             "colorbar": {
              "outlinewidth": 0,
              "ticks": ""
             }
            },
            "type": "scatter3d"
           }
          ],
          "scattercarpet": [
           {
            "marker": {
             "colorbar": {
              "outlinewidth": 0,
              "ticks": ""
             }
            },
            "type": "scattercarpet"
           }
          ],
          "scattergeo": [
           {
            "marker": {
             "colorbar": {
              "outlinewidth": 0,
              "ticks": ""
             }
            },
            "type": "scattergeo"
           }
          ],
          "scattergl": [
           {
            "marker": {
             "colorbar": {
              "outlinewidth": 0,
              "ticks": ""
             }
            },
            "type": "scattergl"
           }
          ],
          "scattermapbox": [
           {
            "marker": {
             "colorbar": {
              "outlinewidth": 0,
              "ticks": ""
             }
            },
            "type": "scattermapbox"
           }
          ],
          "scatterpolar": [
           {
            "marker": {
             "colorbar": {
              "outlinewidth": 0,
              "ticks": ""
             }
            },
            "type": "scatterpolar"
           }
          ],
          "scatterpolargl": [
           {
            "marker": {
             "colorbar": {
              "outlinewidth": 0,
              "ticks": ""
             }
            },
            "type": "scatterpolargl"
           }
          ],
          "scatterternary": [
           {
            "marker": {
             "colorbar": {
              "outlinewidth": 0,
              "ticks": ""
             }
            },
            "type": "scatterternary"
           }
          ],
          "surface": [
           {
            "colorbar": {
             "outlinewidth": 0,
             "ticks": ""
            },
            "colorscale": [
             [
              0,
              "#0d0887"
             ],
             [
              0.1111111111111111,
              "#46039f"
             ],
             [
              0.2222222222222222,
              "#7201a8"
             ],
             [
              0.3333333333333333,
              "#9c179e"
             ],
             [
              0.4444444444444444,
              "#bd3786"
             ],
             [
              0.5555555555555556,
              "#d8576b"
             ],
             [
              0.6666666666666666,
              "#ed7953"
             ],
             [
              0.7777777777777778,
              "#fb9f3a"
             ],
             [
              0.8888888888888888,
              "#fdca26"
             ],
             [
              1,
              "#f0f921"
             ]
            ],
            "type": "surface"
           }
          ],
          "table": [
           {
            "cells": {
             "fill": {
              "color": "#EBF0F8"
             },
             "line": {
              "color": "white"
             }
            },
            "header": {
             "fill": {
              "color": "#C8D4E3"
             },
             "line": {
              "color": "white"
             }
            },
            "type": "table"
           }
          ]
         },
         "layout": {
          "annotationdefaults": {
           "arrowcolor": "#2a3f5f",
           "arrowhead": 0,
           "arrowwidth": 1
          },
          "autotypenumbers": "strict",
          "coloraxis": {
           "colorbar": {
            "outlinewidth": 0,
            "ticks": ""
           }
          },
          "colorscale": {
           "diverging": [
            [
             0,
             "#8e0152"
            ],
            [
             0.1,
             "#c51b7d"
            ],
            [
             0.2,
             "#de77ae"
            ],
            [
             0.3,
             "#f1b6da"
            ],
            [
             0.4,
             "#fde0ef"
            ],
            [
             0.5,
             "#f7f7f7"
            ],
            [
             0.6,
             "#e6f5d0"
            ],
            [
             0.7,
             "#b8e186"
            ],
            [
             0.8,
             "#7fbc41"
            ],
            [
             0.9,
             "#4d9221"
            ],
            [
             1,
             "#276419"
            ]
           ],
           "sequential": [
            [
             0,
             "#0d0887"
            ],
            [
             0.1111111111111111,
             "#46039f"
            ],
            [
             0.2222222222222222,
             "#7201a8"
            ],
            [
             0.3333333333333333,
             "#9c179e"
            ],
            [
             0.4444444444444444,
             "#bd3786"
            ],
            [
             0.5555555555555556,
             "#d8576b"
            ],
            [
             0.6666666666666666,
             "#ed7953"
            ],
            [
             0.7777777777777778,
             "#fb9f3a"
            ],
            [
             0.8888888888888888,
             "#fdca26"
            ],
            [
             1,
             "#f0f921"
            ]
           ],
           "sequentialminus": [
            [
             0,
             "#0d0887"
            ],
            [
             0.1111111111111111,
             "#46039f"
            ],
            [
             0.2222222222222222,
             "#7201a8"
            ],
            [
             0.3333333333333333,
             "#9c179e"
            ],
            [
             0.4444444444444444,
             "#bd3786"
            ],
            [
             0.5555555555555556,
             "#d8576b"
            ],
            [
             0.6666666666666666,
             "#ed7953"
            ],
            [
             0.7777777777777778,
             "#fb9f3a"
            ],
            [
             0.8888888888888888,
             "#fdca26"
            ],
            [
             1,
             "#f0f921"
            ]
           ]
          },
          "colorway": [
           "#636efa",
           "#EF553B",
           "#00cc96",
           "#ab63fa",
           "#FFA15A",
           "#19d3f3",
           "#FF6692",
           "#B6E880",
           "#FF97FF",
           "#FECB52"
          ],
          "font": {
           "color": "#2a3f5f"
          },
          "geo": {
           "bgcolor": "white",
           "lakecolor": "white",
           "landcolor": "white",
           "showlakes": true,
           "showland": true,
           "subunitcolor": "#C8D4E3"
          },
          "hoverlabel": {
           "align": "left"
          },
          "hovermode": "closest",
          "mapbox": {
           "style": "light"
          },
          "paper_bgcolor": "white",
          "plot_bgcolor": "white",
          "polar": {
           "angularaxis": {
            "gridcolor": "#EBF0F8",
            "linecolor": "#EBF0F8",
            "ticks": ""
           },
           "bgcolor": "white",
           "radialaxis": {
            "gridcolor": "#EBF0F8",
            "linecolor": "#EBF0F8",
            "ticks": ""
           }
          },
          "scene": {
           "xaxis": {
            "backgroundcolor": "white",
            "gridcolor": "#DFE8F3",
            "gridwidth": 2,
            "linecolor": "#EBF0F8",
            "showbackground": true,
            "ticks": "",
            "zerolinecolor": "#EBF0F8"
           },
           "yaxis": {
            "backgroundcolor": "white",
            "gridcolor": "#DFE8F3",
            "gridwidth": 2,
            "linecolor": "#EBF0F8",
            "showbackground": true,
            "ticks": "",
            "zerolinecolor": "#EBF0F8"
           },
           "zaxis": {
            "backgroundcolor": "white",
            "gridcolor": "#DFE8F3",
            "gridwidth": 2,
            "linecolor": "#EBF0F8",
            "showbackground": true,
            "ticks": "",
            "zerolinecolor": "#EBF0F8"
           }
          },
          "shapedefaults": {
           "line": {
            "color": "#2a3f5f"
           }
          },
          "ternary": {
           "aaxis": {
            "gridcolor": "#DFE8F3",
            "linecolor": "#A2B1C6",
            "ticks": ""
           },
           "baxis": {
            "gridcolor": "#DFE8F3",
            "linecolor": "#A2B1C6",
            "ticks": ""
           },
           "bgcolor": "white",
           "caxis": {
            "gridcolor": "#DFE8F3",
            "linecolor": "#A2B1C6",
            "ticks": ""
           }
          },
          "title": {
           "x": 0.05
          },
          "xaxis": {
           "automargin": true,
           "gridcolor": "#EBF0F8",
           "linecolor": "#EBF0F8",
           "ticks": "",
           "title": {
            "standoff": 15
           },
           "zerolinecolor": "#EBF0F8",
           "zerolinewidth": 2
          },
          "yaxis": {
           "automargin": true,
           "gridcolor": "#EBF0F8",
           "linecolor": "#EBF0F8",
           "ticks": "",
           "title": {
            "standoff": 15
           },
           "zerolinecolor": "#EBF0F8",
           "zerolinewidth": 2
          }
         }
        },
        "title": {
         "text": "Trigram Similarity | Explain Like Im Five"
        },
        "xaxis": {
         "anchor": "y",
         "domain": [
          0,
          1
         ],
         "title": {
          "text": "word"
         },
         "visible": false
        },
        "yaxis": {
         "anchor": "x",
         "domain": [
          0,
          1
         ],
         "title": {
          "text": "value_0"
         },
         "visible": false
        }
       }
      }
     },
     "metadata": {},
     "output_type": "display_data"
    }
   ],
   "source": [
    "# Explain like I'm Five\n",
    "\n",
    "fig1 = px.scatter(\n",
    "        df_ngrams, x = 'word', y = 'value_0', \n",
    "        hover_name = 'word', text='word', size='value_0',  size_max=45, \n",
    "        template = 'plotly_white', \n",
    "        title = 'Trigram Similarity | Explain Like Im Five', \n",
    "        labels={'value_1': 'Avg. Length<BR>(words)'}, \n",
    "        color_discrete_sequence = ['purple'],\n",
    "        opacity=0.5\n",
    "        #color_continuous_scale = 'red' #px.colors.sequential.Blackbody\n",
    "        )\n",
    "fig1.update_traces(marker=dict(line=dict(width=1, color='Gray')))\n",
    "fig1.update_xaxes(visible=False)\n",
    "fig1.update_yaxes(visible=False)\n",
    "fig1.show();\n"
   ]
  }
 ],
 "metadata": {
  "kernelspec": {
   "display_name": "Python 3.9.12 ('base')",
   "language": "python",
   "name": "python3"
  },
  "language_info": {
   "codemirror_mode": {
    "name": "ipython",
    "version": 3
   },
   "file_extension": ".py",
   "mimetype": "text/x-python",
   "name": "python",
   "nbconvert_exporter": "python",
   "pygments_lexer": "ipython3",
   "version": "3.9.12"
  },
  "orig_nbformat": 4,
  "vscode": {
   "interpreter": {
    "hash": "34f45a2ba0fbc03e28e7f7a41cd378a2ce17a9c291c97b9041ffb2d877b082e9"
   }
  }
 },
 "nbformat": 4,
 "nbformat_minor": 2
}
